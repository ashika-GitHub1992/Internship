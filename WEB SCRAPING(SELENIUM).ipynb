{
 "cells": [
  {
   "cell_type": "markdown",
   "id": "d4c29b2b",
   "metadata": {},
   "source": [
    "# WEB SCRAPING(SELENIUM)"
   ]
  },
  {
   "cell_type": "code",
   "execution_count": 1,
   "id": "acbdcc48",
   "metadata": {},
   "outputs": [
    {
     "name": "stdout",
     "output_type": "stream",
     "text": [
      "Requirement already satisfied: selenium in c:\\users\\dell\\anaconda3\\lib\\site-packages (3.141.0)\n",
      "Requirement already satisfied: urllib3 in c:\\users\\dell\\anaconda3\\lib\\site-packages (from selenium) (1.26.4)\n"
     ]
    }
   ],
   "source": [
    "#Install Selenium library\n",
    "!pip install selenium"
   ]
  },
  {
   "cell_type": "code",
   "execution_count": 2,
   "id": "706b5096",
   "metadata": {},
   "outputs": [],
   "source": [
    "#Download the web driver for the web browser\n",
    "#chromedriver.chromium.org/downloads"
   ]
  },
  {
   "cell_type": "code",
   "execution_count": 3,
   "id": "894af9e2",
   "metadata": {},
   "outputs": [],
   "source": [
    "#import all the required libraries\n",
    "import selenium\n",
    "import pandas as pd\n",
    "from selenium import webdriver"
   ]
  },
  {
   "cell_type": "code",
   "execution_count": 7,
   "id": "639b0b17",
   "metadata": {},
   "outputs": [],
   "source": [
    "# Q1) Python program to scrape data for “Data Analyst” Job position in\n",
    "#“Bangalore” location. You have to scrape the job-title, job-location, company_name,\n",
    "#experience_required. You have to scrape first 10 jobs data.\n",
    "\n",
    "#connect to the webdriver\n",
    "driver=webdriver.Chrome(\"chromedriver.exe\")"
   ]
  },
  {
   "cell_type": "code",
   "execution_count": 8,
   "id": "27b3f26e",
   "metadata": {},
   "outputs": [],
   "source": [
    "url='https://www.naukri.com/'\n",
    "driver.get(url)"
   ]
  },
  {
   "cell_type": "code",
   "execution_count": 9,
   "id": "83bec858",
   "metadata": {},
   "outputs": [
    {
     "data": {
      "text/plain": [
       "<selenium.webdriver.remote.webelement.WebElement (session=\"1ab206c250706f025b72884ba2c9e96d\", element=\"10999efd-8ae4-4b00-8adb-ed7fda38c13d\")>"
      ]
     },
     "execution_count": 9,
     "metadata": {},
     "output_type": "execute_result"
    }
   ],
   "source": [
    "#finding element for job title\n",
    "\n",
    "search_job=driver.find_element_by_id('qsb-keyword-sugg')\n",
    "search_job"
   ]
  },
  {
   "cell_type": "code",
   "execution_count": 10,
   "id": "3010ad81",
   "metadata": {},
   "outputs": [],
   "source": [
    "#sending keys on search bar\n",
    "search_job.send_keys(\"Data analyst\")"
   ]
  },
  {
   "cell_type": "code",
   "execution_count": 11,
   "id": "80a04e99",
   "metadata": {},
   "outputs": [
    {
     "data": {
      "text/plain": [
       "<selenium.webdriver.remote.webelement.WebElement (session=\"1ab206c250706f025b72884ba2c9e96d\", element=\"a2265865-70c5-409a-acf6-c3740f95cf6e\")>"
      ]
     },
     "execution_count": 11,
     "metadata": {},
     "output_type": "execute_result"
    }
   ],
   "source": [
    "#finding element for location\n",
    "\n",
    "search_loc=driver.find_element_by_id('qsb-location-sugg')\n",
    "search_loc"
   ]
  },
  {
   "cell_type": "code",
   "execution_count": 12,
   "id": "34e1496f",
   "metadata": {},
   "outputs": [],
   "source": [
    "#sending keys on search bar\n",
    "search_loc.send_keys(\"Bangalore\")"
   ]
  },
  {
   "cell_type": "code",
   "execution_count": 13,
   "id": "848f0b0b",
   "metadata": {},
   "outputs": [
    {
     "data": {
      "text/plain": [
       "<selenium.webdriver.remote.webelement.WebElement (session=\"1ab206c250706f025b72884ba2c9e96d\", element=\"77ab22ca-0742-412c-b589-c86e1154361c\")>"
      ]
     },
     "execution_count": 13,
     "metadata": {},
     "output_type": "execute_result"
    }
   ],
   "source": [
    "#click on search using xpath function\n",
    "\n",
    "search_btn=driver.find_element_by_xpath(\"//button[@class='btn']\")\n",
    "search_btn"
   ]
  },
  {
   "cell_type": "code",
   "execution_count": 14,
   "id": "c387dfa4",
   "metadata": {},
   "outputs": [],
   "source": [
    "search_btn.click()"
   ]
  },
  {
   "cell_type": "code",
   "execution_count": 15,
   "id": "cc7693e7",
   "metadata": {},
   "outputs": [
    {
     "data": {
      "text/plain": [
       "[<selenium.webdriver.remote.webelement.WebElement (session=\"1ab206c250706f025b72884ba2c9e96d\", element=\"688705dc-aa52-4c92-bb93-f50a920d0ff2\")>,\n",
       " <selenium.webdriver.remote.webelement.WebElement (session=\"1ab206c250706f025b72884ba2c9e96d\", element=\"88af6795-36f3-46a6-b406-80461c038188\")>,\n",
       " <selenium.webdriver.remote.webelement.WebElement (session=\"1ab206c250706f025b72884ba2c9e96d\", element=\"caad80ec-69f7-450d-8a16-6632c087a48d\")>,\n",
       " <selenium.webdriver.remote.webelement.WebElement (session=\"1ab206c250706f025b72884ba2c9e96d\", element=\"0173a121-fa79-4862-b969-2afcca2f715b\")>,\n",
       " <selenium.webdriver.remote.webelement.WebElement (session=\"1ab206c250706f025b72884ba2c9e96d\", element=\"4cfba83d-4c2a-4408-b400-e6c83e2bfbbc\")>,\n",
       " <selenium.webdriver.remote.webelement.WebElement (session=\"1ab206c250706f025b72884ba2c9e96d\", element=\"18a6eb9a-5d73-4e10-a4ba-dee67f8d9ce9\")>,\n",
       " <selenium.webdriver.remote.webelement.WebElement (session=\"1ab206c250706f025b72884ba2c9e96d\", element=\"b5e6f8e4-fb87-4395-8c56-64fb2f8e334c\")>,\n",
       " <selenium.webdriver.remote.webelement.WebElement (session=\"1ab206c250706f025b72884ba2c9e96d\", element=\"446431a6-1e15-4b52-9ea9-1e76c546b554\")>,\n",
       " <selenium.webdriver.remote.webelement.WebElement (session=\"1ab206c250706f025b72884ba2c9e96d\", element=\"44cfcb57-881e-4580-bfd6-213311f5f7a2\")>,\n",
       " <selenium.webdriver.remote.webelement.WebElement (session=\"1ab206c250706f025b72884ba2c9e96d\", element=\"81b31b83-1f6d-4fda-89d6-b65eb6522b84\")>,\n",
       " <selenium.webdriver.remote.webelement.WebElement (session=\"1ab206c250706f025b72884ba2c9e96d\", element=\"a8db332f-7e2d-4c11-87b0-8f8faf46426d\")>,\n",
       " <selenium.webdriver.remote.webelement.WebElement (session=\"1ab206c250706f025b72884ba2c9e96d\", element=\"347bbba1-d3d1-49c2-a5e1-351276f31cdc\")>,\n",
       " <selenium.webdriver.remote.webelement.WebElement (session=\"1ab206c250706f025b72884ba2c9e96d\", element=\"0c9b56ae-c02d-4a4a-9b0f-56afd0629dfe\")>,\n",
       " <selenium.webdriver.remote.webelement.WebElement (session=\"1ab206c250706f025b72884ba2c9e96d\", element=\"3ae5dcc4-6c1d-48b5-8ec2-010976851870\")>,\n",
       " <selenium.webdriver.remote.webelement.WebElement (session=\"1ab206c250706f025b72884ba2c9e96d\", element=\"97cec15a-f97f-4e1f-a903-5d7035117f2c\")>,\n",
       " <selenium.webdriver.remote.webelement.WebElement (session=\"1ab206c250706f025b72884ba2c9e96d\", element=\"573347d5-4aac-4c7e-ae8c-a0489e796462\")>,\n",
       " <selenium.webdriver.remote.webelement.WebElement (session=\"1ab206c250706f025b72884ba2c9e96d\", element=\"55302003-53da-4118-9609-6f3ffdceba69\")>,\n",
       " <selenium.webdriver.remote.webelement.WebElement (session=\"1ab206c250706f025b72884ba2c9e96d\", element=\"702e9752-91fe-464d-89d3-28610d449fc7\")>,\n",
       " <selenium.webdriver.remote.webelement.WebElement (session=\"1ab206c250706f025b72884ba2c9e96d\", element=\"68711ecd-c5cb-4a82-baeb-f8ebbd4dda86\")>,\n",
       " <selenium.webdriver.remote.webelement.WebElement (session=\"1ab206c250706f025b72884ba2c9e96d\", element=\"ff0d1acf-b40d-4458-b1c6-f4dbd74f3be4\")>]"
      ]
     },
     "execution_count": 15,
     "metadata": {},
     "output_type": "execute_result"
    }
   ],
   "source": [
    "#finding all the job titles\n",
    "\n",
    "job_titles=driver.find_elements_by_xpath(\"//a[@class='title fw500 ellipsis']\")\n",
    "job_titles"
   ]
  },
  {
   "cell_type": "code",
   "execution_count": 16,
   "id": "74268fbe",
   "metadata": {},
   "outputs": [
    {
     "data": {
      "text/plain": [
       "['Senior Data Analyst',\n",
       " 'Tcs Hiring For Senior Data Analyst (bfsi domain)',\n",
       " 'Business Data Analyst',\n",
       " 'Business Data Analyst',\n",
       " 'Business Data Analyst - Google Data Studio & SQL',\n",
       " 'Senior Data Analyst',\n",
       " 'Tcs Hiring For MDM (master data management) Data Analyst (bfsi domain)',\n",
       " 'Senior Data Analyst IDAM Services',\n",
       " 'Data Analyst/Sr.Data Engineer',\n",
       " 'SENIOR DATA ANALYST',\n",
       " 'Executive Data Analyst',\n",
       " 'Senior Data Analyst IN4',\n",
       " 'Analyst & Designer - Software - Data Analysis',\n",
       " 'Data Analyst - I/II',\n",
       " 'Systems and Data Analyst, Safety and Provisioning',\n",
       " 'Data Analyst',\n",
       " 'Business Data Analyst - MIS & Reporting',\n",
       " 'Sr Data Analyst',\n",
       " 'Senior Data Analyst',\n",
       " 'Senior Data Analyst']"
      ]
     },
     "execution_count": 16,
     "metadata": {},
     "output_type": "execute_result"
    }
   ],
   "source": [
    "#extracting texts from web elements using for loop\n",
    "Titles=[]\n",
    "for i in job_titles:\n",
    "    Titles.append(i.text)\n",
    "Titles"
   ]
  },
  {
   "cell_type": "code",
   "execution_count": 17,
   "id": "ad90937a",
   "metadata": {},
   "outputs": [
    {
     "data": {
      "text/plain": [
       "[<selenium.webdriver.remote.webelement.WebElement (session=\"1ab206c250706f025b72884ba2c9e96d\", element=\"1298a0b7-2778-4928-a403-49a7d944c13b\")>,\n",
       " <selenium.webdriver.remote.webelement.WebElement (session=\"1ab206c250706f025b72884ba2c9e96d\", element=\"f0b29c97-b04c-46cb-ad2f-7aca539dd5ce\")>,\n",
       " <selenium.webdriver.remote.webelement.WebElement (session=\"1ab206c250706f025b72884ba2c9e96d\", element=\"fe717ea2-bd4e-4064-8489-9b8740c36576\")>,\n",
       " <selenium.webdriver.remote.webelement.WebElement (session=\"1ab206c250706f025b72884ba2c9e96d\", element=\"ee1a2143-26f8-4b4e-804a-7a7cbe6193a5\")>,\n",
       " <selenium.webdriver.remote.webelement.WebElement (session=\"1ab206c250706f025b72884ba2c9e96d\", element=\"111b5a76-6309-4894-a57b-d61e53c077da\")>,\n",
       " <selenium.webdriver.remote.webelement.WebElement (session=\"1ab206c250706f025b72884ba2c9e96d\", element=\"201e6608-cdba-460e-9e4b-34f130c4ae29\")>,\n",
       " <selenium.webdriver.remote.webelement.WebElement (session=\"1ab206c250706f025b72884ba2c9e96d\", element=\"2b7c3512-aef4-4901-839c-367aae906a80\")>,\n",
       " <selenium.webdriver.remote.webelement.WebElement (session=\"1ab206c250706f025b72884ba2c9e96d\", element=\"2ebdabf4-8653-4ffb-a529-828e5549e428\")>,\n",
       " <selenium.webdriver.remote.webelement.WebElement (session=\"1ab206c250706f025b72884ba2c9e96d\", element=\"cea870ca-f114-4e57-982f-8deb835a2116\")>,\n",
       " <selenium.webdriver.remote.webelement.WebElement (session=\"1ab206c250706f025b72884ba2c9e96d\", element=\"3be3cd05-4ab9-4926-9db8-c5dbf515ae74\")>,\n",
       " <selenium.webdriver.remote.webelement.WebElement (session=\"1ab206c250706f025b72884ba2c9e96d\", element=\"29a71e36-0b25-4efa-a6ee-85a3fa688f3d\")>,\n",
       " <selenium.webdriver.remote.webelement.WebElement (session=\"1ab206c250706f025b72884ba2c9e96d\", element=\"3b9ece8e-3982-432d-bb34-3e635e52bdda\")>,\n",
       " <selenium.webdriver.remote.webelement.WebElement (session=\"1ab206c250706f025b72884ba2c9e96d\", element=\"2e3a5e91-39f6-48f3-bdb0-64b192b80ed4\")>,\n",
       " <selenium.webdriver.remote.webelement.WebElement (session=\"1ab206c250706f025b72884ba2c9e96d\", element=\"9eaaf4a2-97b8-4126-86ba-96bfa70bc7bc\")>,\n",
       " <selenium.webdriver.remote.webelement.WebElement (session=\"1ab206c250706f025b72884ba2c9e96d\", element=\"e9ff8650-e93e-4152-9962-8ca58c86a866\")>,\n",
       " <selenium.webdriver.remote.webelement.WebElement (session=\"1ab206c250706f025b72884ba2c9e96d\", element=\"84eda28d-cc29-48a6-9d01-27f50f67eea6\")>,\n",
       " <selenium.webdriver.remote.webelement.WebElement (session=\"1ab206c250706f025b72884ba2c9e96d\", element=\"ee156314-b91a-42dd-9481-5117a31773e5\")>,\n",
       " <selenium.webdriver.remote.webelement.WebElement (session=\"1ab206c250706f025b72884ba2c9e96d\", element=\"e7355367-4d2d-4693-b77a-5949fbe388ae\")>,\n",
       " <selenium.webdriver.remote.webelement.WebElement (session=\"1ab206c250706f025b72884ba2c9e96d\", element=\"c178401a-35c6-4e2f-aa90-905feeecc923\")>,\n",
       " <selenium.webdriver.remote.webelement.WebElement (session=\"1ab206c250706f025b72884ba2c9e96d\", element=\"2ff83b97-0f0e-4f16-966d-e95182ca5aab\")>]"
      ]
     },
     "execution_count": 17,
     "metadata": {},
     "output_type": "execute_result"
    }
   ],
   "source": [
    "#finding the company name\n",
    "\n",
    "company_tags=driver.find_elements_by_xpath(\"//a[@class='subTitle ellipsis fleft']\")\n",
    "company_tags"
   ]
  },
  {
   "cell_type": "code",
   "execution_count": 18,
   "id": "01c5f06c",
   "metadata": {},
   "outputs": [
    {
     "data": {
      "text/plain": [
       "['Gaussian Networks Private Limited',\n",
       " 'Tata Consultancy Services Ltd.',\n",
       " 'Trigent Software',\n",
       " 'Trigent Software',\n",
       " 'AVE-Promagne',\n",
       " 'Virtusa Consulting Services Pvt Ltd',\n",
       " 'Tata Consultancy Services Ltd.',\n",
       " 'GlaxoSmithKline Pharmaceuticals Limited',\n",
       " 'SYREN TECHNOLOGIES PRIVATE LIMITED',\n",
       " 'McAfee Software (India) Pvt. Ltd',\n",
       " 'Gokaldas Exports Ltd',\n",
       " 'Walmart Labs',\n",
       " 'HyreFox Consultants Pvt Ltd',\n",
       " 'Philips India Limited',\n",
       " 'AECOM India Private Limited',\n",
       " 'IBM India Pvt. Limited',\n",
       " 'INTERTRUST GROUP',\n",
       " 'Empower Retirement',\n",
       " 'Flipkart',\n",
       " 'Flipkart']"
      ]
     },
     "execution_count": 18,
     "metadata": {},
     "output_type": "execute_result"
    }
   ],
   "source": [
    "#extracting the text using for loop\n",
    "company_names=[]\n",
    "for i in company_tags:\n",
    "    company_names.append(i.text)\n",
    "company_names"
   ]
  },
  {
   "cell_type": "code",
   "execution_count": 19,
   "id": "451c8665",
   "metadata": {},
   "outputs": [
    {
     "data": {
      "text/plain": [
       "[<selenium.webdriver.remote.webelement.WebElement (session=\"1ab206c250706f025b72884ba2c9e96d\", element=\"0dc6efec-53e4-454f-a3f9-1ea23c5e11d7\")>,\n",
       " <selenium.webdriver.remote.webelement.WebElement (session=\"1ab206c250706f025b72884ba2c9e96d\", element=\"7e6da26a-a31c-4fa9-b10d-bc156514f191\")>,\n",
       " <selenium.webdriver.remote.webelement.WebElement (session=\"1ab206c250706f025b72884ba2c9e96d\", element=\"1febcc12-cd0a-4246-be7a-d928f3eafaf7\")>,\n",
       " <selenium.webdriver.remote.webelement.WebElement (session=\"1ab206c250706f025b72884ba2c9e96d\", element=\"084ef7a8-04d5-450d-8c6a-6e24c8badaf0\")>,\n",
       " <selenium.webdriver.remote.webelement.WebElement (session=\"1ab206c250706f025b72884ba2c9e96d\", element=\"2a7d2d3c-1bc3-4b2e-bbad-b2c69e064421\")>,\n",
       " <selenium.webdriver.remote.webelement.WebElement (session=\"1ab206c250706f025b72884ba2c9e96d\", element=\"b31ee1b2-77d9-47f4-a9ba-aa8ad9fd2aff\")>,\n",
       " <selenium.webdriver.remote.webelement.WebElement (session=\"1ab206c250706f025b72884ba2c9e96d\", element=\"d08bfd09-70ba-4b04-965f-86f0b05a5e6c\")>,\n",
       " <selenium.webdriver.remote.webelement.WebElement (session=\"1ab206c250706f025b72884ba2c9e96d\", element=\"080b7f09-9beb-4bb7-90d1-fa3c5183204e\")>,\n",
       " <selenium.webdriver.remote.webelement.WebElement (session=\"1ab206c250706f025b72884ba2c9e96d\", element=\"2035a63b-f4ea-4670-bea2-b1b92282d5fe\")>,\n",
       " <selenium.webdriver.remote.webelement.WebElement (session=\"1ab206c250706f025b72884ba2c9e96d\", element=\"999953ea-6db1-4c68-b617-ea7ba433b837\")>,\n",
       " <selenium.webdriver.remote.webelement.WebElement (session=\"1ab206c250706f025b72884ba2c9e96d\", element=\"ec143590-bf77-4a68-aec3-8fdfa6b0e383\")>,\n",
       " <selenium.webdriver.remote.webelement.WebElement (session=\"1ab206c250706f025b72884ba2c9e96d\", element=\"e16c18ff-d7c0-4ed4-9e6f-56f6c05e69ba\")>,\n",
       " <selenium.webdriver.remote.webelement.WebElement (session=\"1ab206c250706f025b72884ba2c9e96d\", element=\"3c3821b3-292b-48c6-8406-cb48c8906a8b\")>,\n",
       " <selenium.webdriver.remote.webelement.WebElement (session=\"1ab206c250706f025b72884ba2c9e96d\", element=\"c851b3d1-a8f9-474f-aef0-55cc9d18fff4\")>,\n",
       " <selenium.webdriver.remote.webelement.WebElement (session=\"1ab206c250706f025b72884ba2c9e96d\", element=\"39fcfb77-3c89-4544-922f-1a0d5011edf3\")>,\n",
       " <selenium.webdriver.remote.webelement.WebElement (session=\"1ab206c250706f025b72884ba2c9e96d\", element=\"a594fb8f-b377-43b9-b637-09f0b54f38d3\")>,\n",
       " <selenium.webdriver.remote.webelement.WebElement (session=\"1ab206c250706f025b72884ba2c9e96d\", element=\"11b1e50a-4619-419a-9bdd-ee4024809247\")>,\n",
       " <selenium.webdriver.remote.webelement.WebElement (session=\"1ab206c250706f025b72884ba2c9e96d\", element=\"2792bdd4-26cd-484f-bfc8-a97ad06f6cb6\")>,\n",
       " <selenium.webdriver.remote.webelement.WebElement (session=\"1ab206c250706f025b72884ba2c9e96d\", element=\"0be59a18-1aa4-49d0-9381-4d8163fae0d5\")>,\n",
       " <selenium.webdriver.remote.webelement.WebElement (session=\"1ab206c250706f025b72884ba2c9e96d\", element=\"44e40a4f-663b-486b-95eb-542c0ec94a0c\")>]"
      ]
     },
     "execution_count": 19,
     "metadata": {},
     "output_type": "execute_result"
    }
   ],
   "source": [
    "#finding the experience required\n",
    "experience_tag=driver.find_elements_by_xpath(\"//li[@class='fleft grey-text br2 placeHolderLi experience']\")\n",
    "experience_tag"
   ]
  },
  {
   "cell_type": "code",
   "execution_count": 20,
   "id": "26428ef4",
   "metadata": {},
   "outputs": [
    {
     "data": {
      "text/plain": [
       "['3-5 Yrs',\n",
       " '6-11 Yrs',\n",
       " '5-10 Yrs',\n",
       " '5-10 Yrs',\n",
       " '3-8 Yrs',\n",
       " '8-12 Yrs',\n",
       " '6-11 Yrs',\n",
       " '4-8 Yrs',\n",
       " '4-9 Yrs',\n",
       " '6-8 Yrs',\n",
       " '0-3 Yrs',\n",
       " '8-10 Yrs',\n",
       " '5-7 Yrs',\n",
       " '3-6 Yrs',\n",
       " '2-7 Yrs',\n",
       " '1-4 Yrs',\n",
       " '3-8 Yrs',\n",
       " '5-8 Yrs',\n",
       " '2-3 Yrs',\n",
       " '3-8 Yrs']"
      ]
     },
     "execution_count": 20,
     "metadata": {},
     "output_type": "execute_result"
    }
   ],
   "source": [
    "#extracting the text using for loop\n",
    "experience_list=[]\n",
    "for i in experience_tag:\n",
    "    experience_list.append(i.text)\n",
    "experience_list"
   ]
  },
  {
   "cell_type": "code",
   "execution_count": 21,
   "id": "1bccea31",
   "metadata": {},
   "outputs": [
    {
     "data": {
      "text/plain": [
       "[<selenium.webdriver.remote.webelement.WebElement (session=\"1ab206c250706f025b72884ba2c9e96d\", element=\"a1777f5f-2b52-487a-b36b-065cb78ac71a\")>,\n",
       " <selenium.webdriver.remote.webelement.WebElement (session=\"1ab206c250706f025b72884ba2c9e96d\", element=\"e11e88de-eff4-4a7a-afa9-c3f8f16ec6f3\")>,\n",
       " <selenium.webdriver.remote.webelement.WebElement (session=\"1ab206c250706f025b72884ba2c9e96d\", element=\"3bc2a691-3e2d-4c37-bfbb-be0645c0543a\")>,\n",
       " <selenium.webdriver.remote.webelement.WebElement (session=\"1ab206c250706f025b72884ba2c9e96d\", element=\"200e9b4d-e7b7-46d0-97be-93bd98d43979\")>,\n",
       " <selenium.webdriver.remote.webelement.WebElement (session=\"1ab206c250706f025b72884ba2c9e96d\", element=\"cd946257-3c81-4a6b-b6fd-0f468ceb1316\")>,\n",
       " <selenium.webdriver.remote.webelement.WebElement (session=\"1ab206c250706f025b72884ba2c9e96d\", element=\"e1937686-6891-416b-8849-1dbefb2093de\")>,\n",
       " <selenium.webdriver.remote.webelement.WebElement (session=\"1ab206c250706f025b72884ba2c9e96d\", element=\"7f97a8e5-70a3-4aba-a872-45a9f0cdc271\")>,\n",
       " <selenium.webdriver.remote.webelement.WebElement (session=\"1ab206c250706f025b72884ba2c9e96d\", element=\"735b1da8-222e-4dca-8909-83001026d430\")>,\n",
       " <selenium.webdriver.remote.webelement.WebElement (session=\"1ab206c250706f025b72884ba2c9e96d\", element=\"9b3e42d5-2389-445a-8d73-ef41aa7ad8d3\")>,\n",
       " <selenium.webdriver.remote.webelement.WebElement (session=\"1ab206c250706f025b72884ba2c9e96d\", element=\"a2b22ab0-4026-4b2f-8ffc-0097b7b4f975\")>,\n",
       " <selenium.webdriver.remote.webelement.WebElement (session=\"1ab206c250706f025b72884ba2c9e96d\", element=\"73a24494-2365-4db4-95a9-6f3c67edd119\")>,\n",
       " <selenium.webdriver.remote.webelement.WebElement (session=\"1ab206c250706f025b72884ba2c9e96d\", element=\"00009b59-352d-4605-97f5-f30cad424820\")>,\n",
       " <selenium.webdriver.remote.webelement.WebElement (session=\"1ab206c250706f025b72884ba2c9e96d\", element=\"dd4eee17-b63e-4848-b034-b124598231f5\")>,\n",
       " <selenium.webdriver.remote.webelement.WebElement (session=\"1ab206c250706f025b72884ba2c9e96d\", element=\"8264506f-82ee-4e37-948e-b5784a659028\")>,\n",
       " <selenium.webdriver.remote.webelement.WebElement (session=\"1ab206c250706f025b72884ba2c9e96d\", element=\"8549fc02-b83d-40e4-8a14-44f9c13926b0\")>,\n",
       " <selenium.webdriver.remote.webelement.WebElement (session=\"1ab206c250706f025b72884ba2c9e96d\", element=\"23b69dd0-07b3-4e5c-b498-ab2a25e9e1d7\")>,\n",
       " <selenium.webdriver.remote.webelement.WebElement (session=\"1ab206c250706f025b72884ba2c9e96d\", element=\"feab5fa6-e7af-4f55-8cab-57ef16eb694f\")>,\n",
       " <selenium.webdriver.remote.webelement.WebElement (session=\"1ab206c250706f025b72884ba2c9e96d\", element=\"c8bd1f28-c647-4438-9e85-ae0f4906f16b\")>,\n",
       " <selenium.webdriver.remote.webelement.WebElement (session=\"1ab206c250706f025b72884ba2c9e96d\", element=\"17f670b3-3dcb-4e78-a6d4-fd50347c5cdf\")>,\n",
       " <selenium.webdriver.remote.webelement.WebElement (session=\"1ab206c250706f025b72884ba2c9e96d\", element=\"35185431-e26b-475a-b800-cabbac971cc7\")>]"
      ]
     },
     "execution_count": 21,
     "metadata": {},
     "output_type": "execute_result"
    }
   ],
   "source": [
    "#find the elements for location\n",
    "location=driver.find_elements_by_xpath(\"//li[@class='fleft grey-text br2 placeHolderLi location']\")\n",
    "location"
   ]
  },
  {
   "cell_type": "code",
   "execution_count": 22,
   "id": "d9f836ef",
   "metadata": {},
   "outputs": [
    {
     "data": {
      "text/plain": [
       "['Gurgaon/Gurugram, Bangalore/Bengaluru',\n",
       " 'Chennai, Bangalore/Bengaluru',\n",
       " 'Bangalore/Bengaluru',\n",
       " 'Bangalore/Bengaluru',\n",
       " 'Bangalore/Bengaluru',\n",
       " 'Hyderabad/Secunderabad, Pune, Gurgaon/Gurugram, Chennai, Bangalore/Bengaluru, Mumbai (All Areas)\\n(WFH during Covid)',\n",
       " 'Chennai, Bangalore/Bengaluru',\n",
       " 'Bangalore/Bengaluru',\n",
       " 'Hyderabad/Secunderabad, Chennai, Bangalore/Bengaluru\\n(WFH during Covid)',\n",
       " 'Bangalore/Bengaluru',\n",
       " 'Bangalore/Bengaluru',\n",
       " 'Bangalore/Bengaluru',\n",
       " 'Bangalore/Bengaluru',\n",
       " 'Bangalore/Bengaluru',\n",
       " 'Bangalore/Bengaluru',\n",
       " 'Bengaluru/Bangalore',\n",
       " 'Mumbai, Bangalore/Bengaluru',\n",
       " 'Bangalore/Bengaluru',\n",
       " 'Bangalore/Bengaluru',\n",
       " 'Bangalore/Bengaluru']"
      ]
     },
     "execution_count": 22,
     "metadata": {},
     "output_type": "execute_result"
    }
   ],
   "source": [
    "#extracting the text\n",
    "Location=[]\n",
    "for i in location:\n",
    "    Location.append(i.text)\n",
    "Location"
   ]
  },
  {
   "cell_type": "code",
   "execution_count": 23,
   "id": "2194c5bf",
   "metadata": {},
   "outputs": [
    {
     "name": "stdout",
     "output_type": "stream",
     "text": [
      "20 20 20 20\n"
     ]
    }
   ],
   "source": [
    "#finding the length of each data\n",
    "print(len(Titles),len(Location),len(company_names),len(experience_list))"
   ]
  },
  {
   "cell_type": "code",
   "execution_count": 24,
   "id": "87f9325d",
   "metadata": {},
   "outputs": [
    {
     "data": {
      "text/html": [
       "<div>\n",
       "<style scoped>\n",
       "    .dataframe tbody tr th:only-of-type {\n",
       "        vertical-align: middle;\n",
       "    }\n",
       "\n",
       "    .dataframe tbody tr th {\n",
       "        vertical-align: top;\n",
       "    }\n",
       "\n",
       "    .dataframe thead th {\n",
       "        text-align: right;\n",
       "    }\n",
       "</style>\n",
       "<table border=\"1\" class=\"dataframe\">\n",
       "  <thead>\n",
       "    <tr style=\"text-align: right;\">\n",
       "      <th></th>\n",
       "      <th>Job Title</th>\n",
       "      <th>Company Name</th>\n",
       "      <th>Experience Required</th>\n",
       "      <th>Location</th>\n",
       "    </tr>\n",
       "  </thead>\n",
       "  <tbody>\n",
       "    <tr>\n",
       "      <th>0</th>\n",
       "      <td>Senior Data Analyst</td>\n",
       "      <td>Gaussian Networks Private Limited</td>\n",
       "      <td>3-5 Yrs</td>\n",
       "      <td>Gurgaon/Gurugram, Bangalore/Bengaluru</td>\n",
       "    </tr>\n",
       "    <tr>\n",
       "      <th>1</th>\n",
       "      <td>Tcs Hiring For Senior Data Analyst (bfsi domain)</td>\n",
       "      <td>Tata Consultancy Services Ltd.</td>\n",
       "      <td>6-11 Yrs</td>\n",
       "      <td>Chennai, Bangalore/Bengaluru</td>\n",
       "    </tr>\n",
       "    <tr>\n",
       "      <th>2</th>\n",
       "      <td>Business Data Analyst</td>\n",
       "      <td>Trigent Software</td>\n",
       "      <td>5-10 Yrs</td>\n",
       "      <td>Bangalore/Bengaluru</td>\n",
       "    </tr>\n",
       "    <tr>\n",
       "      <th>3</th>\n",
       "      <td>Business Data Analyst</td>\n",
       "      <td>Trigent Software</td>\n",
       "      <td>5-10 Yrs</td>\n",
       "      <td>Bangalore/Bengaluru</td>\n",
       "    </tr>\n",
       "    <tr>\n",
       "      <th>4</th>\n",
       "      <td>Business Data Analyst - Google Data Studio &amp; SQL</td>\n",
       "      <td>AVE-Promagne</td>\n",
       "      <td>3-8 Yrs</td>\n",
       "      <td>Bangalore/Bengaluru</td>\n",
       "    </tr>\n",
       "    <tr>\n",
       "      <th>5</th>\n",
       "      <td>Senior Data Analyst</td>\n",
       "      <td>Virtusa Consulting Services Pvt Ltd</td>\n",
       "      <td>8-12 Yrs</td>\n",
       "      <td>Hyderabad/Secunderabad, Pune, Gurgaon/Gurugram...</td>\n",
       "    </tr>\n",
       "    <tr>\n",
       "      <th>6</th>\n",
       "      <td>Tcs Hiring For MDM (master data management) Da...</td>\n",
       "      <td>Tata Consultancy Services Ltd.</td>\n",
       "      <td>6-11 Yrs</td>\n",
       "      <td>Chennai, Bangalore/Bengaluru</td>\n",
       "    </tr>\n",
       "    <tr>\n",
       "      <th>7</th>\n",
       "      <td>Senior Data Analyst IDAM Services</td>\n",
       "      <td>GlaxoSmithKline Pharmaceuticals Limited</td>\n",
       "      <td>4-8 Yrs</td>\n",
       "      <td>Bangalore/Bengaluru</td>\n",
       "    </tr>\n",
       "    <tr>\n",
       "      <th>8</th>\n",
       "      <td>Data Analyst/Sr.Data Engineer</td>\n",
       "      <td>SYREN TECHNOLOGIES PRIVATE LIMITED</td>\n",
       "      <td>4-9 Yrs</td>\n",
       "      <td>Hyderabad/Secunderabad, Chennai, Bangalore/Ben...</td>\n",
       "    </tr>\n",
       "    <tr>\n",
       "      <th>9</th>\n",
       "      <td>SENIOR DATA ANALYST</td>\n",
       "      <td>McAfee Software (India) Pvt. Ltd</td>\n",
       "      <td>6-8 Yrs</td>\n",
       "      <td>Bangalore/Bengaluru</td>\n",
       "    </tr>\n",
       "  </tbody>\n",
       "</table>\n",
       "</div>"
      ],
      "text/plain": [
       "                                           Job Title  \\\n",
       "0                                Senior Data Analyst   \n",
       "1   Tcs Hiring For Senior Data Analyst (bfsi domain)   \n",
       "2                              Business Data Analyst   \n",
       "3                              Business Data Analyst   \n",
       "4   Business Data Analyst - Google Data Studio & SQL   \n",
       "5                                Senior Data Analyst   \n",
       "6  Tcs Hiring For MDM (master data management) Da...   \n",
       "7                  Senior Data Analyst IDAM Services   \n",
       "8                      Data Analyst/Sr.Data Engineer   \n",
       "9                                SENIOR DATA ANALYST   \n",
       "\n",
       "                              Company Name Experience Required  \\\n",
       "0        Gaussian Networks Private Limited             3-5 Yrs   \n",
       "1           Tata Consultancy Services Ltd.            6-11 Yrs   \n",
       "2                         Trigent Software            5-10 Yrs   \n",
       "3                         Trigent Software            5-10 Yrs   \n",
       "4                             AVE-Promagne             3-8 Yrs   \n",
       "5      Virtusa Consulting Services Pvt Ltd            8-12 Yrs   \n",
       "6           Tata Consultancy Services Ltd.            6-11 Yrs   \n",
       "7  GlaxoSmithKline Pharmaceuticals Limited             4-8 Yrs   \n",
       "8       SYREN TECHNOLOGIES PRIVATE LIMITED             4-9 Yrs   \n",
       "9         McAfee Software (India) Pvt. Ltd             6-8 Yrs   \n",
       "\n",
       "                                            Location  \n",
       "0              Gurgaon/Gurugram, Bangalore/Bengaluru  \n",
       "1                       Chennai, Bangalore/Bengaluru  \n",
       "2                                Bangalore/Bengaluru  \n",
       "3                                Bangalore/Bengaluru  \n",
       "4                                Bangalore/Bengaluru  \n",
       "5  Hyderabad/Secunderabad, Pune, Gurgaon/Gurugram...  \n",
       "6                       Chennai, Bangalore/Bengaluru  \n",
       "7                                Bangalore/Bengaluru  \n",
       "8  Hyderabad/Secunderabad, Chennai, Bangalore/Ben...  \n",
       "9                                Bangalore/Bengaluru  "
      ]
     },
     "execution_count": 24,
     "metadata": {},
     "output_type": "execute_result"
    }
   ],
   "source": [
    "#creating a dataframe\n",
    "jobs=pd.DataFrame({})\n",
    "\n",
    "jobs['Job Title']=Titles[:10]\n",
    "jobs['Company Name']=company_names[:10]\n",
    "jobs['Experience Required']=experience_list[:10]\n",
    "jobs['Location']=Location[:10]\n",
    "\n",
    "jobs"
   ]
  },
  {
   "cell_type": "code",
   "execution_count": 25,
   "id": "32eb1a65",
   "metadata": {},
   "outputs": [
    {
     "data": {
      "text/plain": [
       "10"
      ]
     },
     "execution_count": 25,
     "metadata": {},
     "output_type": "execute_result"
    }
   ],
   "source": [
    "#length of dataframe\n",
    "len(jobs)"
   ]
  },
  {
   "cell_type": "code",
   "execution_count": 26,
   "id": "a93c7375",
   "metadata": {},
   "outputs": [],
   "source": [
    "#Q2) python program to scrape data for “Data Scientist” Job position in\n",
    "#“Bangalore” location. You have to scrape the job-title, job-location,\n",
    "#company_name, full job-description. You have to scrape first 10 jobs data.\n",
    "\n",
    "#connect to the webdriver\n",
    "driver=webdriver.Chrome(\"chromedriver.exe\")"
   ]
  },
  {
   "cell_type": "code",
   "execution_count": 27,
   "id": "acc3dfbf",
   "metadata": {},
   "outputs": [],
   "source": [
    "url='https://www.naukri.com/'\n",
    "driver.get(url)"
   ]
  },
  {
   "cell_type": "code",
   "execution_count": 28,
   "id": "03a74092",
   "metadata": {},
   "outputs": [
    {
     "data": {
      "text/plain": [
       "<selenium.webdriver.remote.webelement.WebElement (session=\"db13bd00a7f75c1b7ebb7f34532b6f02\", element=\"b90469fd-ed28-4adb-9d94-255e6a0d831f\")>"
      ]
     },
     "execution_count": 28,
     "metadata": {},
     "output_type": "execute_result"
    }
   ],
   "source": [
    "#finding the element for job title\n",
    "job_search=driver.find_element_by_class_name('sugInp')\n",
    "job_search"
   ]
  },
  {
   "cell_type": "code",
   "execution_count": 29,
   "id": "23cb237f",
   "metadata": {},
   "outputs": [],
   "source": [
    "#sending the value\n",
    "job_search.send_keys(\"Data Scientist\")"
   ]
  },
  {
   "cell_type": "code",
   "execution_count": 30,
   "id": "4a25a81f",
   "metadata": {},
   "outputs": [
    {
     "data": {
      "text/plain": [
       "<selenium.webdriver.remote.webelement.WebElement (session=\"db13bd00a7f75c1b7ebb7f34532b6f02\", element=\"d5c23ea2-f27e-451f-9e41-d9fea5beae94\")>"
      ]
     },
     "execution_count": 30,
     "metadata": {},
     "output_type": "execute_result"
    }
   ],
   "source": [
    "#finding the location element\n",
    "loc_search=driver.find_element_by_id('qsb-location-sugg')\n",
    "loc_search"
   ]
  },
  {
   "cell_type": "code",
   "execution_count": 31,
   "id": "c9639400",
   "metadata": {},
   "outputs": [],
   "source": [
    "#sending the value\n",
    "loc_search.send_keys(\"Bangalore\")"
   ]
  },
  {
   "cell_type": "code",
   "execution_count": 32,
   "id": "dcec6f3d",
   "metadata": {},
   "outputs": [
    {
     "data": {
      "text/plain": [
       "<selenium.webdriver.remote.webelement.WebElement (session=\"db13bd00a7f75c1b7ebb7f34532b6f02\", element=\"79c7b31e-57a9-4fad-b878-3ca344382b04\")>"
      ]
     },
     "execution_count": 32,
     "metadata": {},
     "output_type": "execute_result"
    }
   ],
   "source": [
    "#click on search button\n",
    "search_button=driver.find_element_by_class_name('btn')\n",
    "search_button"
   ]
  },
  {
   "cell_type": "code",
   "execution_count": 33,
   "id": "b5d52a46",
   "metadata": {},
   "outputs": [],
   "source": [
    "search_button.click()"
   ]
  },
  {
   "cell_type": "code",
   "execution_count": 34,
   "id": "78e4de5e",
   "metadata": {},
   "outputs": [
    {
     "data": {
      "text/plain": [
       "[<selenium.webdriver.remote.webelement.WebElement (session=\"db13bd00a7f75c1b7ebb7f34532b6f02\", element=\"8bf8e35d-5d34-4884-b287-b2bba6946c96\")>,\n",
       " <selenium.webdriver.remote.webelement.WebElement (session=\"db13bd00a7f75c1b7ebb7f34532b6f02\", element=\"a9cddef1-d186-437c-a9aa-50cc9048f0c2\")>,\n",
       " <selenium.webdriver.remote.webelement.WebElement (session=\"db13bd00a7f75c1b7ebb7f34532b6f02\", element=\"eabe30aa-4322-4f35-96c3-076d28c6c7e6\")>,\n",
       " <selenium.webdriver.remote.webelement.WebElement (session=\"db13bd00a7f75c1b7ebb7f34532b6f02\", element=\"001cb723-705f-4786-8360-60a0f3fff89d\")>,\n",
       " <selenium.webdriver.remote.webelement.WebElement (session=\"db13bd00a7f75c1b7ebb7f34532b6f02\", element=\"bb87d12b-8dc6-479c-ac9b-e2e7977398a2\")>,\n",
       " <selenium.webdriver.remote.webelement.WebElement (session=\"db13bd00a7f75c1b7ebb7f34532b6f02\", element=\"c86765e7-53a1-4bad-bcb6-ba7b71f321ae\")>,\n",
       " <selenium.webdriver.remote.webelement.WebElement (session=\"db13bd00a7f75c1b7ebb7f34532b6f02\", element=\"3a680535-81ed-4026-809c-6872aa41ebea\")>,\n",
       " <selenium.webdriver.remote.webelement.WebElement (session=\"db13bd00a7f75c1b7ebb7f34532b6f02\", element=\"fea855d6-9587-42a2-9768-8745ca36a222\")>,\n",
       " <selenium.webdriver.remote.webelement.WebElement (session=\"db13bd00a7f75c1b7ebb7f34532b6f02\", element=\"d356baf6-e1a7-41a3-9af7-178bd610f3d6\")>,\n",
       " <selenium.webdriver.remote.webelement.WebElement (session=\"db13bd00a7f75c1b7ebb7f34532b6f02\", element=\"edb3b7aa-ef4b-4ebb-bb28-52d9d31f2f73\")>,\n",
       " <selenium.webdriver.remote.webelement.WebElement (session=\"db13bd00a7f75c1b7ebb7f34532b6f02\", element=\"6beeec28-cfcd-4ddd-873a-98740b297726\")>,\n",
       " <selenium.webdriver.remote.webelement.WebElement (session=\"db13bd00a7f75c1b7ebb7f34532b6f02\", element=\"a23645aa-c6ed-42b2-945b-69b1cd1ca0b1\")>,\n",
       " <selenium.webdriver.remote.webelement.WebElement (session=\"db13bd00a7f75c1b7ebb7f34532b6f02\", element=\"6be585a3-ff06-4c44-a453-f83d0cfd2444\")>,\n",
       " <selenium.webdriver.remote.webelement.WebElement (session=\"db13bd00a7f75c1b7ebb7f34532b6f02\", element=\"8a96237d-b992-4520-b553-3334ad8cc1da\")>,\n",
       " <selenium.webdriver.remote.webelement.WebElement (session=\"db13bd00a7f75c1b7ebb7f34532b6f02\", element=\"d22e1e4a-78b3-4664-84a3-0c3f5e277802\")>,\n",
       " <selenium.webdriver.remote.webelement.WebElement (session=\"db13bd00a7f75c1b7ebb7f34532b6f02\", element=\"b8d618a9-b282-4f1c-ba1f-418607491dd2\")>,\n",
       " <selenium.webdriver.remote.webelement.WebElement (session=\"db13bd00a7f75c1b7ebb7f34532b6f02\", element=\"d58b27d1-ca99-4f8f-a58a-a2bfd79429fe\")>,\n",
       " <selenium.webdriver.remote.webelement.WebElement (session=\"db13bd00a7f75c1b7ebb7f34532b6f02\", element=\"f74363bc-70a3-4247-9e88-302a453ca883\")>,\n",
       " <selenium.webdriver.remote.webelement.WebElement (session=\"db13bd00a7f75c1b7ebb7f34532b6f02\", element=\"acbeb443-f8a3-49e2-8c6e-aa76a4449bfe\")>,\n",
       " <selenium.webdriver.remote.webelement.WebElement (session=\"db13bd00a7f75c1b7ebb7f34532b6f02\", element=\"f13fc443-6853-427a-ad25-aa69ca7a1d88\")>]"
      ]
     },
     "execution_count": 34,
     "metadata": {},
     "output_type": "execute_result"
    }
   ],
   "source": [
    "#finding all the job titles\n",
    "title_tags=driver.find_elements_by_xpath(\"//a[@class='title fw500 ellipsis']\")\n",
    "title_tags"
   ]
  },
  {
   "cell_type": "code",
   "execution_count": 35,
   "id": "e1c3a5a4",
   "metadata": {},
   "outputs": [
    {
     "data": {
      "text/plain": [
       "['Hiring For Data Scientist',\n",
       " 'Lead Data Scientist BFSI',\n",
       " 'Associate Data Scientist',\n",
       " 'Data Scientist',\n",
       " 'Data Scientist',\n",
       " 'Data Scientist',\n",
       " 'Data Scientist: Advanced Analytics',\n",
       " 'Senior Data Scientist',\n",
       " 'Senior Data Scientist',\n",
       " 'Sr Data Scientist',\n",
       " 'Sr Data Scientist',\n",
       " 'SENIOR DATA SCIENTIST',\n",
       " 'Senior Data Scientist IN4',\n",
       " 'Senior Data Scientist (Marketplace)',\n",
       " 'Hiring For Manager and Sr. Manager | Data Scientist',\n",
       " 'Requirement For Data Scientist - Mumbai & Bangalore',\n",
       " 'Data Scientist (Python & SQL)',\n",
       " 'Lead Data Scientist - Machine Learning/ Data Mining',\n",
       " 'Data Scientist- Senior Business Analyst/Lead Analyst',\n",
       " 'Data Scientist- Python/R (3+ Years)']"
      ]
     },
     "execution_count": 35,
     "metadata": {},
     "output_type": "execute_result"
    }
   ],
   "source": [
    "#extracting the text\n",
    "job_titles=[]\n",
    "for i in title_tags:\n",
    "    job_titles.append(i.text)\n",
    "job_titles"
   ]
  },
  {
   "cell_type": "code",
   "execution_count": 36,
   "id": "a86d57f0",
   "metadata": {},
   "outputs": [
    {
     "data": {
      "text/plain": [
       "[<selenium.webdriver.remote.webelement.WebElement (session=\"db13bd00a7f75c1b7ebb7f34532b6f02\", element=\"c6a3e1db-440b-45af-925c-73bbfde094c8\")>,\n",
       " <selenium.webdriver.remote.webelement.WebElement (session=\"db13bd00a7f75c1b7ebb7f34532b6f02\", element=\"eb7b0c40-7a7f-46c4-bea9-21fe2f430121\")>,\n",
       " <selenium.webdriver.remote.webelement.WebElement (session=\"db13bd00a7f75c1b7ebb7f34532b6f02\", element=\"0df076fc-5cc3-474d-8dbd-812afb154f04\")>,\n",
       " <selenium.webdriver.remote.webelement.WebElement (session=\"db13bd00a7f75c1b7ebb7f34532b6f02\", element=\"31c95576-18a3-4f03-8f97-b722a9866b49\")>,\n",
       " <selenium.webdriver.remote.webelement.WebElement (session=\"db13bd00a7f75c1b7ebb7f34532b6f02\", element=\"67bacc45-2830-49c3-96db-a56cfb61b6ed\")>,\n",
       " <selenium.webdriver.remote.webelement.WebElement (session=\"db13bd00a7f75c1b7ebb7f34532b6f02\", element=\"a1acb93d-21f3-4fff-acbf-2145f4dd31a7\")>,\n",
       " <selenium.webdriver.remote.webelement.WebElement (session=\"db13bd00a7f75c1b7ebb7f34532b6f02\", element=\"84fdaf95-88ab-4302-ba23-b1c131ebad4d\")>,\n",
       " <selenium.webdriver.remote.webelement.WebElement (session=\"db13bd00a7f75c1b7ebb7f34532b6f02\", element=\"4ad3fb43-5dcd-4767-b8e8-b7e79fb22bfc\")>,\n",
       " <selenium.webdriver.remote.webelement.WebElement (session=\"db13bd00a7f75c1b7ebb7f34532b6f02\", element=\"1f6a5d8e-9a74-4644-ac18-03d00dade5e6\")>,\n",
       " <selenium.webdriver.remote.webelement.WebElement (session=\"db13bd00a7f75c1b7ebb7f34532b6f02\", element=\"020a68b7-7643-4931-a851-b4b82d0d85c2\")>,\n",
       " <selenium.webdriver.remote.webelement.WebElement (session=\"db13bd00a7f75c1b7ebb7f34532b6f02\", element=\"9acb4fcb-99d7-4876-be51-9c7a3eb56466\")>,\n",
       " <selenium.webdriver.remote.webelement.WebElement (session=\"db13bd00a7f75c1b7ebb7f34532b6f02\", element=\"4c363ee3-36cc-4b6c-87a9-dd86755c0b10\")>,\n",
       " <selenium.webdriver.remote.webelement.WebElement (session=\"db13bd00a7f75c1b7ebb7f34532b6f02\", element=\"89ead0d3-ab2c-4952-a304-0001c97ce703\")>,\n",
       " <selenium.webdriver.remote.webelement.WebElement (session=\"db13bd00a7f75c1b7ebb7f34532b6f02\", element=\"91167e6f-049d-4982-99a0-79fc9332a316\")>,\n",
       " <selenium.webdriver.remote.webelement.WebElement (session=\"db13bd00a7f75c1b7ebb7f34532b6f02\", element=\"015fb8e7-39ed-4b3e-81a0-a043ecebc486\")>,\n",
       " <selenium.webdriver.remote.webelement.WebElement (session=\"db13bd00a7f75c1b7ebb7f34532b6f02\", element=\"3f48711e-547c-4a4f-b458-de63cfe7239d\")>,\n",
       " <selenium.webdriver.remote.webelement.WebElement (session=\"db13bd00a7f75c1b7ebb7f34532b6f02\", element=\"2b5be796-6369-4db7-b2b0-e6b86f64f934\")>,\n",
       " <selenium.webdriver.remote.webelement.WebElement (session=\"db13bd00a7f75c1b7ebb7f34532b6f02\", element=\"926e6b04-5dae-47c8-b89f-aca4d85c82a7\")>,\n",
       " <selenium.webdriver.remote.webelement.WebElement (session=\"db13bd00a7f75c1b7ebb7f34532b6f02\", element=\"01d3ca0a-b512-4f24-b2cc-ffabfbb7e7cc\")>,\n",
       " <selenium.webdriver.remote.webelement.WebElement (session=\"db13bd00a7f75c1b7ebb7f34532b6f02\", element=\"2cfff1ad-614a-4c88-9a3d-b6d312fcfa25\")>]"
      ]
     },
     "execution_count": 36,
     "metadata": {},
     "output_type": "execute_result"
    }
   ],
   "source": [
    "#finding the company_name\n",
    "company_tags=driver.find_elements_by_xpath(\"//a[@class='subTitle ellipsis fleft']\")\n",
    "company_tags"
   ]
  },
  {
   "cell_type": "code",
   "execution_count": 37,
   "id": "59aa86ec",
   "metadata": {},
   "outputs": [
    {
     "data": {
      "text/plain": [
       "['Tata Consultancy Services Ltd.',\n",
       " 'IBM India Pvt. Limited',\n",
       " 'Philips India Limited',\n",
       " 'Brillio',\n",
       " 'Allegis Services India Pvt. Ltd.',\n",
       " 'Allegis Services India Pvt. Ltd.',\n",
       " 'IBM India Pvt. Limited',\n",
       " 'Walmart Labs',\n",
       " 'Airbnb',\n",
       " 'IBM India Pvt. Limited',\n",
       " 'IBM India Pvt. Limited',\n",
       " 'Happiest Minds Technologies Pvt.Ltd',\n",
       " 'Walmart Labs',\n",
       " 'Walmart Labs',\n",
       " 'Vision Beyond Resources India Private Limited',\n",
       " 'CRISIL LIMITED',\n",
       " 'AVE-Promagne',\n",
       " 'Wrackle Technologies Pvt Ltd',\n",
       " 'Evalueserve.com Pvt. Ltd',\n",
       " 'CRESCENDO GLOBAL LEADERSHIP HIRING INDIA PRIVATE L IMITED']"
      ]
     },
     "execution_count": 37,
     "metadata": {},
     "output_type": "execute_result"
    }
   ],
   "source": [
    "#extracting the text\n",
    "company_names=[]\n",
    "for i in company_tags:\n",
    "    company_names.append(i.text)\n",
    "company_names"
   ]
  },
  {
   "cell_type": "code",
   "execution_count": 38,
   "id": "605c95db",
   "metadata": {},
   "outputs": [
    {
     "data": {
      "text/plain": [
       "[<selenium.webdriver.remote.webelement.WebElement (session=\"db13bd00a7f75c1b7ebb7f34532b6f02\", element=\"0314a7dd-e37f-462d-b761-5f6efad053dd\")>,\n",
       " <selenium.webdriver.remote.webelement.WebElement (session=\"db13bd00a7f75c1b7ebb7f34532b6f02\", element=\"32876f16-bd9b-4bb3-bf5e-8867800e49b6\")>,\n",
       " <selenium.webdriver.remote.webelement.WebElement (session=\"db13bd00a7f75c1b7ebb7f34532b6f02\", element=\"727cca37-9cdf-4fcc-8db3-2d5b5c06a597\")>,\n",
       " <selenium.webdriver.remote.webelement.WebElement (session=\"db13bd00a7f75c1b7ebb7f34532b6f02\", element=\"857bc7ed-b47c-4409-9db7-c5a51c4da0f5\")>,\n",
       " <selenium.webdriver.remote.webelement.WebElement (session=\"db13bd00a7f75c1b7ebb7f34532b6f02\", element=\"6c42589e-4dec-4069-a9af-43d5d9498301\")>,\n",
       " <selenium.webdriver.remote.webelement.WebElement (session=\"db13bd00a7f75c1b7ebb7f34532b6f02\", element=\"66de29a3-c653-4ae8-acdd-e22ec9d813d4\")>,\n",
       " <selenium.webdriver.remote.webelement.WebElement (session=\"db13bd00a7f75c1b7ebb7f34532b6f02\", element=\"dd840b0e-8a03-4796-90e8-c31f3e23ce74\")>,\n",
       " <selenium.webdriver.remote.webelement.WebElement (session=\"db13bd00a7f75c1b7ebb7f34532b6f02\", element=\"9a203fef-6987-4457-8493-fdc747122ab8\")>,\n",
       " <selenium.webdriver.remote.webelement.WebElement (session=\"db13bd00a7f75c1b7ebb7f34532b6f02\", element=\"a519558c-b374-4662-99e9-561a07d591a3\")>,\n",
       " <selenium.webdriver.remote.webelement.WebElement (session=\"db13bd00a7f75c1b7ebb7f34532b6f02\", element=\"1f4593c8-6a85-425e-b5bb-e20fb2eaa215\")>,\n",
       " <selenium.webdriver.remote.webelement.WebElement (session=\"db13bd00a7f75c1b7ebb7f34532b6f02\", element=\"b9338be3-89bb-425e-be8e-b4a13387eedf\")>,\n",
       " <selenium.webdriver.remote.webelement.WebElement (session=\"db13bd00a7f75c1b7ebb7f34532b6f02\", element=\"c14d1213-3d82-495b-8a0b-44435e980bac\")>,\n",
       " <selenium.webdriver.remote.webelement.WebElement (session=\"db13bd00a7f75c1b7ebb7f34532b6f02\", element=\"c94c2822-90de-4bb5-91a7-3d9cb25e7e58\")>,\n",
       " <selenium.webdriver.remote.webelement.WebElement (session=\"db13bd00a7f75c1b7ebb7f34532b6f02\", element=\"caac47fe-d065-4f9d-b195-18ab60fe3de2\")>,\n",
       " <selenium.webdriver.remote.webelement.WebElement (session=\"db13bd00a7f75c1b7ebb7f34532b6f02\", element=\"828160b9-47e1-4b4d-a7ad-99658fd8bfe0\")>,\n",
       " <selenium.webdriver.remote.webelement.WebElement (session=\"db13bd00a7f75c1b7ebb7f34532b6f02\", element=\"20f33dde-210b-4735-984e-9f177dbfac28\")>,\n",
       " <selenium.webdriver.remote.webelement.WebElement (session=\"db13bd00a7f75c1b7ebb7f34532b6f02\", element=\"455913a2-ac94-456d-a4f6-4ca6941335f2\")>,\n",
       " <selenium.webdriver.remote.webelement.WebElement (session=\"db13bd00a7f75c1b7ebb7f34532b6f02\", element=\"e0fd8dcc-a970-4a3e-b808-aa157d608387\")>,\n",
       " <selenium.webdriver.remote.webelement.WebElement (session=\"db13bd00a7f75c1b7ebb7f34532b6f02\", element=\"6e2a9fc8-3eb5-49a4-8f4d-be1736945e8f\")>,\n",
       " <selenium.webdriver.remote.webelement.WebElement (session=\"db13bd00a7f75c1b7ebb7f34532b6f02\", element=\"f27f8ed1-48b8-4783-9cbc-ed44fa38f6d9\")>]"
      ]
     },
     "execution_count": 38,
     "metadata": {},
     "output_type": "execute_result"
    }
   ],
   "source": [
    "#finding elements for location\n",
    "location_tags=driver.find_elements_by_xpath(\"//li[@class='fleft grey-text br2 placeHolderLi location']\")\n",
    "location_tags"
   ]
  },
  {
   "cell_type": "code",
   "execution_count": 39,
   "id": "7ade20e8",
   "metadata": {},
   "outputs": [
    {
     "data": {
      "text/plain": [
       "['Chennai, Bangalore/Bengaluru, Mumbai (All Areas)\\n(WFH during Covid)',\n",
       " 'Bengaluru/Bangalore',\n",
       " 'Bangalore/Bengaluru',\n",
       " 'Bangalore/Bengaluru',\n",
       " 'Bangalore/Bengaluru',\n",
       " 'Bangalore/Bengaluru',\n",
       " 'Bengaluru/Bangalore',\n",
       " 'Bangalore/Bengaluru',\n",
       " 'Bangalore/Bengaluru',\n",
       " 'Bengaluru/Bangalore',\n",
       " 'Bangalore/Bengaluru',\n",
       " 'Bangalore/Bengaluru',\n",
       " 'Bangalore/Bengaluru',\n",
       " 'Bangalore/Bengaluru',\n",
       " 'Noida, Mumbai, New Delhi, Gurgaon/Gurugram, Bangalore/Bengaluru',\n",
       " 'Bangalore/Bengaluru, Mumbai (All Areas)',\n",
       " 'Hyderabad/Secunderabad, Chennai, Bangalore/Bengaluru',\n",
       " 'Bangalore/Bengaluru',\n",
       " 'Gurgaon/Gurugram, Bangalore/Bengaluru',\n",
       " 'Bangalore/Bengaluru, Delhi / NCR, Mumbai (All Areas)']"
      ]
     },
     "execution_count": 39,
     "metadata": {},
     "output_type": "execute_result"
    }
   ],
   "source": [
    "#extracting the text\n",
    "location_list=[]\n",
    "for i in location_tags:\n",
    "    location_list.append(i.text)\n",
    "location_list"
   ]
  },
  {
   "cell_type": "code",
   "execution_count": 40,
   "id": "48f886d5",
   "metadata": {},
   "outputs": [],
   "source": [
    "#importing time\n",
    "from selenium import webdriver\n",
    "import time\n",
    "from selenium.common.exceptions import NoSuchElementException"
   ]
  },
  {
   "cell_type": "code",
   "execution_count": 41,
   "id": "539adf57",
   "metadata": {},
   "outputs": [
    {
     "data": {
      "text/plain": [
       "['https://www.naukri.com/job-listings-hiring-for-data-scientist-tata-consultancy-services-chennai-bangalore-bengaluru-mumbai-all-areas-3-to-8-years-110921000464?src=jobsearchDesk&sid=16315401350336465&xp=1&px=1',\n",
       " 'https://www.naukri.com/job-listings-lead-data-scientist-bfsi-ibm-india-pvt-limited-bengaluru-bangalore-5-to-9-years-070921901691?src=jobsearchDesk&sid=16315401350336465&xp=2&px=1',\n",
       " 'https://www.naukri.com/job-listings-associate-data-scientist-philips-india-limited-bangalore-bengaluru-3-to-5-years-060921501985?src=jobsearchDesk&sid=16315401350336465&xp=3&px=1',\n",
       " 'https://www.naukri.com/job-listings-data-scientist-brillio-technologies-pvt-ltd-bangalore-bengaluru-3-to-8-years-130921905402?src=jobsearchDesk&sid=16315401350336465&xp=4&px=1',\n",
       " 'https://www.naukri.com/job-listings-data-scientist-allegis-services-india-pvt-ltd-bangalore-bengaluru-4-to-8-years-130921603395?src=jobsearchDesk&sid=16315401350336465&xp=5&px=1',\n",
       " 'https://www.naukri.com/job-listings-data-scientist-allegis-services-india-pvt-ltd-bangalore-bengaluru-4-to-8-years-130921003393?src=jobsearchDesk&sid=16315401350336465&xp=6&px=1',\n",
       " 'https://www.naukri.com/job-listings-data-scientist-advanced-analytics-ibm-india-pvt-limited-bengaluru-bangalore-3-to-7-years-070921901677?src=jobsearchDesk&sid=16315401350336465&xp=7&px=1',\n",
       " 'https://www.naukri.com/job-listings-senior-data-scientist-walmart-labs-bangalore-bengaluru-6-to-10-years-090921501063?src=jobsearchDesk&sid=16315401350336465&xp=8&px=1',\n",
       " 'https://www.naukri.com/job-listings-senior-data-scientist-airbnb-bangalore-bengaluru-7-to-12-years-080921500017?src=jobsearchDesk&sid=16315401350336465&xp=9&px=1',\n",
       " 'https://www.naukri.com/job-listings-sr-data-scientist-ibm-india-pvt-limited-bengaluru-bangalore-6-to-8-years-010921906637?src=jobsearchDesk&sid=16315401350336465&xp=10&px=1',\n",
       " 'https://www.naukri.com/job-listings-sr-data-scientist-ibm-india-pvt-limited-bangalore-bengaluru-6-to-8-years-010921906105?src=jobsearchDesk&sid=16315401350336465&xp=11&px=1',\n",
       " 'https://www.naukri.com/job-listings-senior-data-scientist-happiest-minds-technologies-pvt-ltd-bangalore-bengaluru-5-to-10-years-070921501517?src=jobsearchDesk&sid=16315401350336465&xp=12&px=1',\n",
       " 'https://www.naukri.com/job-listings-senior-data-scientist-in4-walmart-labs-bangalore-bengaluru-7-to-10-years-090921501064?src=jobsearchDesk&sid=16315401350336465&xp=13&px=1',\n",
       " 'https://www.naukri.com/job-listings-senior-data-scientist-marketplace-walmart-labs-bangalore-bengaluru-4-to-8-years-090921500549?src=jobsearchDesk&sid=16315401350336465&xp=14&px=1',\n",
       " 'https://www.naukri.com/job-listings-hiring-for-manager-and-sr-manager-data-scientist-vision-beyond-resources-india-private-limited-noida-mumbai-new-delhi-gurgaon-gurugram-bangalore-bengaluru-8-to-13-years-090921005986?src=jobsearchDesk&sid=16315401350336465&xp=15&px=1',\n",
       " 'https://www.naukri.com/job-listings-requirement-for-data-scientist-mumbai-bangalore-crisil-limited-bangalore-bengaluru-mumbai-all-areas-2-to-6-years-080921005523?src=jobsearchDesk&sid=16315401350336465&xp=16&px=1',\n",
       " 'https://www.naukri.com/job-listings-data-scientist-python-sql-ave-promagne-hyderabad-secunderabad-chennai-bangalore-bengaluru-6-to-8-years-060921904967?src=jobsearchDesk&sid=16315401350336465&xp=17&px=1',\n",
       " 'https://www.naukri.com/job-listings-lead-data-scientist-machine-learning-data-mining-wrackle-technologies-pvt-ltd-bangalore-bengaluru-6-to-11-years-080221900886?src=jobsearchDesk&sid=16315401350336465&xp=18&px=1',\n",
       " 'https://www.naukri.com/job-listings-data-scientist-senior-business-analyst-lead-analyst-evalueserve-com-pvt-ltd-gurgaon-gurugram-bangalore-bengaluru-2-to-7-years-110821005065?src=jobsearchDesk&sid=16315401350336465&xp=19&px=1',\n",
       " 'https://www.naukri.com/job-listings-data-scientist-python-r-3-years-crescendo-global-leadership-hiring-india-private-l-imited-bangalore-bengaluru-delhi-ncr-mumbai-all-areas-3-to-8-years-110921000469?src=jobsearchDesk&sid=16315401350336465&xp=20&px=1']"
      ]
     },
     "execution_count": 41,
     "metadata": {},
     "output_type": "execute_result"
    }
   ],
   "source": [
    "urls=[]\n",
    "for i in driver.find_elements_by_xpath(\"//a[@class='title fw500 ellipsis']\"):\n",
    "    urls.append(i.get_attribute(\"href\"))\n",
    "urls"
   ]
  },
  {
   "cell_type": "code",
   "execution_count": 42,
   "id": "7970b9c5",
   "metadata": {},
   "outputs": [
    {
     "data": {
      "text/plain": [
       "20"
      ]
     },
     "execution_count": 42,
     "metadata": {},
     "output_type": "execute_result"
    }
   ],
   "source": [
    "len(urls)"
   ]
  },
  {
   "cell_type": "code",
   "execution_count": 43,
   "id": "45e26384",
   "metadata": {},
   "outputs": [],
   "source": [
    "#defining the variables\n",
    "job_title=[]\n",
    "job_description=[]"
   ]
  },
  {
   "cell_type": "code",
   "execution_count": 44,
   "id": "a3673170",
   "metadata": {},
   "outputs": [],
   "source": [
    "for i in urls[:10]:\n",
    "    driver.get(i)\n",
    "    time.sleep(2)\n",
    "    #fetch job_titles\n",
    "    try:\n",
    "        job=driver.find_element_by_xpath(\"//h1[@class='jd-header-title']\")\n",
    "        job.title.append(job.text.replace(\"\\n\",\" \"))\n",
    "    except:\n",
    "        job_title.append('--')\n",
    "    #fetch job_description\n",
    "    try:\n",
    "        job=driver.find_element_by_xpath(\"//section[@class='job-desc']\")\n",
    "        job_description.append(job.text)\n",
    "    except:\n",
    "        job_description.append('--')"
   ]
  },
  {
   "cell_type": "code",
   "execution_count": 45,
   "id": "4925f158",
   "metadata": {},
   "outputs": [
    {
     "data": {
      "text/plain": [
       "['--', '--', '--', '--', '--', '--', '--', '--', '--', '--']"
      ]
     },
     "execution_count": 45,
     "metadata": {},
     "output_type": "execute_result"
    }
   ],
   "source": [
    "job_title"
   ]
  },
  {
   "cell_type": "code",
   "execution_count": 46,
   "id": "2cb0d220",
   "metadata": {},
   "outputs": [
    {
     "data": {
      "text/plain": [
       "['Job description\\nMinumum 3 years of experience in Data Science/Machine learning\\n\\nLocation : PAN INDIA\\nExp : 3 - 7 Years\\n\\nMinimum 3 year of experience in being Applied Machine Learning Engineer role\\nResearch, develop, and implement prediction, optimization, and analytics tools.\\nDocument and communicate methodology and results to technical and non-technical audiences\\nGuide and implement best practices of curated data and evaluate ML models on large-scale data\\nLead design and implementation of Machine Learning algorithms, combining with rule-based optimization to deliver significant improvement in\\nproduct metrics\\nWrite production ready high quality, maintainable and scalable code.\\nDesign and analyze metrics to verify model and algorithm effectiveness.\\nExperience with data analysis languages such as Python or Scala\\nExperience with Machine Learning tools (Azure ML, SageMaker, TensorFlow, Kubernetes, etc.)\\nExperience with Machine Learning Languages (R, Python, .Net Core, etc.)\\n\\nRoleProduct Manager\\nIndustry TypeIT Services & Consulting\\nFunctional AreaIT Software - Application Programming, Maintenance\\nEmployment TypeFull Time, Permanent\\nRole CategoryProgramming & Design\\nEducation\\nUG :Any Graduate\\nKey Skills\\nData ScienceMachine LearningPython\\nTensorflowAlgorithmsSCALAData AnalysisAnalyticsKubernetes\\nSkills highlighted with ‘‘ are preferred keyskills',\n",
       " '--',\n",
       " 'Job description\\nUse predictive modeling to increase and optimize customer experiences, revenue generation, campaign optimization and other business outcomes\\nWork with product management to develop data use cases and embed predictive models in workflows on resource constrained platforms and cloud enabled.\\nSelecting features, building and optimizing classifiers using machine learning and deep learning techniques\\nCollaborates with Data Engineers to enhance data collection and ingestion/curation techniques to include information that is relevant for building analytic systems\\nProcessing, cleansing, and verifying the integrity of data used for analysis\\nDevelop processes and tools to monitor and analyze model performance and data accuracy. Life cycle management of predictive models.\\nAdherence to compliance procedures in accordance with regulatory standards, requirements, and policies. Managing and designing the reporting environment, including data sources security, and metadata.\\nJob Qualifications:\\nMaster s degree or PhD in Computer Science, Information management, Statistics or related field, with 3 to 5 years of experience in the Consumer or Healthcare industry manipulating data sets and building predictive models with focus on product development\\nExperience in statistical modelling, machine learning, data mining, unstructured data analytics and natural language processing. Sound understanding of - Bayesian Modelling, Classification Models, Cluster Analysis, Neural Network, Nonparametric Methods, Multivariate Statistics, etc.\\nStrong hands on knowledge of ML techniques like regression algorithms, K-NN, Na ve Bayes, SVM and ensemble techniques like Random forest, AdaBoost etc\\nHaving strong knowledge in unsupervised learning algorithms using Neural networks and Deep-Learning\\nStrong knowledge in Data Wrangling and Exploration techniques to identify the patterns, trends and outliners.\\nDeep knowledge and practical experience with data science toolkits, such as NumPy, Pandas, scikit-learn or equivalent\\nExperience with data visualization tools, such as QlikView, Matplotlib, seaborn or equivalent tools.\\nProficiency in using query languages, such as SQL, PL/SQL\\nHands on experience in the one or more databases like Hadoop, AWS Redshift, Snowflake etc.\\nGood applied statistics skills, such as distributions, statistical testing, regression, etc.\\nGood ETL scripting and programming skills, such as Python, R or Scala to integrate developed solution into the proposition.\\nA team player capable of working and integrating across cross-functional team for implementing project requirements. Experience in technical requirements gathering and documentation.\\nAbility to work effectively and independently in a fast-paced global collaborative agile team environment with tight deadlines\\nA flexible, pragmatic and collaborative team player with innate ability to engage with stakeholders at all levels in the organization.\\nA self-starter with high levels of drive, energy, resilience and a desire for professional excellence with a passion for data and data science\\nRoleClinical Research Associate/Scientist\\nIndustry TypeMedical Services / Hospital\\nFunctional AreaMedical, Healthcare, R&D, Pharmaceuticals, Biotechnology\\nEmployment TypeFull Time, Permanent\\nRole CategoryR&D\\nEducation\\nUG :Any Graduate\\nPG :Post Graduation Not Required\\nKey Skills\\nProduct managementComputer sciencemetadataMachine learningAgilePLSQLHealthcareQlikViewData miningPython',\n",
       " 'Job description\\nA day in the Life of Data Scientist at Brillio, you will:\\n• Partner closely with project managers to deconstruct business problems of the client, develop data models and algorithms that deliver meaningful insights\\n• Take ownership of whole end-to-end predictive modeling projects - from data processing, training, optimization to real-time monitoring and maintenance\\n• Develop solutions to data driven problems, and communicate relevant insights to stakeholders through storyboards/presentations\\n• Stay abreast with current technical and industry development and constantly strive to devise innovative statistical models for data analysis\\n• Actively participate in external forums and industry conclaves\\nFor you to be successful, you must:\\n• Create value by meeting needs of stakeholders and delivering high-quality results\\n• Open and flexible to accommodate and implement new ideas, understand business complexities, nurture innovation and challenge the status quo persistently\\n• Strive to be subject matter expert in chosen area of specialty through continuous learning\\n• Have an eye for detail to ensure accurate conclusions in data analysis and presentations. Disseminate knowledge and share own experiential learning with others\\nYou’ll bring this to the table:\\n• Critical Thinking: ability to work in ambiguous situations with unstructured problems\\n• Strong analytical skills with the ability to collect, organize, review significant amounts of information\\n• Experience using statistical computer language Python to manipulate data and draw insights from large data sets.\\n• Working knowledge in basic statistical concepts such as properties of distributions, statistical tests and their proper usage\\n• Expertise in some of the advanced machine learning techniques such as Clustering, Regression/Classification, Time Series Analysis, Network Analysis, Popular Deep Learning architectures and theory, simulation, scenario analysis\\n• Clear, professional written and verbal communication skills, ability to easily communicate complex ideas\\n• Experience with any distributed data/computing tools: Map/Reduce, Hadoop, Hive, Spark, etc.\\n• Experience with machine learning on Cloud.\\nRoleData Analyst\\nIndustry TypeIT Services & Consulting\\nFunctional AreaAnalytics & Business Intelligence\\nEmployment TypeFull Time, Permanent\\nRole CategoryAnalytics & BI\\nEducation\\nUG :Any Graduate\\nPG :Any Postgraduate\\nKey Skills\\nPredictive ModelingHiveTime Series AnalysisClassificationHadoopData AnalysisSparkMachine LearningDeep LearningPython',\n",
       " \"Job description\\n\\nMust Have skill sets:\\n\\nExcellent knowledge of various statistical / Machine Learning / Deep Learning algorithms such as Feature Engineering/selection, Time series, Regression, Classification, Clustering, Recommendation Engine, Anomaly Detection, NLP, Reinforcement Learning etc.)\\n4 to 8 years of hands-on expertise in developing data science models by applying above mentioned algorithms on structured / text data, using R / Python\\nProficient in writing optimized query using any one of the DB query language (Hive/Impala/SQL/MongoDB etc.). Knowledge of big data is essential\\n\\nGood to Have skill sets:\\n\\nVisualization using any one of the technologies (Tableau, PowerBI, RShiny, matplotlib, ggplot etc.). In case of lack of skills, eagerness to learn is must\\nInsight Generation and Story telling to end consumers\\nExperience across end to end data science project life cycle (use case framing, data collection, data exploration, design of experiments, model development, selection and deployment, post production support)\\nSelf-motivated to learn different techniques / technologies, as per the project's need and go extra mile to bring customer delight\\n\\nEducational Qualification:\\n\\nAny of the following:\\n• Bachelors in Engineering / MCA\\n• Masters in Data Science/ Computer Applications/ Statistics/ Mathematics/ Economics/ Ops Research/ Other quantitative disciplines\\n• MBA\\n\\nJob Responsibilities:\\nOwn and execute end to end delivery of one or more than one data science model development, as per requirement provided by project/product manager\\nUnderstand business requirements from Product Managers/Business Users\\nExtract data from multiple data sources using Hadoop / SQL\\nDevelop, Validate and Operationalize predictive models using appropriate variables and ML/deep learning techniques\\nPerform ad-hoc deep dive analysis and generate actionable insights\\nCreate technical documentation and provide post-production support for a time-bound period\\nCommunicate the results to technical as well as business stakeholders across different hierarchies\\nRoleData Analyst\\nIndustry TypeRecruitment / Staffing\\nFunctional AreaAnalytics & Business Intelligence\\nEmployment TypeFull Time, Permanent\\nRole CategoryAnalytics & BI\\nEducation\\nUG :B.Tech/B.E. in Any Specialization\\nKey Skills\\nData ScienceMachine LearningPython\\nAnomaly DetectionMatplotlibRNLPReinforcement LearningDeep LearningSQL\\nSkills highlighted with ‘‘ are preferred keyskills\",\n",
       " '--',\n",
       " '--',\n",
       " 'Job description\\nAs a Senior Data Scientist for Walmart, you ll have the opportunity to:\\nDrive data-derived insights across a wide range of divisions by developing advanced statistical models, machine learning algorithms and computational algorithms based on business initiatives\\nDirect the gathering of data, assessing data validity and synthesizing data into large analytics datasets to support project goals\\nUtilize big data analytics and advanced data science techniques to identify trends, patterns, and discrepancies in data. Determine additional data needed to support insights\\nBuild and train statistical models and machine learning algorithms\\nApply your semantic, natural language processing and understanding expertise where required\\nUse deep learning and image recognition project goals\\nComputer Vision will be an important focus area for this role\\nProductionize the models and make those available at scale\\nBuild and maintain end to end Machine Learning pipelines\\nBe comfortable with ambiguity and uncertainty and the eagerness to change the world in a huge way by being a self-motivated learner and builder\\nCommunicate recommendations to business partners and influencing future plans based on insights\\nYour Responsibility\\nPlay a key role to solve complex problems, pivotal to Walmart s business and drive actionable insights from petabytes of data\\nUtilize product mindset to build, scale and deploy holistic data science products after successful prototyping\\nDemonstrate incremental solution approach with agile and flexible ability to overcome practical problems\\nPartner with senior team members to assess customer needs and define business questions\\nClearly articulate and present recommendations to business partners, and influence future plans based on insights\\nWork with customer centric mindset to deliver high quality business driven analytic solution\\nDrive innovation in approach, method, practices, process, outcome, delivery, or any component of end-to-end problem solving\\nDemonstrates up-to-date expertise and applies this to the development, execution, and improvement of action plans\\nPreferred Qualifications\\nBachelors degree in Statistics, Mathematics, Computer Science or a related field and 8 years experience in an analytics/DS related field, or,\\nMasters degree in Statistics, Mathematics, Computer Science or a related field and 6 years experience in an analytics/DS related field.\\nHigh proficiency in data mining, modeling, validation and insight generation.\\nExcellent working knowledge of statistics, mathematics, machine learning, data mining, deep learning\\nHigh proficiency in coding including Python and SQL\\nExperience with databases (for example, DB2, Oracle, SQL Server)\\nExperience with Big Data technologies such as Pig, Hive and/or Spark\\nAbility to work with large data sets. Has sound understanding of big data technology stack\\nUnderstanding of cloud computing platforms and large-scale databases\\nProven ability to collaborate and work in teams\\nExcellent with communications and stakeholder engagement\\nData science publications in recognized platforms/journals\\nProven ability to work in agile mode on data science sprint projects\\nRoleDatabase Architect/Designer\\nIndustry TypeIT Services & Consulting\\nFunctional AreaIT Software - DBA, Datawarehousing\\nEmployment TypeFull Time, Permanent\\nRole CategoryProgramming & Design\\nEducation\\nUG :Any Graduate\\nPG :Any Postgraduate\\nKey Skills\\nProcurementComputer scienceCloud computingData analysisdata scienceDb2CodingAgileData miningPython',\n",
       " 'Job description\\nResponsibilities include:\\nDefining and evaluating key metrics and understanding what moves them and why\\nOwnership of conceptualizing, developing, and maintaining dashboards and visualizations\\nInvestigating evolving fraud trends to extract patterns, identify root causes and propose actionable solutions\\nCommunicating analyses and recommendations to cross functional stakeholders for decision making\\nEmpowering the team to answer data questions quickly and easily by building high-quality ground truth data sets\\nHere are example traits we value:\\nProfessional industry experience in a quantitative analysis role (7+ years preferred)\\nComfortable in SQL and some experience with a programming language (Python or R a plus)\\nAbility to communicate clearly and effectively to cross functional partners of varying technical levels\\nAbility to define relevant metrics that can guide and influence stakeholders to the appropriate and accurate insights\\nExperience or willingness to learn tools to create data pipelines using Airflow\\nBuilding clear and easy to understand dashboards (Tableau) and presentations\\nRoleGraphic/Web Designer\\nIndustry TypeInternet\\nFunctional AreaIT Software - DBA, Datawarehousing\\nEmployment TypeFull Time, Permanent\\nRole CategoryProgramming & Design\\nEducation\\nUG :Any Graduate\\nPG :Any Postgraduate\\nKey Skills\\nData ScienceRData ScientistTableauPythonSql',\n",
       " '--']"
      ]
     },
     "execution_count": 46,
     "metadata": {},
     "output_type": "execute_result"
    }
   ],
   "source": [
    "job_description"
   ]
  },
  {
   "cell_type": "code",
   "execution_count": 49,
   "id": "a27c9807",
   "metadata": {},
   "outputs": [
    {
     "name": "stdout",
     "output_type": "stream",
     "text": [
      "20 20 20 10\n"
     ]
    }
   ],
   "source": [
    "print(len(job_titles),len(company_names),len(location_list),len(job_description))"
   ]
  },
  {
   "cell_type": "code",
   "execution_count": 47,
   "id": "42d95020",
   "metadata": {},
   "outputs": [
    {
     "data": {
      "text/html": [
       "<div>\n",
       "<style scoped>\n",
       "    .dataframe tbody tr th:only-of-type {\n",
       "        vertical-align: middle;\n",
       "    }\n",
       "\n",
       "    .dataframe tbody tr th {\n",
       "        vertical-align: top;\n",
       "    }\n",
       "\n",
       "    .dataframe thead th {\n",
       "        text-align: right;\n",
       "    }\n",
       "</style>\n",
       "<table border=\"1\" class=\"dataframe\">\n",
       "  <thead>\n",
       "    <tr style=\"text-align: right;\">\n",
       "      <th></th>\n",
       "      <th>Job title</th>\n",
       "      <th>Company Name</th>\n",
       "      <th>Location</th>\n",
       "      <th>Full Job Description</th>\n",
       "    </tr>\n",
       "  </thead>\n",
       "  <tbody>\n",
       "    <tr>\n",
       "      <th>0</th>\n",
       "      <td>Hiring For Data Scientist</td>\n",
       "      <td>Tata Consultancy Services Ltd.</td>\n",
       "      <td>Chennai, Bangalore/Bengaluru, Mumbai (All Area...</td>\n",
       "      <td>Job description\\nMinumum 3 years of experience...</td>\n",
       "    </tr>\n",
       "    <tr>\n",
       "      <th>1</th>\n",
       "      <td>Lead Data Scientist BFSI</td>\n",
       "      <td>IBM India Pvt. Limited</td>\n",
       "      <td>Bengaluru/Bangalore</td>\n",
       "      <td>--</td>\n",
       "    </tr>\n",
       "    <tr>\n",
       "      <th>2</th>\n",
       "      <td>Associate Data Scientist</td>\n",
       "      <td>Philips India Limited</td>\n",
       "      <td>Bangalore/Bengaluru</td>\n",
       "      <td>Job description\\nUse predictive modeling to in...</td>\n",
       "    </tr>\n",
       "    <tr>\n",
       "      <th>3</th>\n",
       "      <td>Data Scientist</td>\n",
       "      <td>Brillio</td>\n",
       "      <td>Bangalore/Bengaluru</td>\n",
       "      <td>Job description\\nA day in the Life of Data Sci...</td>\n",
       "    </tr>\n",
       "    <tr>\n",
       "      <th>4</th>\n",
       "      <td>Data Scientist</td>\n",
       "      <td>Allegis Services India Pvt. Ltd.</td>\n",
       "      <td>Bangalore/Bengaluru</td>\n",
       "      <td>Job description\\n\\nMust Have skill sets:\\n\\nEx...</td>\n",
       "    </tr>\n",
       "    <tr>\n",
       "      <th>5</th>\n",
       "      <td>Data Scientist</td>\n",
       "      <td>Allegis Services India Pvt. Ltd.</td>\n",
       "      <td>Bangalore/Bengaluru</td>\n",
       "      <td>--</td>\n",
       "    </tr>\n",
       "    <tr>\n",
       "      <th>6</th>\n",
       "      <td>Data Scientist: Advanced Analytics</td>\n",
       "      <td>IBM India Pvt. Limited</td>\n",
       "      <td>Bengaluru/Bangalore</td>\n",
       "      <td>--</td>\n",
       "    </tr>\n",
       "    <tr>\n",
       "      <th>7</th>\n",
       "      <td>Senior Data Scientist</td>\n",
       "      <td>Walmart Labs</td>\n",
       "      <td>Bangalore/Bengaluru</td>\n",
       "      <td>Job description\\nAs a Senior Data Scientist fo...</td>\n",
       "    </tr>\n",
       "    <tr>\n",
       "      <th>8</th>\n",
       "      <td>Senior Data Scientist</td>\n",
       "      <td>Airbnb</td>\n",
       "      <td>Bangalore/Bengaluru</td>\n",
       "      <td>Job description\\nResponsibilities include:\\nDe...</td>\n",
       "    </tr>\n",
       "    <tr>\n",
       "      <th>9</th>\n",
       "      <td>Sr Data Scientist</td>\n",
       "      <td>IBM India Pvt. Limited</td>\n",
       "      <td>Bengaluru/Bangalore</td>\n",
       "      <td>--</td>\n",
       "    </tr>\n",
       "  </tbody>\n",
       "</table>\n",
       "</div>"
      ],
      "text/plain": [
       "                            Job title                      Company Name  \\\n",
       "0           Hiring For Data Scientist    Tata Consultancy Services Ltd.   \n",
       "1            Lead Data Scientist BFSI            IBM India Pvt. Limited   \n",
       "2            Associate Data Scientist             Philips India Limited   \n",
       "3                      Data Scientist                           Brillio   \n",
       "4                      Data Scientist  Allegis Services India Pvt. Ltd.   \n",
       "5                      Data Scientist  Allegis Services India Pvt. Ltd.   \n",
       "6  Data Scientist: Advanced Analytics            IBM India Pvt. Limited   \n",
       "7               Senior Data Scientist                      Walmart Labs   \n",
       "8               Senior Data Scientist                            Airbnb   \n",
       "9                   Sr Data Scientist            IBM India Pvt. Limited   \n",
       "\n",
       "                                            Location  \\\n",
       "0  Chennai, Bangalore/Bengaluru, Mumbai (All Area...   \n",
       "1                                Bengaluru/Bangalore   \n",
       "2                                Bangalore/Bengaluru   \n",
       "3                                Bangalore/Bengaluru   \n",
       "4                                Bangalore/Bengaluru   \n",
       "5                                Bangalore/Bengaluru   \n",
       "6                                Bengaluru/Bangalore   \n",
       "7                                Bangalore/Bengaluru   \n",
       "8                                Bangalore/Bengaluru   \n",
       "9                                Bengaluru/Bangalore   \n",
       "\n",
       "                                Full Job Description  \n",
       "0  Job description\\nMinumum 3 years of experience...  \n",
       "1                                                 --  \n",
       "2  Job description\\nUse predictive modeling to in...  \n",
       "3  Job description\\nA day in the Life of Data Sci...  \n",
       "4  Job description\\n\\nMust Have skill sets:\\n\\nEx...  \n",
       "5                                                 --  \n",
       "6                                                 --  \n",
       "7  Job description\\nAs a Senior Data Scientist fo...  \n",
       "8  Job description\\nResponsibilities include:\\nDe...  \n",
       "9                                                 --  "
      ]
     },
     "execution_count": 47,
     "metadata": {},
     "output_type": "execute_result"
    }
   ],
   "source": [
    "#creating dataframe\n",
    "jobs=pd.DataFrame({})\n",
    "jobs['Job title']=job_titles[:10]\n",
    "jobs['Company Name']=company_names[:10]\n",
    "jobs['Location']=location_list[:10]\n",
    "jobs['Full Job Description']=job_description\n",
    "\n",
    "jobs"
   ]
  },
  {
   "cell_type": "code",
   "execution_count": 48,
   "id": "d6d3d06b",
   "metadata": {},
   "outputs": [
    {
     "data": {
      "text/plain": [
       "10"
      ]
     },
     "execution_count": 48,
     "metadata": {},
     "output_type": "execute_result"
    }
   ],
   "source": [
    "#dataframe length\n",
    "len(jobs)"
   ]
  },
  {
   "cell_type": "code",
   "execution_count": 50,
   "id": "c97fc1f4",
   "metadata": {},
   "outputs": [],
   "source": [
    "#Q3) a python program to scrape data for “Data Scientist” Job position in \n",
    "#\"Delhi/NCR\" location. You have to scrape the job-title, job-location,\n",
    "#company_name, full job-description. You have to scrape first 10 jobs data.\n",
    "\n",
    "\n",
    "#connect to the webdriver\n",
    "driver=webdriver.Chrome(\"chromedriver.exe\")"
   ]
  },
  {
   "cell_type": "code",
   "execution_count": 51,
   "id": "d4ccacfb",
   "metadata": {},
   "outputs": [],
   "source": [
    "url=\"https://www.naukri.com/\"\n",
    "driver.get(url)"
   ]
  },
  {
   "cell_type": "code",
   "execution_count": 52,
   "id": "1d4a781f",
   "metadata": {},
   "outputs": [
    {
     "data": {
      "text/plain": [
       "<selenium.webdriver.remote.webelement.WebElement (session=\"123664a79856ff97069151c6978b2e82\", element=\"45878d81-ccca-4aa3-bc0b-e7ccdece0075\")>"
      ]
     },
     "execution_count": 52,
     "metadata": {},
     "output_type": "execute_result"
    }
   ],
   "source": [
    "#finding the element for job title\n",
    "search_job=driver.find_element_by_id('qsb-keyword-sugg')\n",
    "search_job"
   ]
  },
  {
   "cell_type": "code",
   "execution_count": 53,
   "id": "bce30f9a",
   "metadata": {},
   "outputs": [],
   "source": [
    "#sending key value\n",
    "search_job.send_keys(\"Data Scientist\")"
   ]
  },
  {
   "cell_type": "code",
   "execution_count": 54,
   "id": "a22f2453",
   "metadata": {},
   "outputs": [],
   "source": [
    "#clicking on search button\n",
    "search_btn=driver.find_element_by_class_name('btn')\n",
    "search_btn.click()"
   ]
  },
  {
   "cell_type": "code",
   "execution_count": 55,
   "id": "706b4f07",
   "metadata": {},
   "outputs": [
    {
     "data": {
      "text/plain": [
       "<selenium.webdriver.remote.webelement.WebElement (session=\"123664a79856ff97069151c6978b2e82\", element=\"34d5f9c5-9792-4f0e-8db1-77333668f623\")>"
      ]
     },
     "execution_count": 55,
     "metadata": {},
     "output_type": "execute_result"
    }
   ],
   "source": [
    "#applying location filter\n",
    "location=driver.find_element_by_xpath(\"//span[@title='Delhi / NCR']\")\n",
    "location"
   ]
  },
  {
   "cell_type": "code",
   "execution_count": 56,
   "id": "1e142640",
   "metadata": {},
   "outputs": [],
   "source": [
    "location.click()"
   ]
  },
  {
   "cell_type": "code",
   "execution_count": 57,
   "id": "81aaf906",
   "metadata": {},
   "outputs": [
    {
     "data": {
      "text/plain": [
       "<selenium.webdriver.remote.webelement.WebElement (session=\"123664a79856ff97069151c6978b2e82\", element=\"f18ed85f-6675-44c5-9567-8993ee317474\")>"
      ]
     },
     "execution_count": 57,
     "metadata": {},
     "output_type": "execute_result"
    }
   ],
   "source": [
    "#applying salary filter\n",
    "salary=driver.find_element_by_xpath(\"//span[@title='3-6 Lakhs']\")\n",
    "salary"
   ]
  },
  {
   "cell_type": "code",
   "execution_count": 58,
   "id": "148f4acd",
   "metadata": {},
   "outputs": [],
   "source": [
    "salary.click()"
   ]
  },
  {
   "cell_type": "code",
   "execution_count": 59,
   "id": "77a0c232",
   "metadata": {},
   "outputs": [
    {
     "data": {
      "text/plain": [
       "[<selenium.webdriver.remote.webelement.WebElement (session=\"123664a79856ff97069151c6978b2e82\", element=\"46d1db0f-ce8c-4f7e-8dba-f694c2557473\")>,\n",
       " <selenium.webdriver.remote.webelement.WebElement (session=\"123664a79856ff97069151c6978b2e82\", element=\"e53f4247-e18f-464a-b39b-3dda9fa942b9\")>,\n",
       " <selenium.webdriver.remote.webelement.WebElement (session=\"123664a79856ff97069151c6978b2e82\", element=\"a58d3e5b-a6b8-464c-9d4d-08340e8b32cf\")>,\n",
       " <selenium.webdriver.remote.webelement.WebElement (session=\"123664a79856ff97069151c6978b2e82\", element=\"0ef4690a-0003-41f4-9d3b-93905467ff22\")>,\n",
       " <selenium.webdriver.remote.webelement.WebElement (session=\"123664a79856ff97069151c6978b2e82\", element=\"33608531-7bfd-4ae7-9c47-0a59a116b71c\")>,\n",
       " <selenium.webdriver.remote.webelement.WebElement (session=\"123664a79856ff97069151c6978b2e82\", element=\"b547f7e0-475f-446a-ba05-9ffa84de1e9e\")>,\n",
       " <selenium.webdriver.remote.webelement.WebElement (session=\"123664a79856ff97069151c6978b2e82\", element=\"97716031-3091-424d-92db-e108691ddbea\")>,\n",
       " <selenium.webdriver.remote.webelement.WebElement (session=\"123664a79856ff97069151c6978b2e82\", element=\"8126c22c-5b53-4dac-a701-a257cfe12fdc\")>,\n",
       " <selenium.webdriver.remote.webelement.WebElement (session=\"123664a79856ff97069151c6978b2e82\", element=\"59159916-c7dd-41d8-b5d8-7f526b412c87\")>,\n",
       " <selenium.webdriver.remote.webelement.WebElement (session=\"123664a79856ff97069151c6978b2e82\", element=\"b43998ae-597a-4d37-9de1-2042c90bc892\")>,\n",
       " <selenium.webdriver.remote.webelement.WebElement (session=\"123664a79856ff97069151c6978b2e82\", element=\"7197a93a-2929-4c93-9c64-1d802328c7cf\")>,\n",
       " <selenium.webdriver.remote.webelement.WebElement (session=\"123664a79856ff97069151c6978b2e82\", element=\"f5cd23b1-fac9-4799-ad54-fdc3be702888\")>,\n",
       " <selenium.webdriver.remote.webelement.WebElement (session=\"123664a79856ff97069151c6978b2e82\", element=\"e101dd7a-b649-4f4b-a8ff-20cd0a1bc5b8\")>,\n",
       " <selenium.webdriver.remote.webelement.WebElement (session=\"123664a79856ff97069151c6978b2e82\", element=\"42264eb8-040d-4424-a02d-9f9b43b991cd\")>,\n",
       " <selenium.webdriver.remote.webelement.WebElement (session=\"123664a79856ff97069151c6978b2e82\", element=\"3d8d99a0-1937-4e98-9313-5d39caee1ee6\")>,\n",
       " <selenium.webdriver.remote.webelement.WebElement (session=\"123664a79856ff97069151c6978b2e82\", element=\"2d5872b5-0c04-4034-82bd-91ebc31e4c53\")>,\n",
       " <selenium.webdriver.remote.webelement.WebElement (session=\"123664a79856ff97069151c6978b2e82\", element=\"5981980c-3240-4886-9b6f-f4bcb465d33b\")>,\n",
       " <selenium.webdriver.remote.webelement.WebElement (session=\"123664a79856ff97069151c6978b2e82\", element=\"7bd41ae5-4534-4fa2-ad1a-ebe3febf67eb\")>,\n",
       " <selenium.webdriver.remote.webelement.WebElement (session=\"123664a79856ff97069151c6978b2e82\", element=\"b0d1f5a0-27f5-4f6e-92fa-1dc819e1a95f\")>,\n",
       " <selenium.webdriver.remote.webelement.WebElement (session=\"123664a79856ff97069151c6978b2e82\", element=\"4c29ed93-5d83-45c6-931e-5f9a861524f2\")>]"
      ]
     },
     "execution_count": 59,
     "metadata": {},
     "output_type": "execute_result"
    }
   ],
   "source": [
    "#finding all the job title elements\n",
    "title=driver.find_elements_by_xpath(\"//a[@class='title fw500 ellipsis']\")\n",
    "title"
   ]
  },
  {
   "cell_type": "code",
   "execution_count": 60,
   "id": "039335a0",
   "metadata": {},
   "outputs": [
    {
     "data": {
      "text/plain": [
       "['Data Scientist/ Machine Learning Engineer',\n",
       " 'Data Scientist / Data Analyst / Business Analytics - MNC Jobs Freshers',\n",
       " 'Data Scientist - WFH - MIND Infotech',\n",
       " 'Data Scientist / Data Analyst',\n",
       " 'Only Fresher / Data Scientist / Data Analyst / Analytics - MNC Jobs',\n",
       " 'Data Scientist / Data Analyst / Business Analytics - MNC Jobs Freshers',\n",
       " 'Data Scientist',\n",
       " 'Data Scientist',\n",
       " 'Data Scientist - Insurance',\n",
       " 'Data Analyst/Data Scientist',\n",
       " 'Junior Data Scientists & Engineers',\n",
       " 'Immediate Openings For Data Scientist For Wipro C2H',\n",
       " 'Data Scientist',\n",
       " 'Data Scientist',\n",
       " 'Senior Data Scientist',\n",
       " 'Data Scientist - Machine Learning/ NLP',\n",
       " 'Data Scientist-immediate Joiners',\n",
       " 'Hiring Data Scientist Develope || IDS Infotech LTD || (Permanent WFH)',\n",
       " 'Data Scientist',\n",
       " 'Data Scientist']"
      ]
     },
     "execution_count": 60,
     "metadata": {},
     "output_type": "execute_result"
    }
   ],
   "source": [
    "#extracting the text\n",
    "job_titles=[]\n",
    "for i in title:\n",
    "    job_titles.append(i.text)\n",
    "job_titles"
   ]
  },
  {
   "cell_type": "code",
   "execution_count": 61,
   "id": "62ac7a00",
   "metadata": {},
   "outputs": [
    {
     "data": {
      "text/plain": [
       "[<selenium.webdriver.remote.webelement.WebElement (session=\"123664a79856ff97069151c6978b2e82\", element=\"24db3e55-2d48-4da5-ac78-71ad3a3e699b\")>,\n",
       " <selenium.webdriver.remote.webelement.WebElement (session=\"123664a79856ff97069151c6978b2e82\", element=\"a0e932f1-a786-4bd6-93f7-98ed6a8eed1d\")>,\n",
       " <selenium.webdriver.remote.webelement.WebElement (session=\"123664a79856ff97069151c6978b2e82\", element=\"8d9d835b-2981-4533-a959-0ab61e85b8c0\")>,\n",
       " <selenium.webdriver.remote.webelement.WebElement (session=\"123664a79856ff97069151c6978b2e82\", element=\"2a80e9a2-2cc2-4818-8747-09b2e5810ed4\")>,\n",
       " <selenium.webdriver.remote.webelement.WebElement (session=\"123664a79856ff97069151c6978b2e82\", element=\"8fd28587-8713-4bdd-a79c-107cf8aa4392\")>,\n",
       " <selenium.webdriver.remote.webelement.WebElement (session=\"123664a79856ff97069151c6978b2e82\", element=\"55cab625-d0a7-4e5a-9541-7c5fbefcd47f\")>,\n",
       " <selenium.webdriver.remote.webelement.WebElement (session=\"123664a79856ff97069151c6978b2e82\", element=\"50b88ee0-2a1e-4281-8264-0536a9f663cb\")>,\n",
       " <selenium.webdriver.remote.webelement.WebElement (session=\"123664a79856ff97069151c6978b2e82\", element=\"7bb0ad75-c718-458f-8cab-f83c9693d089\")>,\n",
       " <selenium.webdriver.remote.webelement.WebElement (session=\"123664a79856ff97069151c6978b2e82\", element=\"94d6bac4-ed1c-4a84-9174-589d87f41e78\")>,\n",
       " <selenium.webdriver.remote.webelement.WebElement (session=\"123664a79856ff97069151c6978b2e82\", element=\"fdf37630-d20d-4fb3-b9eb-eaaabd925bfe\")>,\n",
       " <selenium.webdriver.remote.webelement.WebElement (session=\"123664a79856ff97069151c6978b2e82\", element=\"0701df5e-97d6-4443-8409-cb5afe1b7991\")>,\n",
       " <selenium.webdriver.remote.webelement.WebElement (session=\"123664a79856ff97069151c6978b2e82\", element=\"93927f01-7215-4ed6-af9d-c9f6d5d09987\")>,\n",
       " <selenium.webdriver.remote.webelement.WebElement (session=\"123664a79856ff97069151c6978b2e82\", element=\"83e2a6c2-5e7d-42ad-b18c-dd3155324cfe\")>,\n",
       " <selenium.webdriver.remote.webelement.WebElement (session=\"123664a79856ff97069151c6978b2e82\", element=\"40cf5901-aae9-45fb-954e-0de04f61ef5f\")>,\n",
       " <selenium.webdriver.remote.webelement.WebElement (session=\"123664a79856ff97069151c6978b2e82\", element=\"de428cdd-df4a-4b5d-bfd7-fc634ccbc720\")>,\n",
       " <selenium.webdriver.remote.webelement.WebElement (session=\"123664a79856ff97069151c6978b2e82\", element=\"f12eb5a0-639a-4d9f-8b55-d0a48cd08aca\")>,\n",
       " <selenium.webdriver.remote.webelement.WebElement (session=\"123664a79856ff97069151c6978b2e82\", element=\"65e29f44-ee5f-43f2-9139-77e5bdee8096\")>,\n",
       " <selenium.webdriver.remote.webelement.WebElement (session=\"123664a79856ff97069151c6978b2e82\", element=\"e655a2e2-5317-4cc0-9acb-79171b7d071b\")>,\n",
       " <selenium.webdriver.remote.webelement.WebElement (session=\"123664a79856ff97069151c6978b2e82\", element=\"e5348d2b-41b5-4312-a0b2-2f6f93ecdd99\")>,\n",
       " <selenium.webdriver.remote.webelement.WebElement (session=\"123664a79856ff97069151c6978b2e82\", element=\"17ab45a6-dd4d-4392-8ee3-1a4bd34a1f67\")>]"
      ]
     },
     "execution_count": 61,
     "metadata": {},
     "output_type": "execute_result"
    }
   ],
   "source": [
    "#finding location elements\n",
    "location=driver.find_elements_by_xpath(\"//li[@class='fleft grey-text br2 placeHolderLi location']\")\n",
    "location"
   ]
  },
  {
   "cell_type": "code",
   "execution_count": 62,
   "id": "b2c8fb16",
   "metadata": {},
   "outputs": [
    {
     "data": {
      "text/plain": [
       "['Hyderabad/Secunderabad, Pune, Ahmedabad, Gurgaon/Gurugram, Chennai, Bangalore/Bengaluru',\n",
       " 'Ghaziabad, Faridabad, Delhi / NCR',\n",
       " 'Pune, Chennai, Bangalore/Bengaluru, Delhi / NCR, Mumbai (All Areas)',\n",
       " 'Gurgaon/Gurugram',\n",
       " 'Noida, Gurgaon/Gurugram, Delhi / NCR',\n",
       " 'Noida, New Delhi, Gurgaon/Gurugram',\n",
       " 'Noida\\n(WFH during Covid)',\n",
       " 'Gurgaon/Gurugram\\n(WFH during Covid)',\n",
       " 'Noida, Gurgaon/Gurugram',\n",
       " 'Bangalore/Bengaluru, Delhi / NCR, Mumbai (All Areas)',\n",
       " 'New Delhi, Delhi / NCR',\n",
       " 'Gurgaon/Gurugram',\n",
       " 'Mumbai, Gurgaon/Gurugram, Bangalore/Bengaluru',\n",
       " 'Delhi / NCR(Okhla)',\n",
       " 'Hyderabad/Secunderabad, Gurgaon/Gurugram, Bangalore/Bengaluru',\n",
       " 'Gurgaon/Gurugram',\n",
       " 'Noida',\n",
       " 'Chandigarh, Hyderabad/Secunderabad, Chennai, Bangalore/Bengaluru, Delhi / NCR',\n",
       " 'Gurgaon, Bengaluru',\n",
       " 'Bharuch, Jaipur, Bhopal, Mumbai, Jhansi, Nagpur, Ghaziabad, Jaunpur, Kanpur, Delhi, Lucknow, Agra, Gurgaon, Rajkot, Bengaluru']"
      ]
     },
     "execution_count": 62,
     "metadata": {},
     "output_type": "execute_result"
    }
   ],
   "source": [
    "#extracting the text\n",
    "location_list=[]\n",
    "for i in location:\n",
    "    location_list.append(i.text)\n",
    "location_list"
   ]
  },
  {
   "cell_type": "code",
   "execution_count": 63,
   "id": "82844c72",
   "metadata": {},
   "outputs": [
    {
     "data": {
      "text/plain": [
       "[<selenium.webdriver.remote.webelement.WebElement (session=\"123664a79856ff97069151c6978b2e82\", element=\"0d438b2b-4453-4080-bac1-cd5c6765a628\")>,\n",
       " <selenium.webdriver.remote.webelement.WebElement (session=\"123664a79856ff97069151c6978b2e82\", element=\"c86f94a6-f3d7-4fb0-8eed-857929c81060\")>,\n",
       " <selenium.webdriver.remote.webelement.WebElement (session=\"123664a79856ff97069151c6978b2e82\", element=\"a0239d67-973b-45c3-bee4-b242c6d77feb\")>,\n",
       " <selenium.webdriver.remote.webelement.WebElement (session=\"123664a79856ff97069151c6978b2e82\", element=\"ea8b1fde-a26e-4068-98be-fc1f6bd585a7\")>,\n",
       " <selenium.webdriver.remote.webelement.WebElement (session=\"123664a79856ff97069151c6978b2e82\", element=\"c97ebb6b-407e-4bd3-8d10-51e5a47fc6b9\")>,\n",
       " <selenium.webdriver.remote.webelement.WebElement (session=\"123664a79856ff97069151c6978b2e82\", element=\"5821f83e-b6d0-4c97-b6eb-aa4ded00f0bd\")>,\n",
       " <selenium.webdriver.remote.webelement.WebElement (session=\"123664a79856ff97069151c6978b2e82\", element=\"d6e122ec-d816-45d7-9071-60f9488f4eec\")>,\n",
       " <selenium.webdriver.remote.webelement.WebElement (session=\"123664a79856ff97069151c6978b2e82\", element=\"fd287b4b-c19d-4612-94c8-70f4e0882ece\")>,\n",
       " <selenium.webdriver.remote.webelement.WebElement (session=\"123664a79856ff97069151c6978b2e82\", element=\"6d870a3e-9b6c-49f7-aa78-3c93d3bb0d16\")>,\n",
       " <selenium.webdriver.remote.webelement.WebElement (session=\"123664a79856ff97069151c6978b2e82\", element=\"f91bc911-6477-4fba-b40d-1a1652060ed5\")>,\n",
       " <selenium.webdriver.remote.webelement.WebElement (session=\"123664a79856ff97069151c6978b2e82\", element=\"42cfd9cf-5583-482e-9410-5f70c0b50fdb\")>,\n",
       " <selenium.webdriver.remote.webelement.WebElement (session=\"123664a79856ff97069151c6978b2e82\", element=\"0fb11bd9-2474-410c-9b3f-82bf4bad5bea\")>,\n",
       " <selenium.webdriver.remote.webelement.WebElement (session=\"123664a79856ff97069151c6978b2e82\", element=\"0ffc9a4a-d2b2-420e-859f-91737eccb2fc\")>,\n",
       " <selenium.webdriver.remote.webelement.WebElement (session=\"123664a79856ff97069151c6978b2e82\", element=\"20606ec0-ba4d-4f42-98b3-75f443c37dd2\")>,\n",
       " <selenium.webdriver.remote.webelement.WebElement (session=\"123664a79856ff97069151c6978b2e82\", element=\"5dc95aa6-8e8d-4fb2-ab7d-2005fbbdf6d9\")>,\n",
       " <selenium.webdriver.remote.webelement.WebElement (session=\"123664a79856ff97069151c6978b2e82\", element=\"29685ac8-3531-434f-a9b2-96455c52941e\")>,\n",
       " <selenium.webdriver.remote.webelement.WebElement (session=\"123664a79856ff97069151c6978b2e82\", element=\"e9224b26-8ab5-4068-94e4-7f7f341b218b\")>,\n",
       " <selenium.webdriver.remote.webelement.WebElement (session=\"123664a79856ff97069151c6978b2e82\", element=\"7ee44f49-3f02-44d2-a548-54192951fe54\")>,\n",
       " <selenium.webdriver.remote.webelement.WebElement (session=\"123664a79856ff97069151c6978b2e82\", element=\"a8e59355-32f1-47ac-9544-c7c75f96e212\")>,\n",
       " <selenium.webdriver.remote.webelement.WebElement (session=\"123664a79856ff97069151c6978b2e82\", element=\"4ca40853-ee15-41a4-9eb0-f0fc1367bbbd\")>]"
      ]
     },
     "execution_count": 63,
     "metadata": {},
     "output_type": "execute_result"
    }
   ],
   "source": [
    "#finding elements for company name\n",
    "company=driver.find_elements_by_xpath(\"//a[@class='subTitle ellipsis fleft']\")\n",
    "company"
   ]
  },
  {
   "cell_type": "code",
   "execution_count": 64,
   "id": "29ace7a1",
   "metadata": {},
   "outputs": [
    {
     "data": {
      "text/plain": [
       "['Creative Hands HR Consultancy',\n",
       " 'GABA Consultancy services',\n",
       " 'MOTHERSONSUMI INFOTECH & DESIGNS LIMITED',\n",
       " 'CARS24',\n",
       " 'GABA Consultancy services',\n",
       " 'GABA Consultancy services',\n",
       " 'R Systems International Ltd.',\n",
       " 'PROCESS NINE TECHNOLOGIES PVT.LTD.',\n",
       " 'Huquo Consulting Pvt. Ltd',\n",
       " 'Skillenable Fintech Private Limited',\n",
       " 'PY Consultancy',\n",
       " 'IDESLABS PRIVATE LIMITED',\n",
       " 'Fractal Analytics',\n",
       " 'Kusum Healthcare Pvt. Ltd.',\n",
       " 'inVentiv International Pharma Services Pvt. Ltd.',\n",
       " 'TalPro',\n",
       " 'Quikruit Consulting LLP',\n",
       " 'IDS Infotech Ltd.',\n",
       " 'BlackBuck',\n",
       " 'Country Veggie']"
      ]
     },
     "execution_count": 64,
     "metadata": {},
     "output_type": "execute_result"
    }
   ],
   "source": [
    "#extracting the text\n",
    "company_names=[]\n",
    "for i in company:\n",
    "    company_names.append(i.text)\n",
    "company_names"
   ]
  },
  {
   "cell_type": "code",
   "execution_count": 65,
   "id": "b31790eb",
   "metadata": {},
   "outputs": [
    {
     "data": {
      "text/plain": [
       "[<selenium.webdriver.remote.webelement.WebElement (session=\"123664a79856ff97069151c6978b2e82\", element=\"7646945d-3c20-4c02-9b2f-b736e0948a18\")>,\n",
       " <selenium.webdriver.remote.webelement.WebElement (session=\"123664a79856ff97069151c6978b2e82\", element=\"7e0b3b13-d91a-4ccb-8621-bea37c9b102d\")>,\n",
       " <selenium.webdriver.remote.webelement.WebElement (session=\"123664a79856ff97069151c6978b2e82\", element=\"d4e5a614-43cd-42fd-ab1c-95d19fb8dae3\")>,\n",
       " <selenium.webdriver.remote.webelement.WebElement (session=\"123664a79856ff97069151c6978b2e82\", element=\"2840efa2-8e20-4880-a4ae-b25f646b94e0\")>,\n",
       " <selenium.webdriver.remote.webelement.WebElement (session=\"123664a79856ff97069151c6978b2e82\", element=\"0d507823-fed4-4b31-9b84-a7758298d25d\")>,\n",
       " <selenium.webdriver.remote.webelement.WebElement (session=\"123664a79856ff97069151c6978b2e82\", element=\"f5d0a590-ff73-4d9d-ad1a-f08872be9115\")>,\n",
       " <selenium.webdriver.remote.webelement.WebElement (session=\"123664a79856ff97069151c6978b2e82\", element=\"8f7720d4-d2d1-41dc-b7f6-12fbd862f3d7\")>,\n",
       " <selenium.webdriver.remote.webelement.WebElement (session=\"123664a79856ff97069151c6978b2e82\", element=\"0b94703a-c383-41df-ab7e-bb341013415d\")>,\n",
       " <selenium.webdriver.remote.webelement.WebElement (session=\"123664a79856ff97069151c6978b2e82\", element=\"67ae5ddf-15fe-4880-9277-0096fe4c70ff\")>,\n",
       " <selenium.webdriver.remote.webelement.WebElement (session=\"123664a79856ff97069151c6978b2e82\", element=\"9a630d4a-516a-47ae-b94e-a8359ee7cfe3\")>,\n",
       " <selenium.webdriver.remote.webelement.WebElement (session=\"123664a79856ff97069151c6978b2e82\", element=\"133f5c08-b89f-4486-8c6f-7634d62a5edb\")>,\n",
       " <selenium.webdriver.remote.webelement.WebElement (session=\"123664a79856ff97069151c6978b2e82\", element=\"baef380d-934d-449a-9857-fa5e99a32f30\")>,\n",
       " <selenium.webdriver.remote.webelement.WebElement (session=\"123664a79856ff97069151c6978b2e82\", element=\"7d3fd82c-774d-4fdd-be24-b1094b63c060\")>,\n",
       " <selenium.webdriver.remote.webelement.WebElement (session=\"123664a79856ff97069151c6978b2e82\", element=\"9508e4b5-4cc7-4a2e-93a0-32e7391c299e\")>,\n",
       " <selenium.webdriver.remote.webelement.WebElement (session=\"123664a79856ff97069151c6978b2e82\", element=\"9273bfb7-f114-4055-bb2f-2dfae4dd8ee8\")>,\n",
       " <selenium.webdriver.remote.webelement.WebElement (session=\"123664a79856ff97069151c6978b2e82\", element=\"6744cfd8-8879-4ba0-9c2f-35a04b97557a\")>,\n",
       " <selenium.webdriver.remote.webelement.WebElement (session=\"123664a79856ff97069151c6978b2e82\", element=\"a858a2bd-04ba-4718-9768-2b21fe734ef2\")>,\n",
       " <selenium.webdriver.remote.webelement.WebElement (session=\"123664a79856ff97069151c6978b2e82\", element=\"34150b40-75ab-4466-aad6-ee720097bc88\")>,\n",
       " <selenium.webdriver.remote.webelement.WebElement (session=\"123664a79856ff97069151c6978b2e82\", element=\"1e35bc5e-9de0-4f82-8a8d-ced61c0f9c86\")>,\n",
       " <selenium.webdriver.remote.webelement.WebElement (session=\"123664a79856ff97069151c6978b2e82\", element=\"1f3f16c7-debd-4115-9b05-343db8175679\")>]"
      ]
     },
     "execution_count": 65,
     "metadata": {},
     "output_type": "execute_result"
    }
   ],
   "source": [
    "#finding elements for experience required\n",
    "experience=driver.find_elements_by_xpath(\"//li[@class='fleft grey-text br2 placeHolderLi experience']//span\")\n",
    "experience"
   ]
  },
  {
   "cell_type": "code",
   "execution_count": 66,
   "id": "90cfbb0e",
   "metadata": {},
   "outputs": [
    {
     "data": {
      "text/plain": [
       "['0-0 Yrs',\n",
       " '0-0 Yrs',\n",
       " '3-7 Yrs',\n",
       " '1-5 Yrs',\n",
       " '0-0 Yrs',\n",
       " '0-0 Yrs',\n",
       " '3-6 Yrs',\n",
       " '1-3 Yrs',\n",
       " '2-7 Yrs',\n",
       " '2-5 Yrs',\n",
       " '0-3 Yrs',\n",
       " '5-10 Yrs',\n",
       " '3-7 Yrs',\n",
       " '4-6 Yrs',\n",
       " '3-6 Yrs',\n",
       " '2-6 Yrs',\n",
       " '2-5 Yrs',\n",
       " '5-10 Yrs',\n",
       " '3-7 Yrs',\n",
       " '1-3 Yrs']"
      ]
     },
     "execution_count": 66,
     "metadata": {},
     "output_type": "execute_result"
    }
   ],
   "source": [
    "#extracting the text\n",
    "experience_required=[]\n",
    "for i in experience:\n",
    "    experience_required.append(i.text)\n",
    "experience_required"
   ]
  },
  {
   "cell_type": "code",
   "execution_count": 67,
   "id": "b8746e9f",
   "metadata": {},
   "outputs": [
    {
     "name": "stdout",
     "output_type": "stream",
     "text": [
      "20 20 20 20\n"
     ]
    }
   ],
   "source": [
    "#finding the length of each data\n",
    "print(len(job_titles),len(location_list),len(company_names),len(experience_required))"
   ]
  },
  {
   "cell_type": "code",
   "execution_count": 68,
   "id": "d55fcbbc",
   "metadata": {},
   "outputs": [
    {
     "data": {
      "text/html": [
       "<div>\n",
       "<style scoped>\n",
       "    .dataframe tbody tr th:only-of-type {\n",
       "        vertical-align: middle;\n",
       "    }\n",
       "\n",
       "    .dataframe tbody tr th {\n",
       "        vertical-align: top;\n",
       "    }\n",
       "\n",
       "    .dataframe thead th {\n",
       "        text-align: right;\n",
       "    }\n",
       "</style>\n",
       "<table border=\"1\" class=\"dataframe\">\n",
       "  <thead>\n",
       "    <tr style=\"text-align: right;\">\n",
       "      <th></th>\n",
       "      <th>Job Title</th>\n",
       "      <th>Company Name</th>\n",
       "      <th>Experience Required</th>\n",
       "      <th>LOcation</th>\n",
       "    </tr>\n",
       "  </thead>\n",
       "  <tbody>\n",
       "    <tr>\n",
       "      <th>0</th>\n",
       "      <td>Data Scientist/ Machine Learning Engineer</td>\n",
       "      <td>Creative Hands HR Consultancy</td>\n",
       "      <td>0-0 Yrs</td>\n",
       "      <td>Hyderabad/Secunderabad, Pune, Ahmedabad, Gurga...</td>\n",
       "    </tr>\n",
       "    <tr>\n",
       "      <th>1</th>\n",
       "      <td>Data Scientist / Data Analyst / Business Analy...</td>\n",
       "      <td>GABA Consultancy services</td>\n",
       "      <td>0-0 Yrs</td>\n",
       "      <td>Ghaziabad, Faridabad, Delhi / NCR</td>\n",
       "    </tr>\n",
       "    <tr>\n",
       "      <th>2</th>\n",
       "      <td>Data Scientist - WFH - MIND Infotech</td>\n",
       "      <td>MOTHERSONSUMI INFOTECH &amp; DESIGNS LIMITED</td>\n",
       "      <td>3-7 Yrs</td>\n",
       "      <td>Pune, Chennai, Bangalore/Bengaluru, Delhi / NC...</td>\n",
       "    </tr>\n",
       "    <tr>\n",
       "      <th>3</th>\n",
       "      <td>Data Scientist / Data Analyst</td>\n",
       "      <td>CARS24</td>\n",
       "      <td>1-5 Yrs</td>\n",
       "      <td>Gurgaon/Gurugram</td>\n",
       "    </tr>\n",
       "    <tr>\n",
       "      <th>4</th>\n",
       "      <td>Only Fresher / Data Scientist / Data Analyst /...</td>\n",
       "      <td>GABA Consultancy services</td>\n",
       "      <td>0-0 Yrs</td>\n",
       "      <td>Noida, Gurgaon/Gurugram, Delhi / NCR</td>\n",
       "    </tr>\n",
       "    <tr>\n",
       "      <th>5</th>\n",
       "      <td>Data Scientist / Data Analyst / Business Analy...</td>\n",
       "      <td>GABA Consultancy services</td>\n",
       "      <td>0-0 Yrs</td>\n",
       "      <td>Noida, New Delhi, Gurgaon/Gurugram</td>\n",
       "    </tr>\n",
       "    <tr>\n",
       "      <th>6</th>\n",
       "      <td>Data Scientist</td>\n",
       "      <td>R Systems International Ltd.</td>\n",
       "      <td>3-6 Yrs</td>\n",
       "      <td>Noida\\n(WFH during Covid)</td>\n",
       "    </tr>\n",
       "    <tr>\n",
       "      <th>7</th>\n",
       "      <td>Data Scientist</td>\n",
       "      <td>PROCESS NINE TECHNOLOGIES PVT.LTD.</td>\n",
       "      <td>1-3 Yrs</td>\n",
       "      <td>Gurgaon/Gurugram\\n(WFH during Covid)</td>\n",
       "    </tr>\n",
       "    <tr>\n",
       "      <th>8</th>\n",
       "      <td>Data Scientist - Insurance</td>\n",
       "      <td>Huquo Consulting Pvt. Ltd</td>\n",
       "      <td>2-7 Yrs</td>\n",
       "      <td>Noida, Gurgaon/Gurugram</td>\n",
       "    </tr>\n",
       "    <tr>\n",
       "      <th>9</th>\n",
       "      <td>Data Analyst/Data Scientist</td>\n",
       "      <td>Skillenable Fintech Private Limited</td>\n",
       "      <td>2-5 Yrs</td>\n",
       "      <td>Bangalore/Bengaluru, Delhi / NCR, Mumbai (All ...</td>\n",
       "    </tr>\n",
       "  </tbody>\n",
       "</table>\n",
       "</div>"
      ],
      "text/plain": [
       "                                           Job Title  \\\n",
       "0          Data Scientist/ Machine Learning Engineer   \n",
       "1  Data Scientist / Data Analyst / Business Analy...   \n",
       "2               Data Scientist - WFH - MIND Infotech   \n",
       "3                      Data Scientist / Data Analyst   \n",
       "4  Only Fresher / Data Scientist / Data Analyst /...   \n",
       "5  Data Scientist / Data Analyst / Business Analy...   \n",
       "6                                     Data Scientist   \n",
       "7                                     Data Scientist   \n",
       "8                         Data Scientist - Insurance   \n",
       "9                        Data Analyst/Data Scientist   \n",
       "\n",
       "                               Company Name Experience Required  \\\n",
       "0             Creative Hands HR Consultancy             0-0 Yrs   \n",
       "1                 GABA Consultancy services             0-0 Yrs   \n",
       "2  MOTHERSONSUMI INFOTECH & DESIGNS LIMITED             3-7 Yrs   \n",
       "3                                    CARS24             1-5 Yrs   \n",
       "4                 GABA Consultancy services             0-0 Yrs   \n",
       "5                 GABA Consultancy services             0-0 Yrs   \n",
       "6              R Systems International Ltd.             3-6 Yrs   \n",
       "7        PROCESS NINE TECHNOLOGIES PVT.LTD.             1-3 Yrs   \n",
       "8                 Huquo Consulting Pvt. Ltd             2-7 Yrs   \n",
       "9       Skillenable Fintech Private Limited             2-5 Yrs   \n",
       "\n",
       "                                            LOcation  \n",
       "0  Hyderabad/Secunderabad, Pune, Ahmedabad, Gurga...  \n",
       "1                  Ghaziabad, Faridabad, Delhi / NCR  \n",
       "2  Pune, Chennai, Bangalore/Bengaluru, Delhi / NC...  \n",
       "3                                   Gurgaon/Gurugram  \n",
       "4               Noida, Gurgaon/Gurugram, Delhi / NCR  \n",
       "5                 Noida, New Delhi, Gurgaon/Gurugram  \n",
       "6                          Noida\\n(WFH during Covid)  \n",
       "7               Gurgaon/Gurugram\\n(WFH during Covid)  \n",
       "8                            Noida, Gurgaon/Gurugram  \n",
       "9  Bangalore/Bengaluru, Delhi / NCR, Mumbai (All ...  "
      ]
     },
     "execution_count": 68,
     "metadata": {},
     "output_type": "execute_result"
    }
   ],
   "source": [
    "#Creating a dataframe\n",
    "Jobs=pd.DataFrame({})\n",
    "\n",
    "Jobs['Job Title']=job_titles[:10]\n",
    "Jobs['Company Name']=company_names[:10]\n",
    "Jobs['Experience Required']=experience_required[:10]\n",
    "Jobs['LOcation']=location_list[:10]\n",
    "\n",
    "Jobs"
   ]
  },
  {
   "cell_type": "code",
   "execution_count": 69,
   "id": "bbdda50d",
   "metadata": {},
   "outputs": [
    {
     "data": {
      "text/plain": [
       "10"
      ]
     },
     "execution_count": 69,
     "metadata": {},
     "output_type": "execute_result"
    }
   ],
   "source": [
    "#length of dataframe\n",
    "len(Jobs)"
   ]
  },
  {
   "cell_type": "code",
   "execution_count": 70,
   "id": "c8c4c678",
   "metadata": {},
   "outputs": [],
   "source": [
    "#Q4) python program to scrape data for first 10 job results for Data scientist \n",
    "#Designation in Noida location. You have to scrape company_name, No. of days \n",
    "#ago when job was posted, Rating of the company.\n",
    "\n",
    "#connect to the webdriver\n",
    "driver=webdriver.Chrome(\"chromedriver.exe\")"
   ]
  },
  {
   "cell_type": "code",
   "execution_count": 71,
   "id": "5e1d1be6",
   "metadata": {},
   "outputs": [],
   "source": [
    "url='https://www.glassdoor.co.in/index.htm'\n",
    "driver.get(url)"
   ]
  },
  {
   "cell_type": "code",
   "execution_count": 72,
   "id": "8529ca81",
   "metadata": {},
   "outputs": [
    {
     "data": {
      "text/plain": [
       "<selenium.webdriver.remote.webelement.WebElement (session=\"a60dd86154737225a182eef60f385a0b\", element=\"ee7d5734-7b05-40ce-9709-682986b68d15\")>"
      ]
     },
     "execution_count": 72,
     "metadata": {},
     "output_type": "execute_result"
    }
   ],
   "source": [
    "#finding job element\n",
    "search_job=driver.find_element_by_id(\"scKeyword\")\n",
    "search_job"
   ]
  },
  {
   "cell_type": "code",
   "execution_count": 73,
   "id": "7cfb53af",
   "metadata": {},
   "outputs": [],
   "source": [
    "#sending key value\n",
    "search_job.send_keys(\"Data Scientist\")"
   ]
  },
  {
   "cell_type": "code",
   "execution_count": 74,
   "id": "c572450b",
   "metadata": {},
   "outputs": [
    {
     "data": {
      "text/plain": [
       "<selenium.webdriver.remote.webelement.WebElement (session=\"a60dd86154737225a182eef60f385a0b\", element=\"3d1a1f15-1056-4544-a7b2-d1caeaa48f7a\")>"
      ]
     },
     "execution_count": 74,
     "metadata": {},
     "output_type": "execute_result"
    }
   ],
   "source": [
    "#finding elements for location\n",
    "search_loc=driver.find_element_by_id(\"scLocation\")\n",
    "search_loc"
   ]
  },
  {
   "cell_type": "code",
   "execution_count": 75,
   "id": "e7a5e3de",
   "metadata": {},
   "outputs": [],
   "source": [
    "#sending key value\n",
    "search_loc.send_keys(\"Noida\")"
   ]
  },
  {
   "cell_type": "code",
   "execution_count": 76,
   "id": "ea4d7a0e",
   "metadata": {},
   "outputs": [],
   "source": [
    "#click on continue button\n",
    "search_button=driver.find_element_by_id(\"prefix__icon-arrow-1\")\n",
    "search_button.click()"
   ]
  },
  {
   "cell_type": "code",
   "execution_count": 77,
   "id": "f842ade7",
   "metadata": {},
   "outputs": [
    {
     "data": {
      "text/plain": [
       "[<selenium.webdriver.remote.webelement.WebElement (session=\"a60dd86154737225a182eef60f385a0b\", element=\"c290a938-9d62-4561-9a35-5e147dc1eb98\")>,\n",
       " <selenium.webdriver.remote.webelement.WebElement (session=\"a60dd86154737225a182eef60f385a0b\", element=\"6377a633-5d5a-4924-81b1-8f0aafcc94e0\")>,\n",
       " <selenium.webdriver.remote.webelement.WebElement (session=\"a60dd86154737225a182eef60f385a0b\", element=\"cb90e077-611c-4640-9366-055cdb1ccd5c\")>,\n",
       " <selenium.webdriver.remote.webelement.WebElement (session=\"a60dd86154737225a182eef60f385a0b\", element=\"e12c427c-a2ce-4503-817e-8927143b69df\")>,\n",
       " <selenium.webdriver.remote.webelement.WebElement (session=\"a60dd86154737225a182eef60f385a0b\", element=\"5ffe6543-f692-4e07-938c-650d08a6a37e\")>,\n",
       " <selenium.webdriver.remote.webelement.WebElement (session=\"a60dd86154737225a182eef60f385a0b\", element=\"b4df4c2e-d694-4fc8-87bd-d4627f29eb87\")>,\n",
       " <selenium.webdriver.remote.webelement.WebElement (session=\"a60dd86154737225a182eef60f385a0b\", element=\"9713b6b1-7fe0-46f9-bd3f-39151a18a724\")>,\n",
       " <selenium.webdriver.remote.webelement.WebElement (session=\"a60dd86154737225a182eef60f385a0b\", element=\"65f72f26-6d53-4e33-95c2-a9e71f123374\")>,\n",
       " <selenium.webdriver.remote.webelement.WebElement (session=\"a60dd86154737225a182eef60f385a0b\", element=\"5aec8e90-0eb7-4d7b-9eb2-53d30cb18ad2\")>,\n",
       " <selenium.webdriver.remote.webelement.WebElement (session=\"a60dd86154737225a182eef60f385a0b\", element=\"d56628cf-c574-4d52-99e4-256f6e00d8a5\")>,\n",
       " <selenium.webdriver.remote.webelement.WebElement (session=\"a60dd86154737225a182eef60f385a0b\", element=\"00a5f910-0990-4a9c-be45-14be78a3e7ff\")>,\n",
       " <selenium.webdriver.remote.webelement.WebElement (session=\"a60dd86154737225a182eef60f385a0b\", element=\"2b52c2d6-cff8-4e6a-8a96-8517e8329d6d\")>,\n",
       " <selenium.webdriver.remote.webelement.WebElement (session=\"a60dd86154737225a182eef60f385a0b\", element=\"228b6c15-4dc3-4f4e-b8c7-ec8effbeda1b\")>,\n",
       " <selenium.webdriver.remote.webelement.WebElement (session=\"a60dd86154737225a182eef60f385a0b\", element=\"b116ce88-753b-4fe2-81c4-f8020840d1d6\")>,\n",
       " <selenium.webdriver.remote.webelement.WebElement (session=\"a60dd86154737225a182eef60f385a0b\", element=\"807735a0-5ef1-437b-86d5-26b66f78d0ce\")>,\n",
       " <selenium.webdriver.remote.webelement.WebElement (session=\"a60dd86154737225a182eef60f385a0b\", element=\"eb2c8194-3cce-4b0a-aea7-7d5ed4d83f97\")>,\n",
       " <selenium.webdriver.remote.webelement.WebElement (session=\"a60dd86154737225a182eef60f385a0b\", element=\"dbde6119-1661-485c-8170-0d372cfca6c6\")>,\n",
       " <selenium.webdriver.remote.webelement.WebElement (session=\"a60dd86154737225a182eef60f385a0b\", element=\"b8f0d985-fad2-4846-a866-8e66e74b3468\")>,\n",
       " <selenium.webdriver.remote.webelement.WebElement (session=\"a60dd86154737225a182eef60f385a0b\", element=\"345be9b6-c409-4217-849b-bd4c2b21afac\")>,\n",
       " <selenium.webdriver.remote.webelement.WebElement (session=\"a60dd86154737225a182eef60f385a0b\", element=\"bfb633ab-bc7d-4c35-b2e5-bf7a87616832\")>,\n",
       " <selenium.webdriver.remote.webelement.WebElement (session=\"a60dd86154737225a182eef60f385a0b\", element=\"b8bb36be-d468-43e0-9998-60ddc7790b90\")>,\n",
       " <selenium.webdriver.remote.webelement.WebElement (session=\"a60dd86154737225a182eef60f385a0b\", element=\"9339c810-7311-448d-b8a5-9547abae29a2\")>,\n",
       " <selenium.webdriver.remote.webelement.WebElement (session=\"a60dd86154737225a182eef60f385a0b\", element=\"b7f22559-0709-47b3-a263-24e2556621d1\")>,\n",
       " <selenium.webdriver.remote.webelement.WebElement (session=\"a60dd86154737225a182eef60f385a0b\", element=\"ff7af9f7-5d5b-4d87-926a-28a79dab7e1b\")>,\n",
       " <selenium.webdriver.remote.webelement.WebElement (session=\"a60dd86154737225a182eef60f385a0b\", element=\"9f26a872-7689-4ec4-9705-828e136c5ef8\")>,\n",
       " <selenium.webdriver.remote.webelement.WebElement (session=\"a60dd86154737225a182eef60f385a0b\", element=\"4d33b74e-39bf-41a1-b9f3-4b98b9b2839b\")>,\n",
       " <selenium.webdriver.remote.webelement.WebElement (session=\"a60dd86154737225a182eef60f385a0b\", element=\"8365add9-92dd-4629-a11d-0fc8a271e95f\")>,\n",
       " <selenium.webdriver.remote.webelement.WebElement (session=\"a60dd86154737225a182eef60f385a0b\", element=\"e16f6e61-2804-4490-82f5-00c80dca8ddc\")>,\n",
       " <selenium.webdriver.remote.webelement.WebElement (session=\"a60dd86154737225a182eef60f385a0b\", element=\"c6901914-b28a-49ed-b0f6-a73e3cb6e2f9\")>,\n",
       " <selenium.webdriver.remote.webelement.WebElement (session=\"a60dd86154737225a182eef60f385a0b\", element=\"ac25421a-afcf-46d5-a935-8860ac9fa869\")>]"
      ]
     },
     "execution_count": 77,
     "metadata": {},
     "output_type": "execute_result"
    }
   ],
   "source": [
    "#finding elements for company name\n",
    "company_tags=driver.find_elements_by_xpath(\"//a[@class=' job-search-key-l2wjgv e1n63ojh0 jobLink']\")\n",
    "company_tags"
   ]
  },
  {
   "cell_type": "code",
   "execution_count": 78,
   "id": "2d320354",
   "metadata": {},
   "outputs": [
    {
     "data": {
      "text/plain": [
       "['AlgoScale Technologies Private Limited',\n",
       " 'Liberin Technologies Private Limited',\n",
       " 'Salasar New Age Technologies',\n",
       " 'Noisy Lion',\n",
       " 'Lenskart',\n",
       " 'Techlive',\n",
       " 'Grail Insights',\n",
       " 'Salasar New Age Technologies',\n",
       " 'Grail Insights',\n",
       " 'Genpact',\n",
       " 'Newgen Software',\n",
       " 'Biz2Credit Inc',\n",
       " 'SearchUrCollege',\n",
       " 'Crowe',\n",
       " 'IBM',\n",
       " 'Ericsson',\n",
       " 'Ishatva Management Solutions',\n",
       " 'limeroad.com',\n",
       " 'NEC Opportunities',\n",
       " 'Monotype',\n",
       " 'Airtel India',\n",
       " 'ING',\n",
       " 'Saishaa Services',\n",
       " 'CSTEP',\n",
       " 'WishFin',\n",
       " 'Crypto Mize',\n",
       " 'xtLytics',\n",
       " 'Emerging India Group',\n",
       " 'Adobe',\n",
       " 'CRMNEXT']"
      ]
     },
     "execution_count": 78,
     "metadata": {},
     "output_type": "execute_result"
    }
   ],
   "source": [
    "#extracting the text\n",
    "company_names=[]\n",
    "for i in company_tags:\n",
    "    company_names.append(i.text)\n",
    "company_names"
   ]
  },
  {
   "cell_type": "code",
   "execution_count": 79,
   "id": "29eac33e",
   "metadata": {},
   "outputs": [
    {
     "data": {
      "text/plain": [
       "[<selenium.webdriver.remote.webelement.WebElement (session=\"a60dd86154737225a182eef60f385a0b\", element=\"b398547a-b4b1-49da-b3fd-ef71a7944c7c\")>,\n",
       " <selenium.webdriver.remote.webelement.WebElement (session=\"a60dd86154737225a182eef60f385a0b\", element=\"52413734-662d-4b3e-954a-fbc457a847e2\")>,\n",
       " <selenium.webdriver.remote.webelement.WebElement (session=\"a60dd86154737225a182eef60f385a0b\", element=\"510de3e7-d81b-4a46-aa91-e160887efe37\")>,\n",
       " <selenium.webdriver.remote.webelement.WebElement (session=\"a60dd86154737225a182eef60f385a0b\", element=\"27e368ee-6827-49e8-89d4-8986b8b00874\")>,\n",
       " <selenium.webdriver.remote.webelement.WebElement (session=\"a60dd86154737225a182eef60f385a0b\", element=\"f405fdaf-11f3-43d8-84a0-32bc45bedc7a\")>,\n",
       " <selenium.webdriver.remote.webelement.WebElement (session=\"a60dd86154737225a182eef60f385a0b\", element=\"6e594f2f-c706-464d-9280-e9fbf3ae10dc\")>,\n",
       " <selenium.webdriver.remote.webelement.WebElement (session=\"a60dd86154737225a182eef60f385a0b\", element=\"789bee38-88c6-478a-bcf7-fdbf0d3c9e09\")>,\n",
       " <selenium.webdriver.remote.webelement.WebElement (session=\"a60dd86154737225a182eef60f385a0b\", element=\"3469e86a-7c48-4079-8ede-e1bc83c23b47\")>,\n",
       " <selenium.webdriver.remote.webelement.WebElement (session=\"a60dd86154737225a182eef60f385a0b\", element=\"819a48b3-fd66-42a4-b581-4b0afbbe200c\")>,\n",
       " <selenium.webdriver.remote.webelement.WebElement (session=\"a60dd86154737225a182eef60f385a0b\", element=\"53c2f5cc-4f1d-49a6-a833-8acc482604a1\")>,\n",
       " <selenium.webdriver.remote.webelement.WebElement (session=\"a60dd86154737225a182eef60f385a0b\", element=\"4000a08d-5d38-489c-a11f-e2c3e4cfa093\")>,\n",
       " <selenium.webdriver.remote.webelement.WebElement (session=\"a60dd86154737225a182eef60f385a0b\", element=\"6c14b3a0-03a5-43eb-999c-d988f69bab31\")>,\n",
       " <selenium.webdriver.remote.webelement.WebElement (session=\"a60dd86154737225a182eef60f385a0b\", element=\"7caf1c74-1866-46a0-a0a1-8f5b501a4cfa\")>,\n",
       " <selenium.webdriver.remote.webelement.WebElement (session=\"a60dd86154737225a182eef60f385a0b\", element=\"69a61d6e-9eb6-4923-b4dc-6893a21c5b8b\")>,\n",
       " <selenium.webdriver.remote.webelement.WebElement (session=\"a60dd86154737225a182eef60f385a0b\", element=\"bab5eee1-5b8d-492a-b463-83484c8c8f38\")>,\n",
       " <selenium.webdriver.remote.webelement.WebElement (session=\"a60dd86154737225a182eef60f385a0b\", element=\"6b5e6c5f-08b3-49bc-abdf-0710dcc70e50\")>,\n",
       " <selenium.webdriver.remote.webelement.WebElement (session=\"a60dd86154737225a182eef60f385a0b\", element=\"cfcba5e5-7d06-45c1-9f23-a90fd843a22b\")>,\n",
       " <selenium.webdriver.remote.webelement.WebElement (session=\"a60dd86154737225a182eef60f385a0b\", element=\"261ce0cf-5dca-4e91-814b-966f1c7eb512\")>,\n",
       " <selenium.webdriver.remote.webelement.WebElement (session=\"a60dd86154737225a182eef60f385a0b\", element=\"63c261aa-9d12-4580-987b-fe4cb8f2487f\")>,\n",
       " <selenium.webdriver.remote.webelement.WebElement (session=\"a60dd86154737225a182eef60f385a0b\", element=\"23849b00-d79e-4b45-a997-e96953e7abc8\")>,\n",
       " <selenium.webdriver.remote.webelement.WebElement (session=\"a60dd86154737225a182eef60f385a0b\", element=\"915ed11c-b337-435f-ba6c-961ebef0e095\")>,\n",
       " <selenium.webdriver.remote.webelement.WebElement (session=\"a60dd86154737225a182eef60f385a0b\", element=\"61b200bf-3636-41fd-9c87-ec2c5288bb65\")>,\n",
       " <selenium.webdriver.remote.webelement.WebElement (session=\"a60dd86154737225a182eef60f385a0b\", element=\"7205798a-ab38-458b-b270-9362fd234c6b\")>,\n",
       " <selenium.webdriver.remote.webelement.WebElement (session=\"a60dd86154737225a182eef60f385a0b\", element=\"e95a8b33-9bd7-4572-adc5-00e45b24e44c\")>,\n",
       " <selenium.webdriver.remote.webelement.WebElement (session=\"a60dd86154737225a182eef60f385a0b\", element=\"9dfda1da-a122-4f6e-8537-ba93eed67c54\")>,\n",
       " <selenium.webdriver.remote.webelement.WebElement (session=\"a60dd86154737225a182eef60f385a0b\", element=\"ed666dc7-5f93-418c-916c-b14a948a1514\")>,\n",
       " <selenium.webdriver.remote.webelement.WebElement (session=\"a60dd86154737225a182eef60f385a0b\", element=\"c0ea5751-ca15-47c3-b67f-e8aa68ce4547\")>,\n",
       " <selenium.webdriver.remote.webelement.WebElement (session=\"a60dd86154737225a182eef60f385a0b\", element=\"79c1db82-8f42-4d94-992e-d02fabbb8364\")>,\n",
       " <selenium.webdriver.remote.webelement.WebElement (session=\"a60dd86154737225a182eef60f385a0b\", element=\"2b595eb7-2f51-4845-a4c8-b12c3afaa24e\")>,\n",
       " <selenium.webdriver.remote.webelement.WebElement (session=\"a60dd86154737225a182eef60f385a0b\", element=\"e9070b97-318b-4889-a43d-2f9cda272975\")>]"
      ]
     },
     "execution_count": 79,
     "metadata": {},
     "output_type": "execute_result"
    }
   ],
   "source": [
    "#finding the number of days ago job was posted\n",
    "days=driver.find_elements_by_xpath(\"//div[@class='d-flex align-items-end pl-std css-17n8uzw']\")\n",
    "days"
   ]
  },
  {
   "cell_type": "code",
   "execution_count": 80,
   "id": "ef25ef39",
   "metadata": {},
   "outputs": [
    {
     "data": {
      "text/plain": [
       "['19d',\n",
       " '30d+',\n",
       " '30d+',\n",
       " '4d',\n",
       " '6d',\n",
       " '30d+',\n",
       " '4d',\n",
       " '30d+',\n",
       " '4d',\n",
       " '6d',\n",
       " '30d+',\n",
       " '30d+',\n",
       " '30d+',\n",
       " '30d+',\n",
       " '23d',\n",
       " '11d',\n",
       " '14d',\n",
       " '19d',\n",
       " '25d',\n",
       " '4d',\n",
       " '24d',\n",
       " '10d',\n",
       " '21d',\n",
       " '30d+',\n",
       " '30d+',\n",
       " '27d',\n",
       " '30d+',\n",
       " '30d+',\n",
       " '30d+',\n",
       " '30d+']"
      ]
     },
     "execution_count": 80,
     "metadata": {},
     "output_type": "execute_result"
    }
   ],
   "source": [
    "#extracting the text\n",
    "number_of_days=[]\n",
    "for i in days:\n",
    "    number_of_days.append(i.text)\n",
    "number_of_days"
   ]
  },
  {
   "cell_type": "code",
   "execution_count": 81,
   "id": "4873ff85",
   "metadata": {},
   "outputs": [
    {
     "data": {
      "text/plain": [
       "['https://www.glassdoor.co.in/partner/jobListing.htm?pos=101&ao=1136043&s=58&guid=0000017bdf6ade8383faaa0d4f286271&src=GD_JOB_AD&t=SR&vt=w&uido=D68E94A8D4F415A917A1AFE6DBFD30C5&ea=1&cs=1_cfd4dbcf&cb=1631540928387&jobListingId=1007258785216&jrtk=2-0-1fffmlnlhu4f9801-1fffmlnluu1vm801-c33fbbcb496aaf48',\n",
       " 'https://www.glassdoor.co.in/partner/jobListing.htm?pos=102&ao=1136043&s=58&guid=0000017bdf6ade8383faaa0d4f286271&src=GD_JOB_AD&t=SR&vt=w&uido=D68E94A8D4F415A917A1AFE6DBFD30C5&ea=1&cs=1_34b321a1&cb=1631540928387&jobListingId=1007200389479&jrtk=2-0-1fffmlnlhu4f9801-1fffmlnluu1vm801-97d4c65035600d81',\n",
       " 'https://www.glassdoor.co.in/partner/jobListing.htm?pos=103&ao=1136043&s=58&guid=0000017bdf6ade8383faaa0d4f286271&src=GD_JOB_AD&t=SR&vt=w&uido=D68E94A8D4F415A917A1AFE6DBFD30C5&cs=1_0a8be601&cb=1631540928385&jobListingId=1006624053994&jrtk=2-0-1fffmlnlhu4f9801-1fffmlnluu1vm801-a8cb856cd397a474',\n",
       " 'https://www.glassdoor.co.in/partner/jobListing.htm?pos=104&ao=1136043&s=58&guid=0000017bdf6ade8383faaa0d4f286271&src=GD_JOB_AD&t=SR&vt=w&uido=D68E94A8D4F415A917A1AFE6DBFD30C5&cs=1_3c4ff36b&cb=1631540928386&jobListingId=1007290108522&jrtk=2-0-1fffmlnlhu4f9801-1fffmlnluu1vm801-5728b4a211ea2e96',\n",
       " 'https://www.glassdoor.co.in/partner/jobListing.htm?pos=105&ao=1136043&s=58&guid=0000017bdf6ade8383faaa0d4f286271&src=GD_JOB_AD&t=SR&vt=w&uido=D68E94A8D4F415A917A1AFE6DBFD30C5&ea=1&cs=1_a627e476&cb=1631540928389&jobListingId=1007285294048&jrtk=2-0-1fffmlnlhu4f9801-1fffmlnluu1vm801-13027c95012596b8',\n",
       " 'https://www.glassdoor.co.in/partner/jobListing.htm?pos=106&ao=1136043&s=58&guid=0000017bdf6ade8383faaa0d4f286271&src=GD_JOB_AD&t=SR&vt=w&uido=D68E94A8D4F415A917A1AFE6DBFD30C5&cs=1_6f3a22a4&cb=1631540928387&jobListingId=1006461286442&jrtk=2-0-1fffmlnlhu4f9801-1fffmlnluu1vm801-a1ea358f023a69b7',\n",
       " 'https://www.glassdoor.co.in/partner/jobListing.htm?pos=107&ao=1136043&s=58&guid=0000017bdf6ade8383faaa0d4f286271&src=GD_JOB_AD&t=SR&vt=w&uido=D68E94A8D4F415A917A1AFE6DBFD30C5&cs=1_93ff9ef8&cb=1631540928388&jobListingId=1007289606692&jrtk=2-0-1fffmlnlhu4f9801-1fffmlnluu1vm801-cd81678964ea464c',\n",
       " 'https://www.glassdoor.co.in/partner/jobListing.htm?pos=108&ao=1136043&s=58&guid=0000017bdf6ade8383faaa0d4f286271&src=GD_JOB_AD&t=SR&vt=w&uido=D68E94A8D4F415A917A1AFE6DBFD30C5&cs=1_9543fbaa&cb=1631540928388&jobListingId=1006624054035&jrtk=2-0-1fffmlnlhu4f9801-1fffmlnluu1vm801-c47c5ae51c2ed2ee',\n",
       " 'https://www.glassdoor.co.in/partner/jobListing.htm?pos=109&ao=1136043&s=58&guid=0000017bdf6ade8383faaa0d4f286271&src=GD_JOB_AD&t=SR&vt=w&uido=D68E94A8D4F415A917A1AFE6DBFD30C5&cs=1_5f50e207&cb=1631540928390&jobListingId=1007289606693&jrtk=2-0-1fffmlnlhu4f9801-1fffmlnluu1vm801-a8c1cf7bed67fe43',\n",
       " 'https://www.glassdoor.co.in/partner/jobListing.htm?pos=110&ao=1136043&s=58&guid=0000017bdf6ade8383faaa0d4f286271&src=GD_JOB_AD&t=SR&vt=w&uido=D68E94A8D4F415A917A1AFE6DBFD30C5&cs=1_7bebbf05&cb=1631540928390&jobListingId=1007285326378&jrtk=2-0-1fffmlnlhu4f9801-1fffmlnluu1vm801-9a104c32d9e70509',\n",
       " 'https://www.glassdoor.co.in/partner/jobListing.htm?pos=111&ao=1136043&s=58&guid=0000017bdf6ade8383faaa0d4f286271&src=GD_JOB_AD&t=SR&vt=w&uido=D68E94A8D4F415A917A1AFE6DBFD30C5&cs=1_ed6fa51d&cb=1631540928394&jobListingId=1007179647282&jrtk=2-0-1fffmlnlhu4f9801-1fffmlnluu1vm801-553f505b050aa33e',\n",
       " 'https://www.glassdoor.co.in/partner/jobListing.htm?pos=112&ao=1136043&s=58&guid=0000017bdf6ade8383faaa0d4f286271&src=GD_JOB_AD&t=SR&vt=w&uido=D68E94A8D4F415A917A1AFE6DBFD30C5&ea=1&cs=1_28037bfc&cb=1631540928396&jobListingId=1006687249100&jrtk=2-0-1fffmlnlhu4f9801-1fffmlnluu1vm801-94036c835379de77',\n",
       " 'https://www.glassdoor.co.in/partner/jobListing.htm?pos=113&ao=1136043&s=58&guid=0000017bdf6ade8383faaa0d4f286271&src=GD_JOB_AD&t=SR&vt=w&uido=D68E94A8D4F415A917A1AFE6DBFD30C5&cs=1_75769a9d&cb=1631540928395&jobListingId=1006500025617&jrtk=2-0-1fffmlnlhu4f9801-1fffmlnluu1vm801-221d6afa3757039d',\n",
       " 'https://www.glassdoor.co.in/partner/jobListing.htm?pos=114&ao=1136043&s=58&guid=0000017bdf6ade8383faaa0d4f286271&src=GD_JOB_AD&t=SR&vt=w&uido=D68E94A8D4F415A917A1AFE6DBFD30C5&cs=1_05bcf4d4&cb=1631540928397&jobListingId=1007095133299&jrtk=2-0-1fffmlnlhu4f9801-1fffmlnluu1vm801-84db922a59ad7885',\n",
       " 'https://www.glassdoor.co.in/partner/jobListing.htm?pos=115&ao=1136043&s=58&guid=0000017bdf6ade8383faaa0d4f286271&src=GD_JOB_AD&t=SR&vt=w&uido=D68E94A8D4F415A917A1AFE6DBFD30C5&cs=1_cbcc2cd8&cb=1631540928397&jobListingId=1007250616593&jrtk=2-0-1fffmlnlhu4f9801-1fffmlnluu1vm801-90c19cac2de1cb18',\n",
       " 'https://www.glassdoor.co.in/partner/jobListing.htm?pos=116&ao=1136043&s=58&guid=0000017bdf6ade8383faaa0d4f286271&src=GD_JOB_AD&t=SR&vt=w&uido=D68E94A8D4F415A917A1AFE6DBFD30C5&cs=1_7f852e3e&cb=1631540928398&jobListingId=1007275121225&jrtk=2-0-1fffmlnlhu4f9801-1fffmlnluu1vm801-59eb9dcaa5a68f12',\n",
       " 'https://www.glassdoor.co.in/partner/jobListing.htm?pos=117&ao=1136043&s=58&guid=0000017bdf6ade8383faaa0d4f286271&src=GD_JOB_AD&t=SR&vt=w&uido=D68E94A8D4F415A917A1AFE6DBFD30C5&ea=1&cs=1_25733602&cb=1631540928400&jobListingId=1007267967133&jrtk=2-0-1fffmlnlhu4f9801-1fffmlnluu1vm801-b3c352ca79ca6d73',\n",
       " 'https://www.glassdoor.co.in/partner/jobListing.htm?pos=118&ao=1136043&s=58&guid=0000017bdf6ade8383faaa0d4f286271&src=GD_JOB_AD&t=SR&vt=w&uido=D68E94A8D4F415A917A1AFE6DBFD30C5&ea=1&cs=1_46311640&cb=1631540928399&jobListingId=1007258812550&jrtk=2-0-1fffmlnlhu4f9801-1fffmlnluu1vm801-223dcefd7d2a9c1c',\n",
       " 'https://www.glassdoor.co.in/partner/jobListing.htm?pos=119&ao=1136043&s=58&guid=0000017bdf6ade8383faaa0d4f286271&src=GD_JOB_AD&t=SR&vt=w&uido=D68E94A8D4F415A917A1AFE6DBFD30C5&cs=1_7aa3ab3f&cb=1631540928399&jobListingId=1007245257958&jrtk=2-0-1fffmlnlhu4f9801-1fffmlnluu1vm801-d0893868ee842eed',\n",
       " 'https://www.glassdoor.co.in/partner/jobListing.htm?pos=120&ao=1136043&s=58&guid=0000017bdf6ade8383faaa0d4f286271&src=GD_JOB_AD&t=SR&vt=w&uido=D68E94A8D4F415A917A1AFE6DBFD30C5&cs=1_f3930a41&cb=1631540928399&jobListingId=1007292216912&jrtk=2-0-1fffmlnlhu4f9801-1fffmlnluu1vm801-9a26187856f229b6',\n",
       " 'https://www.glassdoor.co.in/partner/jobListing.htm?pos=121&ao=1136043&s=58&guid=0000017bdf6ade8383faaa0d4f286271&src=GD_JOB_AD&t=SR&vt=w&uido=D68E94A8D4F415A917A1AFE6DBFD30C5&cs=1_7dba604e&cb=1631540928400&jobListingId=1007248250199&jrtk=2-0-1fffmlnlhu4f9801-1fffmlnluu1vm801-86be4fb99f638f8b',\n",
       " 'https://www.glassdoor.co.in/partner/jobListing.htm?pos=122&ao=1136043&s=58&guid=0000017bdf6ade8383faaa0d4f286271&src=GD_JOB_AD&t=SR&vt=w&uido=D68E94A8D4F415A917A1AFE6DBFD30C5&cs=1_72b2f6f8&cb=1631540928400&jobListingId=1007279789126&jrtk=2-0-1fffmlnlhu4f9801-1fffmlnluu1vm801-696539a2bd423b28',\n",
       " 'https://www.glassdoor.co.in/partner/jobListing.htm?pos=123&ao=1136043&s=58&guid=0000017bdf6ade8383faaa0d4f286271&src=GD_JOB_AD&t=SR&vt=w&uido=D68E94A8D4F415A917A1AFE6DBFD30C5&ea=1&cs=1_0e5d8b26&cb=1631540928401&jobListingId=1007254252559&jrtk=2-0-1fffmlnlhu4f9801-1fffmlnluu1vm801-4a6ae5c940239506',\n",
       " 'https://www.glassdoor.co.in/partner/jobListing.htm?pos=124&ao=1136043&s=58&guid=0000017bdf6ade8383faaa0d4f286271&src=GD_JOB_AD&t=SR&vt=w&uido=D68E94A8D4F415A917A1AFE6DBFD30C5&cs=1_0cebd08d&cb=1631540928401&jobListingId=1007117935447&jrtk=2-0-1fffmlnlhu4f9801-1fffmlnluu1vm801-614dc0248a6019b0',\n",
       " 'https://www.glassdoor.co.in/partner/jobListing.htm?pos=125&ao=1136043&s=58&guid=0000017bdf6ade8383faaa0d4f286271&src=GD_JOB_AD&t=SR&vt=w&uido=D68E94A8D4F415A917A1AFE6DBFD30C5&cs=1_91ad32f5&cb=1631540928401&jobListingId=1006867507716&jrtk=2-0-1fffmlnlhu4f9801-1fffmlnluu1vm801-83f3ba54497948c9',\n",
       " 'https://www.glassdoor.co.in/partner/jobListing.htm?pos=126&ao=1136043&s=58&guid=0000017bdf6ade8383faaa0d4f286271&src=GD_JOB_AD&t=SR&vt=w&uido=D68E94A8D4F415A917A1AFE6DBFD30C5&cs=1_a19998a5&cb=1631540928401&jobListingId=1007242689151&jrtk=2-0-1fffmlnlhu4f9801-1fffmlnluu1vm801-1312cf23d6d9b860',\n",
       " 'https://www.glassdoor.co.in/partner/jobListing.htm?pos=127&ao=1136043&s=58&guid=0000017bdf6ade8383faaa0d4f286271&src=GD_JOB_AD&t=SR&vt=w&uido=D68E94A8D4F415A917A1AFE6DBFD30C5&cs=1_d589708f&cb=1631540928402&jobListingId=1006729351157&jrtk=2-0-1fffmlnlhu4f9801-1fffmlnluu1vm801-1e445c06f2f3d94b',\n",
       " 'https://www.glassdoor.co.in/partner/jobListing.htm?pos=128&ao=1136043&s=58&guid=0000017bdf6ade8383faaa0d4f286271&src=GD_JOB_AD&t=SR&vt=w&uido=D68E94A8D4F415A917A1AFE6DBFD30C5&cs=1_e616bbbc&cb=1631540928402&jobListingId=1007044567503&jrtk=2-0-1fffmlnlhu4f9801-1fffmlnluu1vm801-5092deea13fb4f8b',\n",
       " 'https://www.glassdoor.co.in/partner/jobListing.htm?pos=129&ao=1136043&s=58&guid=0000017bdf6ade8383faaa0d4f286271&src=GD_JOB_AD&t=SR&vt=w&uido=D68E94A8D4F415A917A1AFE6DBFD30C5&cs=1_233527e7&cb=1631540928403&jobListingId=1007114711029&jrtk=2-0-1fffmlnlhu4f9801-1fffmlnluu1vm801-1b49d3508fc9c821',\n",
       " 'https://www.glassdoor.co.in/partner/jobListing.htm?pos=130&ao=1136043&s=58&guid=0000017bdf6ade8383faaa0d4f286271&src=GD_JOB_AD&t=SR&vt=w&uido=D68E94A8D4F415A917A1AFE6DBFD30C5&cs=1_4639e011&cb=1631540928403&jobListingId=1007230855102&jrtk=2-0-1fffmlnlhu4f9801-1fffmlnluu1vm801-409b6a371f63d0fe']"
      ]
     },
     "execution_count": 81,
     "metadata": {},
     "output_type": "execute_result"
    }
   ],
   "source": [
    "urlr=[]\n",
    "for i in driver.find_elements_by_xpath(\"//a[@class=' job-search-key-l2wjgv e1n63ojh0 jobLink']\"):\n",
    "    urlr.append(i.get_attribute(\"href\"))\n",
    "urlr"
   ]
  },
  {
   "cell_type": "code",
   "execution_count": 82,
   "id": "8f135854",
   "metadata": {},
   "outputs": [
    {
     "data": {
      "text/plain": [
       "30"
      ]
     },
     "execution_count": 82,
     "metadata": {},
     "output_type": "execute_result"
    }
   ],
   "source": [
    "len(urlr)"
   ]
  },
  {
   "cell_type": "code",
   "execution_count": 83,
   "id": "9ddecf7a",
   "metadata": {},
   "outputs": [],
   "source": [
    "#defining variable\n",
    "rating=[]"
   ]
  },
  {
   "cell_type": "code",
   "execution_count": 84,
   "id": "a577d145",
   "metadata": {},
   "outputs": [],
   "source": [
    "#importing time\n",
    "from selenium import webdriver\n",
    "import time\n",
    "from selenium.common.exceptions import NoSuchElementException"
   ]
  },
  {
   "cell_type": "code",
   "execution_count": 85,
   "id": "efa2646e",
   "metadata": {},
   "outputs": [],
   "source": [
    "for i in urlr:\n",
    "    driver.get(i)\n",
    "    \n",
    "    #fetching rating of the company\n",
    "    try:\n",
    "        comp=driver.find_element_by_xpath(\"//div[@class='mr-sm css-ey2fjr e1pr2f4f3']\")\n",
    "        rating.append(comp.text)\n",
    "    except:\n",
    "        rating.append('-')"
   ]
  },
  {
   "cell_type": "code",
   "execution_count": 86,
   "id": "3a0a5c29",
   "metadata": {},
   "outputs": [
    {
     "data": {
      "text/plain": [
       "['-',\n",
       " '-',\n",
       " '-',\n",
       " '-',\n",
       " '-',\n",
       " '-',\n",
       " '-',\n",
       " '-',\n",
       " '-',\n",
       " '-',\n",
       " '-',\n",
       " '-',\n",
       " '-',\n",
       " '-',\n",
       " '-',\n",
       " '-',\n",
       " '-',\n",
       " '-',\n",
       " '-',\n",
       " '-',\n",
       " '-',\n",
       " '-',\n",
       " '-',\n",
       " '-',\n",
       " '-',\n",
       " '-',\n",
       " '-',\n",
       " '-',\n",
       " '-',\n",
       " '-']"
      ]
     },
     "execution_count": 86,
     "metadata": {},
     "output_type": "execute_result"
    }
   ],
   "source": [
    "rating"
   ]
  },
  {
   "cell_type": "code",
   "execution_count": 87,
   "id": "6a16d214",
   "metadata": {},
   "outputs": [
    {
     "name": "stdout",
     "output_type": "stream",
     "text": [
      "30 30 30\n"
     ]
    }
   ],
   "source": [
    "#finding length of each element\n",
    "print(len(company_names),len(number_of_days),len(rating))"
   ]
  },
  {
   "cell_type": "code",
   "execution_count": 88,
   "id": "16e28841",
   "metadata": {},
   "outputs": [
    {
     "data": {
      "text/html": [
       "<div>\n",
       "<style scoped>\n",
       "    .dataframe tbody tr th:only-of-type {\n",
       "        vertical-align: middle;\n",
       "    }\n",
       "\n",
       "    .dataframe tbody tr th {\n",
       "        vertical-align: top;\n",
       "    }\n",
       "\n",
       "    .dataframe thead th {\n",
       "        text-align: right;\n",
       "    }\n",
       "</style>\n",
       "<table border=\"1\" class=\"dataframe\">\n",
       "  <thead>\n",
       "    <tr style=\"text-align: right;\">\n",
       "      <th></th>\n",
       "      <th>Company Name</th>\n",
       "      <th>Number of days ago job posted</th>\n",
       "      <th>Rating of the company</th>\n",
       "    </tr>\n",
       "  </thead>\n",
       "  <tbody>\n",
       "    <tr>\n",
       "      <th>0</th>\n",
       "      <td>AlgoScale Technologies Private Limited</td>\n",
       "      <td>19d</td>\n",
       "      <td>-</td>\n",
       "    </tr>\n",
       "    <tr>\n",
       "      <th>1</th>\n",
       "      <td>Liberin Technologies Private Limited</td>\n",
       "      <td>30d+</td>\n",
       "      <td>-</td>\n",
       "    </tr>\n",
       "    <tr>\n",
       "      <th>2</th>\n",
       "      <td>Salasar New Age Technologies</td>\n",
       "      <td>30d+</td>\n",
       "      <td>-</td>\n",
       "    </tr>\n",
       "    <tr>\n",
       "      <th>3</th>\n",
       "      <td>Noisy Lion</td>\n",
       "      <td>4d</td>\n",
       "      <td>-</td>\n",
       "    </tr>\n",
       "    <tr>\n",
       "      <th>4</th>\n",
       "      <td>Lenskart</td>\n",
       "      <td>6d</td>\n",
       "      <td>-</td>\n",
       "    </tr>\n",
       "    <tr>\n",
       "      <th>5</th>\n",
       "      <td>Techlive</td>\n",
       "      <td>30d+</td>\n",
       "      <td>-</td>\n",
       "    </tr>\n",
       "    <tr>\n",
       "      <th>6</th>\n",
       "      <td>Grail Insights</td>\n",
       "      <td>4d</td>\n",
       "      <td>-</td>\n",
       "    </tr>\n",
       "    <tr>\n",
       "      <th>7</th>\n",
       "      <td>Salasar New Age Technologies</td>\n",
       "      <td>30d+</td>\n",
       "      <td>-</td>\n",
       "    </tr>\n",
       "    <tr>\n",
       "      <th>8</th>\n",
       "      <td>Grail Insights</td>\n",
       "      <td>4d</td>\n",
       "      <td>-</td>\n",
       "    </tr>\n",
       "    <tr>\n",
       "      <th>9</th>\n",
       "      <td>Genpact</td>\n",
       "      <td>6d</td>\n",
       "      <td>-</td>\n",
       "    </tr>\n",
       "  </tbody>\n",
       "</table>\n",
       "</div>"
      ],
      "text/plain": [
       "                             Company Name Number of days ago job posted  \\\n",
       "0  AlgoScale Technologies Private Limited                           19d   \n",
       "1    Liberin Technologies Private Limited                          30d+   \n",
       "2            Salasar New Age Technologies                          30d+   \n",
       "3                              Noisy Lion                            4d   \n",
       "4                                Lenskart                            6d   \n",
       "5                                Techlive                          30d+   \n",
       "6                          Grail Insights                            4d   \n",
       "7            Salasar New Age Technologies                          30d+   \n",
       "8                          Grail Insights                            4d   \n",
       "9                                 Genpact                            6d   \n",
       "\n",
       "  Rating of the company  \n",
       "0                     -  \n",
       "1                     -  \n",
       "2                     -  \n",
       "3                     -  \n",
       "4                     -  \n",
       "5                     -  \n",
       "6                     -  \n",
       "7                     -  \n",
       "8                     -  \n",
       "9                     -  "
      ]
     },
     "execution_count": 88,
     "metadata": {},
     "output_type": "execute_result"
    }
   ],
   "source": [
    "#create dataframe\n",
    "jobs=pd.DataFrame({})\n",
    "\n",
    "jobs['Company Name']=company_names[:10]\n",
    "jobs['Number of days ago job posted']=number_of_days[:10]\n",
    "jobs['Rating of the company']=rating[:10]\n",
    "\n",
    "jobs"
   ]
  },
  {
   "cell_type": "code",
   "execution_count": 89,
   "id": "d3da9ca8",
   "metadata": {},
   "outputs": [
    {
     "data": {
      "text/plain": [
       "10"
      ]
     },
     "execution_count": 89,
     "metadata": {},
     "output_type": "execute_result"
    }
   ],
   "source": [
    "#length of dataframe\n",
    "len(jobs)"
   ]
  },
  {
   "cell_type": "code",
   "execution_count": 90,
   "id": "cc3199a7",
   "metadata": {},
   "outputs": [],
   "source": [
    "#Q5)python program to scrape the salary data for Data Scientist designation \n",
    "#in Noida location.\n",
    "#You have to scrape Company name, Number of salaries, Average salary, Min\n",
    "#salary, Max Salary.\n"
   ]
  },
  {
   "cell_type": "code",
   "execution_count": 91,
   "id": "6286347d",
   "metadata": {},
   "outputs": [],
   "source": [
    "#import libraries\n",
    "import selenium\n",
    "import pandas as pd\n",
    "from selenium import webdriver"
   ]
  },
  {
   "cell_type": "code",
   "execution_count": 92,
   "id": "6af69296",
   "metadata": {},
   "outputs": [],
   "source": [
    "#connecting to the web driver\n",
    "driver=webdriver.Chrome(\"chromedriver.exe\")"
   ]
  },
  {
   "cell_type": "code",
   "execution_count": 93,
   "id": "94625236",
   "metadata": {},
   "outputs": [],
   "source": [
    "url='https://www.glassdoor.co.in/Salaries/index.htm'\n",
    "driver.get(url)"
   ]
  },
  {
   "cell_type": "code",
   "execution_count": 94,
   "id": "d8ac0baf",
   "metadata": {},
   "outputs": [
    {
     "data": {
      "text/plain": [
       "<selenium.webdriver.remote.webelement.WebElement (session=\"831f0f4d8fe00199b01a7579f7c95d95\", element=\"30039671-56d5-4fd0-9e76-120e4d2f888a\")>"
      ]
     },
     "execution_count": 94,
     "metadata": {},
     "output_type": "execute_result"
    }
   ],
   "source": [
    "#search company element\n",
    "search_company=driver.find_element_by_xpath(\"//input[@class='keyword']\")\n",
    "search_company"
   ]
  },
  {
   "cell_type": "code",
   "execution_count": 95,
   "id": "337b811e",
   "metadata": {},
   "outputs": [],
   "source": [
    "search_company.send_keys(\"Data Scientist\")"
   ]
  },
  {
   "cell_type": "code",
   "execution_count": 96,
   "id": "3fddf893",
   "metadata": {},
   "outputs": [
    {
     "data": {
      "text/plain": [
       "<selenium.webdriver.remote.webelement.WebElement (session=\"831f0f4d8fe00199b01a7579f7c95d95\", element=\"62e58c95-e25b-48b2-8757-c8a8ff21bd22\")>"
      ]
     },
     "execution_count": 96,
     "metadata": {},
     "output_type": "execute_result"
    }
   ],
   "source": [
    "#search location element\n",
    "search_loc=driver.find_element_by_xpath(\"//input[@class='loc']\")\n",
    "search_loc"
   ]
  },
  {
   "cell_type": "code",
   "execution_count": 97,
   "id": "b6ee5bec",
   "metadata": {},
   "outputs": [],
   "source": [
    "search_loc.send_keys(\"Noida\")"
   ]
  },
  {
   "cell_type": "code",
   "execution_count": 98,
   "id": "6bf42211",
   "metadata": {},
   "outputs": [
    {
     "data": {
      "text/plain": [
       "<selenium.webdriver.remote.webelement.WebElement (session=\"831f0f4d8fe00199b01a7579f7c95d95\", element=\"d58c9d2d-0e69-4f6f-af1f-c2d9b7565168\")>"
      ]
     },
     "execution_count": 98,
     "metadata": {},
     "output_type": "execute_result"
    }
   ],
   "source": [
    "#click on search button\n",
    "search_butn=driver.find_element_by_xpath(\"//button[@class='gd-btn-mkt']\")\n",
    "search_butn"
   ]
  },
  {
   "cell_type": "code",
   "execution_count": 99,
   "id": "619e549c",
   "metadata": {},
   "outputs": [],
   "source": [
    "search_butn.click()"
   ]
  },
  {
   "cell_type": "code",
   "execution_count": 100,
   "id": "2319ef5d",
   "metadata": {},
   "outputs": [
    {
     "data": {
      "text/plain": [
       "[<selenium.webdriver.remote.webelement.WebElement (session=\"831f0f4d8fe00199b01a7579f7c95d95\", element=\"173ea44e-5157-4d63-ad1b-497df7970c15\")>,\n",
       " <selenium.webdriver.remote.webelement.WebElement (session=\"831f0f4d8fe00199b01a7579f7c95d95\", element=\"0be1697e-a267-4ac8-ba9f-682869dab1e1\")>,\n",
       " <selenium.webdriver.remote.webelement.WebElement (session=\"831f0f4d8fe00199b01a7579f7c95d95\", element=\"faeba656-304e-409a-9e75-dbdfecfc4fd8\")>,\n",
       " <selenium.webdriver.remote.webelement.WebElement (session=\"831f0f4d8fe00199b01a7579f7c95d95\", element=\"1d071524-6e6f-40b4-9497-4da775d0f482\")>,\n",
       " <selenium.webdriver.remote.webelement.WebElement (session=\"831f0f4d8fe00199b01a7579f7c95d95\", element=\"d33478a4-8013-4c26-b10a-9259e3f3f0a9\")>,\n",
       " <selenium.webdriver.remote.webelement.WebElement (session=\"831f0f4d8fe00199b01a7579f7c95d95\", element=\"0f3ed252-e0cb-495d-8468-9c03ce773dec\")>,\n",
       " <selenium.webdriver.remote.webelement.WebElement (session=\"831f0f4d8fe00199b01a7579f7c95d95\", element=\"89ea4750-a461-4b02-b4dc-a028cfa7f0cd\")>,\n",
       " <selenium.webdriver.remote.webelement.WebElement (session=\"831f0f4d8fe00199b01a7579f7c95d95\", element=\"f26b9501-09a0-4515-b5c8-0be45096a1a3\")>,\n",
       " <selenium.webdriver.remote.webelement.WebElement (session=\"831f0f4d8fe00199b01a7579f7c95d95\", element=\"f6ad4820-cbe1-4fec-8017-68f6de31949b\")>,\n",
       " <selenium.webdriver.remote.webelement.WebElement (session=\"831f0f4d8fe00199b01a7579f7c95d95\", element=\"e291db0c-23c9-4979-a0fa-c1df80ae151d\")>,\n",
       " <selenium.webdriver.remote.webelement.WebElement (session=\"831f0f4d8fe00199b01a7579f7c95d95\", element=\"29ee0ced-fa54-4fee-893a-42efa79f9977\")>,\n",
       " <selenium.webdriver.remote.webelement.WebElement (session=\"831f0f4d8fe00199b01a7579f7c95d95\", element=\"b5dfee71-8bde-4761-afaf-492d7efd9121\")>,\n",
       " <selenium.webdriver.remote.webelement.WebElement (session=\"831f0f4d8fe00199b01a7579f7c95d95\", element=\"6386a44b-701c-44c0-a6eb-1264add4de41\")>,\n",
       " <selenium.webdriver.remote.webelement.WebElement (session=\"831f0f4d8fe00199b01a7579f7c95d95\", element=\"2ae40d56-8c0f-48fa-84e2-0d9b98dcb039\")>,\n",
       " <selenium.webdriver.remote.webelement.WebElement (session=\"831f0f4d8fe00199b01a7579f7c95d95\", element=\"bb73e62c-b973-4a47-a662-286d0f4d82a1\")>,\n",
       " <selenium.webdriver.remote.webelement.WebElement (session=\"831f0f4d8fe00199b01a7579f7c95d95\", element=\"58d33848-5fab-4d3f-a0a5-575ddbf6533e\")>,\n",
       " <selenium.webdriver.remote.webelement.WebElement (session=\"831f0f4d8fe00199b01a7579f7c95d95\", element=\"d7eab6d1-ecf6-4743-b0b3-2610deb6c0d0\")>,\n",
       " <selenium.webdriver.remote.webelement.WebElement (session=\"831f0f4d8fe00199b01a7579f7c95d95\", element=\"a4a8e662-a07f-43fc-8144-4d8332a9b731\")>,\n",
       " <selenium.webdriver.remote.webelement.WebElement (session=\"831f0f4d8fe00199b01a7579f7c95d95\", element=\"fcd4ab09-f81d-4ddf-a932-5f6997dc5888\")>,\n",
       " <selenium.webdriver.remote.webelement.WebElement (session=\"831f0f4d8fe00199b01a7579f7c95d95\", element=\"dd66b0c9-3ec5-464f-b638-cf2423503cf6\")>]"
      ]
     },
     "execution_count": 100,
     "metadata": {},
     "output_type": "execute_result"
    }
   ],
   "source": [
    "#finding company name elements\n",
    "company_tags=driver.find_elements_by_xpath(\"//a[@class='css-f3vw95 e1aj7ssy3']\")\n",
    "company_tags"
   ]
  },
  {
   "cell_type": "code",
   "execution_count": 101,
   "id": "f39d9d7e",
   "metadata": {},
   "outputs": [
    {
     "data": {
      "text/plain": [
       "['Tata Consultancy Services',\n",
       " 'IBM',\n",
       " 'Accenture',\n",
       " 'Delhivery',\n",
       " 'Ericsson-Worldwide',\n",
       " 'UnitedHealth Group',\n",
       " 'Optum',\n",
       " 'Optum Global Solutions',\n",
       " 'Valiance Solutions',\n",
       " 'EXL Service',\n",
       " 'Cognizant Technology Solutions',\n",
       " 'ZS Associates',\n",
       " 'Nagarro',\n",
       " 'Innovaccer',\n",
       " 'OYO',\n",
       " 'dunnhumby',\n",
       " 'Amazon',\n",
       " 'Fresher',\n",
       " 'CARS24.com',\n",
       " 'Vidooly Media Tech']"
      ]
     },
     "execution_count": 101,
     "metadata": {},
     "output_type": "execute_result"
    }
   ],
   "source": [
    "#extracting the text\n",
    "company_names=[]\n",
    "for i in company_tags:\n",
    "    company_names.append(i.text)\n",
    "company_names"
   ]
  },
  {
   "cell_type": "code",
   "execution_count": 102,
   "id": "38175b42",
   "metadata": {},
   "outputs": [
    {
     "data": {
      "text/plain": [
       "[<selenium.webdriver.remote.webelement.WebElement (session=\"831f0f4d8fe00199b01a7579f7c95d95\", element=\"2f21205c-fefc-4038-8926-49d2f507ec00\")>,\n",
       " <selenium.webdriver.remote.webelement.WebElement (session=\"831f0f4d8fe00199b01a7579f7c95d95\", element=\"937056ae-1bcd-4d5e-93ae-9f155ef3ade9\")>,\n",
       " <selenium.webdriver.remote.webelement.WebElement (session=\"831f0f4d8fe00199b01a7579f7c95d95\", element=\"67bf5211-d21b-4c35-a6a2-2ae6a8805f61\")>,\n",
       " <selenium.webdriver.remote.webelement.WebElement (session=\"831f0f4d8fe00199b01a7579f7c95d95\", element=\"d77b5846-e9f9-408c-b309-f046045ca63f\")>,\n",
       " <selenium.webdriver.remote.webelement.WebElement (session=\"831f0f4d8fe00199b01a7579f7c95d95\", element=\"6e4aa0a3-60f8-479c-9d47-093f66bbe44a\")>,\n",
       " <selenium.webdriver.remote.webelement.WebElement (session=\"831f0f4d8fe00199b01a7579f7c95d95\", element=\"e99a24de-3da0-4667-aa4f-7562a181ec1b\")>,\n",
       " <selenium.webdriver.remote.webelement.WebElement (session=\"831f0f4d8fe00199b01a7579f7c95d95\", element=\"852bd218-9ebe-4153-aad8-ea0365217448\")>,\n",
       " <selenium.webdriver.remote.webelement.WebElement (session=\"831f0f4d8fe00199b01a7579f7c95d95\", element=\"20daef87-cd10-4121-98db-2cc6751c5fda\")>,\n",
       " <selenium.webdriver.remote.webelement.WebElement (session=\"831f0f4d8fe00199b01a7579f7c95d95\", element=\"b358d1dd-7539-480c-95e1-9bfb37fefa51\")>,\n",
       " <selenium.webdriver.remote.webelement.WebElement (session=\"831f0f4d8fe00199b01a7579f7c95d95\", element=\"7e3975c1-684e-4635-befe-decfde8a3398\")>,\n",
       " <selenium.webdriver.remote.webelement.WebElement (session=\"831f0f4d8fe00199b01a7579f7c95d95\", element=\"3edb5600-2580-48dd-8bd3-7162ad9db21a\")>,\n",
       " <selenium.webdriver.remote.webelement.WebElement (session=\"831f0f4d8fe00199b01a7579f7c95d95\", element=\"dcdf2d12-dfd3-4f87-b631-5755842d3b7d\")>,\n",
       " <selenium.webdriver.remote.webelement.WebElement (session=\"831f0f4d8fe00199b01a7579f7c95d95\", element=\"3c246e0e-57d7-472b-920d-3ed00c3b6148\")>,\n",
       " <selenium.webdriver.remote.webelement.WebElement (session=\"831f0f4d8fe00199b01a7579f7c95d95\", element=\"6073b639-fe37-4ad9-8ffb-9501ef6d5b7b\")>,\n",
       " <selenium.webdriver.remote.webelement.WebElement (session=\"831f0f4d8fe00199b01a7579f7c95d95\", element=\"076a9ce9-14e4-452d-a934-7baa861bbd4f\")>,\n",
       " <selenium.webdriver.remote.webelement.WebElement (session=\"831f0f4d8fe00199b01a7579f7c95d95\", element=\"28ecd95d-7d26-4bf6-9db5-10aaaa63efb2\")>,\n",
       " <selenium.webdriver.remote.webelement.WebElement (session=\"831f0f4d8fe00199b01a7579f7c95d95\", element=\"c63fd1e1-7789-40cc-8664-943dca50acac\")>,\n",
       " <selenium.webdriver.remote.webelement.WebElement (session=\"831f0f4d8fe00199b01a7579f7c95d95\", element=\"1792dbe8-7d61-4680-b8ba-2a99bff36d86\")>,\n",
       " <selenium.webdriver.remote.webelement.WebElement (session=\"831f0f4d8fe00199b01a7579f7c95d95\", element=\"720b51c1-bc03-4d96-99c1-a83d26dc6838\")>,\n",
       " <selenium.webdriver.remote.webelement.WebElement (session=\"831f0f4d8fe00199b01a7579f7c95d95\", element=\"ef5af888-c812-4a03-8424-a67fb8ad7b4d\")>]"
      ]
     },
     "execution_count": 102,
     "metadata": {},
     "output_type": "execute_result"
    }
   ],
   "source": [
    "#finding the element for number of salary\n",
    "no_of_salary=driver.find_elements_by_xpath(\"//div[@class='col-12 col-lg-auto']\")\n",
    "no_of_salary"
   ]
  },
  {
   "cell_type": "code",
   "execution_count": 103,
   "id": "2741251f",
   "metadata": {},
   "outputs": [
    {
     "data": {
      "text/plain": [
       "['22 salaries',\n",
       " '20 salaries',\n",
       " '15 salaries',\n",
       " '15 salaries',\n",
       " '14 salaries',\n",
       " '14 salaries',\n",
       " '11 salaries',\n",
       " '10 salaries',\n",
       " '10 salaries',\n",
       " '9 salaries',\n",
       " '8 salaries',\n",
       " '8 salaries',\n",
       " '8 salaries',\n",
       " '8 salaries',\n",
       " '7 salaries',\n",
       " '7 salaries',\n",
       " '6 salaries',\n",
       " '6 salaries',\n",
       " '6 salaries',\n",
       " '6 salaries']"
      ]
     },
     "execution_count": 103,
     "metadata": {},
     "output_type": "execute_result"
    }
   ],
   "source": [
    "#extracting the text\n",
    "Salaries=[]\n",
    "for i in no_of_salary:\n",
    "    Salaries.append(i.text)\n",
    "Salaries"
   ]
  },
  {
   "cell_type": "code",
   "execution_count": 104,
   "id": "2f7f3eac",
   "metadata": {
    "scrolled": true
   },
   "outputs": [
    {
     "data": {
      "text/plain": [
       "['https://www.glassdoor.co.in/Salary/Tata-Consultancy-Services-Data-Scientist-New-Delhi-Salaries-EJI_IE13461.0,25_KO26,40_IL.41,50_IM1083.htm',\n",
       " 'https://www.glassdoor.co.in/Salary/IBM-Data-Scientist-New-Delhi-Salaries-EJI_IE354.0,3_KO4,18_IL.19,28_IM1083.htm',\n",
       " 'https://www.glassdoor.co.in/Salary/Accenture-Data-Scientist-New-Delhi-Salaries-EJI_IE4138.0,9_KO10,24_IL.25,34_IM1083.htm',\n",
       " 'https://www.glassdoor.co.in/Salary/Delhivery-Data-Scientist-New-Delhi-Salaries-EJI_IE513409.0,9_KO10,24_IL.25,34_IM1083.htm',\n",
       " 'https://www.glassdoor.co.in/Salary/Ericsson-Worldwide-Data-Scientist-New-Delhi-Salaries-EJI_IE3472.0,18_KO19,33_IL.34,43_IM1083.htm',\n",
       " 'https://www.glassdoor.co.in/Salary/UnitedHealth-Group-Data-Scientist-New-Delhi-Salaries-EJI_IE1991.0,18_KO19,33_IL.34,43_IM1083.htm',\n",
       " 'https://www.glassdoor.co.in/Salary/Optum-Data-Scientist-New-Delhi-Salaries-EJI_IE2409113.0,5_KO6,20_IL.21,30_IM1083.htm',\n",
       " 'https://www.glassdoor.co.in/Salary/Optum-Global-Solutions-Data-Scientist-New-Delhi-Salaries-EJI_IE3725926.0,22_KO23,37_IL.38,47_IM1083.htm',\n",
       " 'https://www.glassdoor.co.in/Salary/Valiance-Solutions-Data-Scientist-New-Delhi-Salaries-EJI_IE895637.0,18_KO19,33_IL.34,43_IM1083.htm',\n",
       " 'https://www.glassdoor.co.in/Salary/EXL-Service-Data-Scientist-New-Delhi-Salaries-EJI_IE37901.0,11_KO12,26_IL.27,36_IM1083.htm',\n",
       " 'https://www.glassdoor.co.in/Salary/Cognizant-Technology-Solutions-Data-Scientist-New-Delhi-Salaries-EJI_IE8014.0,30_KO31,45_IL.46,55_IM1083.htm',\n",
       " 'https://www.glassdoor.co.in/Salary/ZS-Associates-Data-Scientist-New-Delhi-Salaries-EJI_IE115506.0,13_KO14,28_IL.29,38_IM1083.htm',\n",
       " 'https://www.glassdoor.co.in/Salary/Nagarro-Data-Scientist-New-Delhi-Salaries-EJI_IE240077.0,7_KO8,22_IL.23,32_IM1083.htm',\n",
       " 'https://www.glassdoor.co.in/Salary/Innovaccer-Data-Scientist-New-Delhi-Salaries-EJI_IE721552.0,10_KO11,25_IL.26,35_IM1083.htm',\n",
       " 'https://www.glassdoor.co.in/Salary/OYO-Data-Scientist-New-Delhi-Salaries-EJI_IE953789.0,3_KO4,18_IL.19,28_IM1083.htm',\n",
       " 'https://www.glassdoor.co.in/Salary/dunnhumby-Data-Scientist-New-Delhi-Salaries-EJI_IE195922.0,9_KO10,24_IL.25,34_IM1083.htm',\n",
       " 'https://www.glassdoor.co.in/Salary/Amazon-Data-Scientist-New-Delhi-Salaries-EJI_IE6036.0,6_KO7,21_IL.22,31_IM1083.htm',\n",
       " 'https://www.glassdoor.co.in/Salary/Fresher-Data-Scientist-New-Delhi-EJI_IE3490842.0,7_KO8,22_IL.23,32_IM1083.htm?filter.payPeriod=MONTHLY',\n",
       " 'https://www.glassdoor.co.in/Salary/CARS24-com-Data-Scientist-New-Delhi-Salaries-EJI_IE1316104.0,10_KO11,25_IL.26,35_IM1083.htm',\n",
       " 'https://www.glassdoor.co.in/Salary/Vidooly-Media-Tech-Data-Scientist-New-Delhi-EJI_IE1483199.0,18_KO19,33_IL.34,43_IM1083.htm?filter.payPeriod=MONTHLY']"
      ]
     },
     "execution_count": 104,
     "metadata": {},
     "output_type": "execute_result"
    }
   ],
   "source": [
    "urls=[]\n",
    "for i in driver.find_elements_by_xpath(\"//a[@class='css-f3vw95 e1aj7ssy3']\"):\n",
    "    urls.append(i.get_attribute(\"href\"))\n",
    "urls"
   ]
  },
  {
   "cell_type": "code",
   "execution_count": 105,
   "id": "a1641888",
   "metadata": {},
   "outputs": [
    {
     "data": {
      "text/plain": [
       "20"
      ]
     },
     "execution_count": 105,
     "metadata": {},
     "output_type": "execute_result"
    }
   ],
   "source": [
    "len(urls)"
   ]
  },
  {
   "cell_type": "code",
   "execution_count": 106,
   "id": "66f76daa",
   "metadata": {},
   "outputs": [],
   "source": [
    "#defining variable\n",
    "min_salary=[]"
   ]
  },
  {
   "cell_type": "code",
   "execution_count": 107,
   "id": "93226340",
   "metadata": {},
   "outputs": [],
   "source": [
    "#finding and extracting element for minimum salary\n",
    "for i in urls:\n",
    "    driver.get(i)\n",
    "    try:\n",
    "        salary=driver.find_element_by_xpath(\"//div[@class='d-flex my-xxsm css-79elbk e86zor80']/strong[1]\")\n",
    "        min_salary.append(salary.text)\n",
    "    except:\n",
    "        min_salary.append('-')"
   ]
  },
  {
   "cell_type": "code",
   "execution_count": 108,
   "id": "29b2b8d1",
   "metadata": {},
   "outputs": [
    {
     "data": {
      "text/plain": [
       "['₹4L',\n",
       " '₹1L',\n",
       " '₹6L',\n",
       " '₹5L',\n",
       " '₹4L',\n",
       " '₹8L',\n",
       " '₹8L',\n",
       " '₹10L',\n",
       " '₹5L',\n",
       " '₹6L',\n",
       " '₹4L',\n",
       " '₹2L',\n",
       " '₹4L',\n",
       " '₹6L',\n",
       " '₹10L',\n",
       " '₹8L',\n",
       " '₹10L',\n",
       " '₹25T',\n",
       " '₹9L',\n",
       " '₹12T']"
      ]
     },
     "execution_count": 108,
     "metadata": {},
     "output_type": "execute_result"
    }
   ],
   "source": [
    "min_salary"
   ]
  },
  {
   "cell_type": "code",
   "execution_count": 109,
   "id": "f1ad8671",
   "metadata": {},
   "outputs": [],
   "source": [
    "#defining variable\n",
    "max_salary=[]"
   ]
  },
  {
   "cell_type": "code",
   "execution_count": 110,
   "id": "094eadc7",
   "metadata": {},
   "outputs": [],
   "source": [
    "#finding and extracting element for maximum salary\n",
    "for i in urls:\n",
    "    driver.get(i)\n",
    "    try:\n",
    "        salary=driver.find_element_by_xpath(\"//div[@class='d-flex my-xxsm css-79elbk e86zor80']/strong[2]\")\n",
    "        max_salary.append(salary.text)\n",
    "    except:\n",
    "        max_salary.append('-')"
   ]
  },
  {
   "cell_type": "code",
   "execution_count": 111,
   "id": "be67017b",
   "metadata": {},
   "outputs": [
    {
     "data": {
      "text/plain": [
       "['₹13L',\n",
       " '₹28L',\n",
       " '₹23L',\n",
       " '₹1Cr',\n",
       " '₹17L',\n",
       " '₹16L',\n",
       " '₹20L',\n",
       " '₹18L',\n",
       " '₹15L',\n",
       " '₹16L',\n",
       " '₹13L',\n",
       " '₹19L',\n",
       " '₹21L',\n",
       " '₹17L',\n",
       " '₹21L',\n",
       " '₹21L',\n",
       " '₹30L',\n",
       " '₹1L',\n",
       " '₹15L',\n",
       " '-']"
      ]
     },
     "execution_count": 111,
     "metadata": {},
     "output_type": "execute_result"
    }
   ],
   "source": [
    "max_salary"
   ]
  },
  {
   "cell_type": "code",
   "execution_count": 112,
   "id": "0289d754",
   "metadata": {},
   "outputs": [
    {
     "data": {
      "text/plain": [
       "[<selenium.webdriver.remote.webelement.WebElement (session=\"831f0f4d8fe00199b01a7579f7c95d95\", element=\"17ac14d0-01df-480b-9248-d4540009ff81\")>,\n",
       " <selenium.webdriver.remote.webelement.WebElement (session=\"831f0f4d8fe00199b01a7579f7c95d95\", element=\"eec3dc31-468b-4741-84af-80c19f2f7413\")>,\n",
       " <selenium.webdriver.remote.webelement.WebElement (session=\"831f0f4d8fe00199b01a7579f7c95d95\", element=\"6759b34b-f6be-411b-8483-7bba13c1c5e1\")>,\n",
       " <selenium.webdriver.remote.webelement.WebElement (session=\"831f0f4d8fe00199b01a7579f7c95d95\", element=\"fbf1c506-6701-4341-a71c-9eab0624daf9\")>,\n",
       " <selenium.webdriver.remote.webelement.WebElement (session=\"831f0f4d8fe00199b01a7579f7c95d95\", element=\"27692340-69ee-4b4a-87eb-2b28334df432\")>,\n",
       " <selenium.webdriver.remote.webelement.WebElement (session=\"831f0f4d8fe00199b01a7579f7c95d95\", element=\"28567d77-65a1-4803-9242-644e6759e8c9\")>,\n",
       " <selenium.webdriver.remote.webelement.WebElement (session=\"831f0f4d8fe00199b01a7579f7c95d95\", element=\"a2be0a92-64f6-40ec-9d7d-ee63c958c961\")>,\n",
       " <selenium.webdriver.remote.webelement.WebElement (session=\"831f0f4d8fe00199b01a7579f7c95d95\", element=\"d0bf5a43-8889-4b25-aa42-4a62709404f7\")>,\n",
       " <selenium.webdriver.remote.webelement.WebElement (session=\"831f0f4d8fe00199b01a7579f7c95d95\", element=\"39e22d58-083d-4fb3-b066-da7fc8083c36\")>,\n",
       " <selenium.webdriver.remote.webelement.WebElement (session=\"831f0f4d8fe00199b01a7579f7c95d95\", element=\"35dd6758-92fb-43cc-8ed3-145b3cf62f7e\")>,\n",
       " <selenium.webdriver.remote.webelement.WebElement (session=\"831f0f4d8fe00199b01a7579f7c95d95\", element=\"ec18c671-d891-400a-873a-9f5725e2d4e2\")>,\n",
       " <selenium.webdriver.remote.webelement.WebElement (session=\"831f0f4d8fe00199b01a7579f7c95d95\", element=\"c8bbdbed-a9e7-4755-869e-0edee7b5c110\")>,\n",
       " <selenium.webdriver.remote.webelement.WebElement (session=\"831f0f4d8fe00199b01a7579f7c95d95\", element=\"bffe8858-cc61-48fe-9a55-85683e5f7637\")>,\n",
       " <selenium.webdriver.remote.webelement.WebElement (session=\"831f0f4d8fe00199b01a7579f7c95d95\", element=\"2f493171-c01b-45e5-9c52-481c47399630\")>,\n",
       " <selenium.webdriver.remote.webelement.WebElement (session=\"831f0f4d8fe00199b01a7579f7c95d95\", element=\"c8d095b3-0647-40f8-937c-75d5ba0b535b\")>,\n",
       " <selenium.webdriver.remote.webelement.WebElement (session=\"831f0f4d8fe00199b01a7579f7c95d95\", element=\"ca53fe41-4f42-4529-a7dc-532b6a5fe68c\")>,\n",
       " <selenium.webdriver.remote.webelement.WebElement (session=\"831f0f4d8fe00199b01a7579f7c95d95\", element=\"5c91243f-8d9f-4593-af1c-c02dff3739fd\")>,\n",
       " <selenium.webdriver.remote.webelement.WebElement (session=\"831f0f4d8fe00199b01a7579f7c95d95\", element=\"d06ca91c-2966-4ab2-9fa1-04f9574266c4\")>,\n",
       " <selenium.webdriver.remote.webelement.WebElement (session=\"831f0f4d8fe00199b01a7579f7c95d95\", element=\"bf16469a-deb0-4d67-aad7-30afe9750360\")>,\n",
       " <selenium.webdriver.remote.webelement.WebElement (session=\"831f0f4d8fe00199b01a7579f7c95d95\", element=\"596f8610-e6a6-456b-8830-9f5cafd9149c\")>]"
      ]
     },
     "execution_count": 112,
     "metadata": {},
     "output_type": "execute_result"
    }
   ],
   "source": [
    "#finding the element for average salary\n",
    "avg_salary=driver.find_elements_by_xpath(\"//div[@class='col-12 col-lg-4 px-lg-0 d-flex align-items-baseline']\")\n",
    "avg_salary"
   ]
  },
  {
   "cell_type": "code",
   "execution_count": 113,
   "id": "30be7ff2",
   "metadata": {},
   "outputs": [
    {
     "data": {
      "text/plain": [
       "['₹6,28,021 /yr',\n",
       " '₹9,08,246 /yr',\n",
       " '₹11,93,390 /yr',\n",
       " '₹12,49,716 /yr',\n",
       " '₹7,58,335 /yr',\n",
       " '₹12,80,000 /yr',\n",
       " '₹12,70,000 /yr',\n",
       " '₹14,55,430 /yr',\n",
       " '₹8,86,064 /yr',\n",
       " '₹11,10,000 /yr',\n",
       " '₹9,62,227 /yr',\n",
       " '₹11,71,868 /yr',\n",
       " '₹11,01,815 /yr',\n",
       " '₹12,40,275 /yr',\n",
       " '₹14,51,902 /yr',\n",
       " '₹11,30,374 /yr',\n",
       " '₹20,63,782 /yr',\n",
       " '₹61,566 /mo',\n",
       " '₹10,80,727 /yr',\n",
       " '₹35,040 /mo']"
      ]
     },
     "execution_count": 113,
     "metadata": {},
     "output_type": "execute_result"
    }
   ],
   "source": [
    "#extracting the elements for average salary\n",
    "average_salary=[]\n",
    "for i in avg_salary:\n",
    "    average_salary.append(i.text.replace(\"\\n\",\"\"))\n",
    "average_salary"
   ]
  },
  {
   "cell_type": "code",
   "execution_count": 114,
   "id": "0088d541",
   "metadata": {},
   "outputs": [
    {
     "data": {
      "text/plain": [
       "[<selenium.webdriver.remote.webelement.WebElement (session=\"831f0f4d8fe00199b01a7579f7c95d95\", element=\"422ea453-157b-4d25-926f-ffd447d4c949\")>,\n",
       " <selenium.webdriver.remote.webelement.WebElement (session=\"831f0f4d8fe00199b01a7579f7c95d95\", element=\"375ce7ba-93f9-4c00-901f-98e9e2e7ff9f\")>,\n",
       " <selenium.webdriver.remote.webelement.WebElement (session=\"831f0f4d8fe00199b01a7579f7c95d95\", element=\"c49b5bd2-29d5-4978-813d-4759de085054\")>,\n",
       " <selenium.webdriver.remote.webelement.WebElement (session=\"831f0f4d8fe00199b01a7579f7c95d95\", element=\"fa3e5282-1b5d-4a86-a143-c23b6079482b\")>,\n",
       " <selenium.webdriver.remote.webelement.WebElement (session=\"831f0f4d8fe00199b01a7579f7c95d95\", element=\"bcafb0ca-7909-4120-bf0b-8533c13768ba\")>,\n",
       " <selenium.webdriver.remote.webelement.WebElement (session=\"831f0f4d8fe00199b01a7579f7c95d95\", element=\"c202aa0f-426b-4790-a78e-25e2bc293934\")>,\n",
       " <selenium.webdriver.remote.webelement.WebElement (session=\"831f0f4d8fe00199b01a7579f7c95d95\", element=\"67d2942c-a63f-46ad-8c76-0af6999c671b\")>,\n",
       " <selenium.webdriver.remote.webelement.WebElement (session=\"831f0f4d8fe00199b01a7579f7c95d95\", element=\"81cb5ee7-4a8c-4f0f-a001-2603c90cdc75\")>,\n",
       " <selenium.webdriver.remote.webelement.WebElement (session=\"831f0f4d8fe00199b01a7579f7c95d95\", element=\"f1606c33-ebca-4ee2-9e74-621a6965a314\")>,\n",
       " <selenium.webdriver.remote.webelement.WebElement (session=\"831f0f4d8fe00199b01a7579f7c95d95\", element=\"d1b5ae2f-0ce7-49d0-9775-907edec6374d\")>,\n",
       " <selenium.webdriver.remote.webelement.WebElement (session=\"831f0f4d8fe00199b01a7579f7c95d95\", element=\"2f09e47e-c654-485c-bc7d-105354742b1a\")>,\n",
       " <selenium.webdriver.remote.webelement.WebElement (session=\"831f0f4d8fe00199b01a7579f7c95d95\", element=\"490c6c14-0953-40f4-a663-91da2b4c853c\")>,\n",
       " <selenium.webdriver.remote.webelement.WebElement (session=\"831f0f4d8fe00199b01a7579f7c95d95\", element=\"407abfbb-c674-42a3-845e-37428dcdbb2b\")>,\n",
       " <selenium.webdriver.remote.webelement.WebElement (session=\"831f0f4d8fe00199b01a7579f7c95d95\", element=\"a0993c67-0474-4342-90d8-13a3d90e922b\")>,\n",
       " <selenium.webdriver.remote.webelement.WebElement (session=\"831f0f4d8fe00199b01a7579f7c95d95\", element=\"e7303a63-038d-4221-9071-f4bcce1f8c6d\")>,\n",
       " <selenium.webdriver.remote.webelement.WebElement (session=\"831f0f4d8fe00199b01a7579f7c95d95\", element=\"46245f09-5bc3-4dec-86ec-64612a2e93bc\")>,\n",
       " <selenium.webdriver.remote.webelement.WebElement (session=\"831f0f4d8fe00199b01a7579f7c95d95\", element=\"3017b01f-54c0-44d3-ac11-60584e450a0d\")>,\n",
       " <selenium.webdriver.remote.webelement.WebElement (session=\"831f0f4d8fe00199b01a7579f7c95d95\", element=\"e7aa7ad5-07a4-4c44-8fb6-0d4a8099fb40\")>,\n",
       " <selenium.webdriver.remote.webelement.WebElement (session=\"831f0f4d8fe00199b01a7579f7c95d95\", element=\"ed0ed003-9ad3-4e55-bb10-fbbeeb53f736\")>,\n",
       " <selenium.webdriver.remote.webelement.WebElement (session=\"831f0f4d8fe00199b01a7579f7c95d95\", element=\"ce2146d8-ae09-4837-8345-d490951f5a64\")>]"
      ]
     },
     "execution_count": 114,
     "metadata": {},
     "output_type": "execute_result"
    }
   ],
   "source": [
    "#finding the elements for rating\n",
    "rating=driver.find_elements_by_xpath(\"//div[@class='d-flex align-items-center mt-xxsm']\")\n",
    "rating"
   ]
  },
  {
   "cell_type": "code",
   "execution_count": 115,
   "id": "92afdbfe",
   "metadata": {},
   "outputs": [
    {
     "data": {
      "text/plain": [
       "['3.9★',\n",
       " '3.9★',\n",
       " '4.1★',\n",
       " '3.7★',\n",
       " '4★',\n",
       " '3.7★',\n",
       " '3.7★',\n",
       " '3.9★',\n",
       " '4.2★',\n",
       " '3.6★',\n",
       " '3.8★',\n",
       " '4★',\n",
       " '4★',\n",
       " '3.8★',\n",
       " '3.3★',\n",
       " '4★',\n",
       " '3.8★',\n",
       " '4.1★',\n",
       " '4.1★',\n",
       " '3.8★']"
      ]
     },
     "execution_count": 115,
     "metadata": {},
     "output_type": "execute_result"
    }
   ],
   "source": [
    "#extracting the rating elements\n",
    "ratings=[]\n",
    "for i in rating:\n",
    "    ratings.append(i.text.replace(\"\\n\",\"\"))\n",
    "ratings"
   ]
  },
  {
   "cell_type": "code",
   "execution_count": 116,
   "id": "29a65984",
   "metadata": {},
   "outputs": [
    {
     "name": "stdout",
     "output_type": "stream",
     "text": [
      "20 20 20 20 20 20\n"
     ]
    }
   ],
   "source": [
    "print(len(company_names),len(Salaries),len(min_salary),len(max_salary),len(average_salary),len(ratings))"
   ]
  },
  {
   "cell_type": "code",
   "execution_count": 117,
   "id": "588d053e",
   "metadata": {},
   "outputs": [
    {
     "data": {
      "text/html": [
       "<div>\n",
       "<style scoped>\n",
       "    .dataframe tbody tr th:only-of-type {\n",
       "        vertical-align: middle;\n",
       "    }\n",
       "\n",
       "    .dataframe tbody tr th {\n",
       "        vertical-align: top;\n",
       "    }\n",
       "\n",
       "    .dataframe thead th {\n",
       "        text-align: right;\n",
       "    }\n",
       "</style>\n",
       "<table border=\"1\" class=\"dataframe\">\n",
       "  <thead>\n",
       "    <tr style=\"text-align: right;\">\n",
       "      <th></th>\n",
       "      <th>Company Name</th>\n",
       "      <th>Number of salaries</th>\n",
       "      <th>Minimum Salary</th>\n",
       "      <th>Maximum Salary</th>\n",
       "      <th>Average Salary</th>\n",
       "      <th>Rating of the company</th>\n",
       "    </tr>\n",
       "  </thead>\n",
       "  <tbody>\n",
       "    <tr>\n",
       "      <th>0</th>\n",
       "      <td>Tata Consultancy Services</td>\n",
       "      <td>22 salaries</td>\n",
       "      <td>₹4L</td>\n",
       "      <td>₹13L</td>\n",
       "      <td>₹6,28,021 /yr</td>\n",
       "      <td>3.9★</td>\n",
       "    </tr>\n",
       "    <tr>\n",
       "      <th>1</th>\n",
       "      <td>IBM</td>\n",
       "      <td>20 salaries</td>\n",
       "      <td>₹1L</td>\n",
       "      <td>₹28L</td>\n",
       "      <td>₹9,08,246 /yr</td>\n",
       "      <td>3.9★</td>\n",
       "    </tr>\n",
       "    <tr>\n",
       "      <th>2</th>\n",
       "      <td>Accenture</td>\n",
       "      <td>15 salaries</td>\n",
       "      <td>₹6L</td>\n",
       "      <td>₹23L</td>\n",
       "      <td>₹11,93,390 /yr</td>\n",
       "      <td>4.1★</td>\n",
       "    </tr>\n",
       "    <tr>\n",
       "      <th>3</th>\n",
       "      <td>Delhivery</td>\n",
       "      <td>15 salaries</td>\n",
       "      <td>₹5L</td>\n",
       "      <td>₹1Cr</td>\n",
       "      <td>₹12,49,716 /yr</td>\n",
       "      <td>3.7★</td>\n",
       "    </tr>\n",
       "    <tr>\n",
       "      <th>4</th>\n",
       "      <td>Ericsson-Worldwide</td>\n",
       "      <td>14 salaries</td>\n",
       "      <td>₹4L</td>\n",
       "      <td>₹17L</td>\n",
       "      <td>₹7,58,335 /yr</td>\n",
       "      <td>4★</td>\n",
       "    </tr>\n",
       "    <tr>\n",
       "      <th>5</th>\n",
       "      <td>UnitedHealth Group</td>\n",
       "      <td>14 salaries</td>\n",
       "      <td>₹8L</td>\n",
       "      <td>₹16L</td>\n",
       "      <td>₹12,80,000 /yr</td>\n",
       "      <td>3.7★</td>\n",
       "    </tr>\n",
       "    <tr>\n",
       "      <th>6</th>\n",
       "      <td>Optum</td>\n",
       "      <td>11 salaries</td>\n",
       "      <td>₹8L</td>\n",
       "      <td>₹20L</td>\n",
       "      <td>₹12,70,000 /yr</td>\n",
       "      <td>3.7★</td>\n",
       "    </tr>\n",
       "    <tr>\n",
       "      <th>7</th>\n",
       "      <td>Optum Global Solutions</td>\n",
       "      <td>10 salaries</td>\n",
       "      <td>₹10L</td>\n",
       "      <td>₹18L</td>\n",
       "      <td>₹14,55,430 /yr</td>\n",
       "      <td>3.9★</td>\n",
       "    </tr>\n",
       "    <tr>\n",
       "      <th>8</th>\n",
       "      <td>Valiance Solutions</td>\n",
       "      <td>10 salaries</td>\n",
       "      <td>₹5L</td>\n",
       "      <td>₹15L</td>\n",
       "      <td>₹8,86,064 /yr</td>\n",
       "      <td>4.2★</td>\n",
       "    </tr>\n",
       "    <tr>\n",
       "      <th>9</th>\n",
       "      <td>EXL Service</td>\n",
       "      <td>9 salaries</td>\n",
       "      <td>₹6L</td>\n",
       "      <td>₹16L</td>\n",
       "      <td>₹11,10,000 /yr</td>\n",
       "      <td>3.6★</td>\n",
       "    </tr>\n",
       "  </tbody>\n",
       "</table>\n",
       "</div>"
      ],
      "text/plain": [
       "                Company Name Number of salaries Minimum Salary Maximum Salary  \\\n",
       "0  Tata Consultancy Services        22 salaries            ₹4L           ₹13L   \n",
       "1                        IBM        20 salaries            ₹1L           ₹28L   \n",
       "2                  Accenture        15 salaries            ₹6L           ₹23L   \n",
       "3                  Delhivery        15 salaries            ₹5L           ₹1Cr   \n",
       "4         Ericsson-Worldwide        14 salaries            ₹4L           ₹17L   \n",
       "5         UnitedHealth Group        14 salaries            ₹8L           ₹16L   \n",
       "6                      Optum        11 salaries            ₹8L           ₹20L   \n",
       "7     Optum Global Solutions        10 salaries           ₹10L           ₹18L   \n",
       "8         Valiance Solutions        10 salaries            ₹5L           ₹15L   \n",
       "9                EXL Service         9 salaries            ₹6L           ₹16L   \n",
       "\n",
       "   Average Salary Rating of the company  \n",
       "0   ₹6,28,021 /yr                  3.9★  \n",
       "1   ₹9,08,246 /yr                  3.9★  \n",
       "2  ₹11,93,390 /yr                  4.1★  \n",
       "3  ₹12,49,716 /yr                  3.7★  \n",
       "4   ₹7,58,335 /yr                    4★  \n",
       "5  ₹12,80,000 /yr                  3.7★  \n",
       "6  ₹12,70,000 /yr                  3.7★  \n",
       "7  ₹14,55,430 /yr                  3.9★  \n",
       "8   ₹8,86,064 /yr                  4.2★  \n",
       "9  ₹11,10,000 /yr                  3.6★  "
      ]
     },
     "execution_count": 117,
     "metadata": {},
     "output_type": "execute_result"
    }
   ],
   "source": [
    "#creating dataframe\n",
    "salary=pd.DataFrame({})\n",
    "\n",
    "salary['Company Name']=company_names[:10]\n",
    "salary['Number of salaries']=Salaries[:10]\n",
    "salary['Minimum Salary']=min_salary[:10]\n",
    "salary['Maximum Salary']=max_salary[:10]\n",
    "salary['Average Salary']=average_salary[:10]\n",
    "salary['Rating of the company']=ratings[:10]\n",
    "\n",
    "salary"
   ]
  },
  {
   "cell_type": "code",
   "execution_count": 118,
   "id": "884057f4",
   "metadata": {},
   "outputs": [
    {
     "data": {
      "text/plain": [
       "10"
      ]
     },
     "execution_count": 118,
     "metadata": {},
     "output_type": "execute_result"
    }
   ],
   "source": [
    "#length of dataframe\n",
    "len(salary)"
   ]
  },
  {
   "cell_type": "code",
   "execution_count": 119,
   "id": "615c15c9",
   "metadata": {},
   "outputs": [],
   "source": [
    "#Q6) Scrape data of first 100 sunglasses listings on flipkart.com. You have to \n",
    "#scrape four attributes:\n",
    "#1. Brand\n",
    "#2. Product Description\n",
    "#3. Price\n",
    "#4. Discount %"
   ]
  },
  {
   "cell_type": "code",
   "execution_count": 120,
   "id": "c7b00f92",
   "metadata": {},
   "outputs": [],
   "source": [
    "#connecting to web driver\n",
    "driver=webdriver.Chrome(\"chromedriver.exe\")"
   ]
  },
  {
   "cell_type": "code",
   "execution_count": 121,
   "id": "f469e2ad",
   "metadata": {},
   "outputs": [],
   "source": [
    "url='https://www.flipkart.com/'\n",
    "driver.get(url)"
   ]
  },
  {
   "cell_type": "code",
   "execution_count": 122,
   "id": "89d429a0",
   "metadata": {},
   "outputs": [
    {
     "data": {
      "text/plain": [
       "<selenium.webdriver.remote.webelement.WebElement (session=\"5af53ef5ba4e24a851b10492ff237237\", element=\"2f8ef367-a53c-42ae-910b-c8ed21ebc375\")>"
      ]
     },
     "execution_count": 122,
     "metadata": {},
     "output_type": "execute_result"
    }
   ],
   "source": [
    "#finding product element\n",
    "search_product=driver.find_element_by_xpath(\"//input[@class='_3704LK']\")\n",
    "search_product"
   ]
  },
  {
   "cell_type": "code",
   "execution_count": 123,
   "id": "5b7f915c",
   "metadata": {},
   "outputs": [],
   "source": [
    "#sending keys to search product\n",
    "search_product.send_keys(\"sunglasses\")"
   ]
  },
  {
   "cell_type": "code",
   "execution_count": 124,
   "id": "f02aa700",
   "metadata": {},
   "outputs": [],
   "source": [
    "#clicking on search button\n",
    "search_btn=driver.find_element_by_xpath(\"//button[@class='L0Z3Pu']\")\n",
    "search_btn.click()"
   ]
  },
  {
   "cell_type": "code",
   "execution_count": 125,
   "id": "a4b164be",
   "metadata": {},
   "outputs": [],
   "source": [
    "#importing time\n",
    "from selenium import webdriver\n",
    "import time\n",
    "from selenium.common.exceptions import NoSuchElementException"
   ]
  },
  {
   "cell_type": "code",
   "execution_count": 126,
   "id": "a347583a",
   "metadata": {},
   "outputs": [],
   "source": [
    "#defining variable\n",
    "brand_name=[]\n",
    "product_description=[]\n",
    "price=[]\n",
    "discount=[]"
   ]
  },
  {
   "cell_type": "code",
   "execution_count": 127,
   "id": "0e5c388c",
   "metadata": {},
   "outputs": [],
   "source": [
    "for i in range(1,4):\n",
    "    driver.get('https://www.flipkart.com/search?q=sunglasses&otracker=search&otracker1=search&marketplace=FLIPKART&as-show=on&as=off&page=1')\n",
    "    time.sleep(1)\n",
    "    #fetch brand element\n",
    "    try:\n",
    "        brand=driver.find_elements_by_xpath(\"//div[@class='_2WkVRV']\")\n",
    "        for j in brand:\n",
    "            brand_name.append(j.text)\n",
    "    except:\n",
    "        brand_name.append('-')\n",
    "    #fetch product description    \n",
    "    try:\n",
    "        prod_desc=driver.find_elements_by_xpath(\"//a[@class='IRpwTa']\")\n",
    "        for prod in prod_desc:\n",
    "            product_description.append(prod.text)\n",
    "    except:\n",
    "        product_description.append('-')\n",
    "    #fetch price    \n",
    "    try:\n",
    "        glass_price=driver.find_elements_by_xpath(\"//div[@class='_30jeq3']\")\n",
    "        for k in glass_price:\n",
    "            price.append(k.text)\n",
    "    except:\n",
    "        price.append('-')\n",
    "    #fetch discount percentage\n",
    "    try:\n",
    "        discount_percentage=driver.find_elements_by_xpath(\"//div[@class='_3Ay6Sb']\")\n",
    "        for dsc in discount_percentage:\n",
    "            discount.append(dsc.text)\n",
    "    except:\n",
    "        discount.append('-')\n",
    "    #click on next button\n",
    "    next_button=driver.find_element_by_xpath(\"//a[@class='_1LKTO3']\")\n",
    "    next_button.click()"
   ]
  },
  {
   "cell_type": "code",
   "execution_count": 128,
   "id": "e0c93396",
   "metadata": {},
   "outputs": [
    {
     "data": {
      "text/plain": [
       "['AISLIN',\n",
       " 'GANSTA',\n",
       " 'Elligator',\n",
       " 'SHAAH COLLECTIONS',\n",
       " 'kingsunglasses',\n",
       " 'ROZZETTA CRAFT',\n",
       " 'PIRASO',\n",
       " 'Singco India',\n",
       " 'Fastrack',\n",
       " 'kingsunglasses',\n",
       " 'ROZZETTA CRAFT',\n",
       " 'ROYAL SON',\n",
       " 'DEIXELS',\n",
       " 'PIRASO',\n",
       " 'SHAAH COLLECTIONS',\n",
       " 'ROYAL SON',\n",
       " 'SUNBEE',\n",
       " 'SHAAH COLLECTIONS',\n",
       " 'ROYAL SON',\n",
       " 'ROYAL SON',\n",
       " 'PIRASO',\n",
       " 'Fastrack',\n",
       " 'PHENOMENAL',\n",
       " 'ROYAL SON',\n",
       " 'OCCARIO',\n",
       " 'ROZZETTA CRAFT',\n",
       " 'Silver Kartz',\n",
       " 'Villain',\n",
       " 'Fastrack',\n",
       " 'ROZZETTA CRAFT',\n",
       " 'New Specs',\n",
       " 'ROYAL SON',\n",
       " 'hipe',\n",
       " 'Elligator',\n",
       " 'Rich Club',\n",
       " 'ROYAL SON',\n",
       " 'ROYAL SON',\n",
       " 'povty',\n",
       " 'SUNBEE',\n",
       " 'AISLIN',\n",
       " 'AISLIN',\n",
       " 'GANSTA',\n",
       " 'Elligator',\n",
       " 'SHAAH COLLECTIONS',\n",
       " 'kingsunglasses',\n",
       " 'ROZZETTA CRAFT',\n",
       " 'PIRASO',\n",
       " 'Singco India',\n",
       " 'Fastrack',\n",
       " 'kingsunglasses',\n",
       " 'ROZZETTA CRAFT',\n",
       " 'ROYAL SON',\n",
       " 'DEIXELS',\n",
       " 'PIRASO',\n",
       " 'SHAAH COLLECTIONS',\n",
       " 'ROYAL SON',\n",
       " 'SUNBEE',\n",
       " 'SHAAH COLLECTIONS',\n",
       " 'ROYAL SON',\n",
       " 'ROYAL SON',\n",
       " 'PIRASO',\n",
       " 'Fastrack',\n",
       " 'PHENOMENAL',\n",
       " 'ROYAL SON',\n",
       " 'OCCARIO',\n",
       " 'ROZZETTA CRAFT',\n",
       " 'Silver Kartz',\n",
       " 'Villain',\n",
       " 'Fastrack',\n",
       " 'ROZZETTA CRAFT',\n",
       " 'New Specs',\n",
       " 'ROYAL SON',\n",
       " 'hipe',\n",
       " 'Elligator',\n",
       " 'Rich Club',\n",
       " 'AISLIN',\n",
       " 'ROYAL SON',\n",
       " 'povty',\n",
       " 'SUNBEE',\n",
       " 'ROYAL SON',\n",
       " 'GANSTA',\n",
       " 'AISLIN',\n",
       " 'Elligator',\n",
       " 'SHAAH COLLECTIONS',\n",
       " 'kingsunglasses',\n",
       " 'ROZZETTA CRAFT',\n",
       " 'PIRASO',\n",
       " 'Singco India',\n",
       " 'Fastrack',\n",
       " 'kingsunglasses',\n",
       " 'ROZZETTA CRAFT',\n",
       " 'ROYAL SON',\n",
       " 'DEIXELS',\n",
       " 'PIRASO',\n",
       " 'SHAAH COLLECTIONS',\n",
       " 'ROYAL SON',\n",
       " 'SUNBEE',\n",
       " 'SHAAH COLLECTIONS',\n",
       " 'ROYAL SON',\n",
       " 'GANSTA',\n",
       " 'PIRASO',\n",
       " 'Fastrack',\n",
       " 'PHENOMENAL',\n",
       " 'ROYAL SON',\n",
       " 'OCCARIO',\n",
       " 'ROZZETTA CRAFT',\n",
       " 'Silver Kartz',\n",
       " 'ROYAL SON',\n",
       " 'Fastrack',\n",
       " 'ROZZETTA CRAFT',\n",
       " 'New Specs',\n",
       " 'Villain',\n",
       " 'hipe',\n",
       " 'Elligator',\n",
       " 'Rich Club',\n",
       " 'ROYAL SON',\n",
       " 'ROYAL SON',\n",
       " 'povty',\n",
       " 'SUNBEE',\n",
       " 'AISLIN']"
      ]
     },
     "execution_count": 128,
     "metadata": {},
     "output_type": "execute_result"
    }
   ],
   "source": [
    "brand_name"
   ]
  },
  {
   "cell_type": "code",
   "execution_count": 129,
   "id": "895ab833",
   "metadata": {},
   "outputs": [
    {
     "data": {
      "text/plain": [
       "['UV Protection, Gradient Wayfarer, Clubmaster Sunglasses...',\n",
       " 'UV Protection Aviator Sunglasses (57)',\n",
       " 'UV Protection Round Sunglasses (54)',\n",
       " 'UV Protection, Polarized, Mirrored Rectangular Sunglass...',\n",
       " 'Mirrored, UV Protection Wayfarer Sunglasses (Free Size)',\n",
       " 'UV Protection, Gradient Rectangular Sunglasses (Free Si...',\n",
       " 'UV Protection Aviator Sunglasses (54)',\n",
       " 'Mirrored, UV Protection, Riding Glasses, Others Wrap-ar...',\n",
       " 'Gradient, UV Protection Wayfarer Sunglasses (Free Size)',\n",
       " 'UV Protection Round Sunglasses (54)',\n",
       " 'UV Protection Retro Square Sunglasses (Free Size)',\n",
       " 'Polarized, UV Protection Round Sunglasses (49)',\n",
       " 'UV Protection Aviator, Wayfarer Sunglasses (Free Size)',\n",
       " 'UV Protection Aviator Sunglasses (54)',\n",
       " 'UV Protection, Polarized, Mirrored Rectangular Sunglass...',\n",
       " 'UV Protection, Polarized, Mirrored Wayfarer Sunglasses ...',\n",
       " 'UV Protection Round Sunglasses (Free Size)',\n",
       " 'UV Protection Rectangular Sunglasses (58)',\n",
       " 'UV Protection Over-sized Sunglasses (65)',\n",
       " 'UV Protection Aviator Sunglasses (54)',\n",
       " 'UV Protection Aviator Sunglasses (Free Size)',\n",
       " 'UV Protection Retro Square Sunglasses (Free Size)',\n",
       " 'UV Protection, Gradient Wayfarer Sunglasses (55)',\n",
       " 'Others Round Sunglasses (52)',\n",
       " 'UV Protection, Riding Glasses Rectangular Sunglasses (F...',\n",
       " 'UV Protection Wayfarer Sunglasses (Free Size)',\n",
       " 'Others Wayfarer Sunglasses (Free Size)',\n",
       " 'UV Protection Wayfarer Sunglasses (Free Size)',\n",
       " 'UV Protection, Gradient Round Sunglasses (Free Size)',\n",
       " 'Mirrored, UV Protection, Riding Glasses, Others Round S...',\n",
       " 'Gradient, UV Protection Cat-eye, Over-sized Sunglasses ...',\n",
       " 'UV Protection, Gradient, Mirrored, Riding Glasses Aviat...',\n",
       " 'UV Protection Round Sunglasses (55)',\n",
       " 'UV Protection, Mirrored, Gradient Round Sunglasses (51)',\n",
       " 'UV Protection, Polarized Wrap-around Sunglasses (52)',\n",
       " 'Mirrored Aviator Sunglasses (55)',\n",
       " 'UV Protection Wayfarer Sunglasses (Free Size)',\n",
       " 'UV Protection, Polarized, Mirrored Retro Square Sunglas...',\n",
       " 'UV Protection, Gradient Oval Sunglasses (58)',\n",
       " 'UV Protection, Gradient Wayfarer, Clubmaster Sunglasses...',\n",
       " 'UV Protection Aviator Sunglasses (57)',\n",
       " 'UV Protection Round Sunglasses (54)',\n",
       " 'UV Protection, Polarized, Mirrored Rectangular Sunglass...',\n",
       " 'Mirrored, UV Protection Wayfarer Sunglasses (Free Size)',\n",
       " 'UV Protection, Gradient Rectangular Sunglasses (Free Si...',\n",
       " 'UV Protection Aviator Sunglasses (54)',\n",
       " 'Mirrored, UV Protection, Riding Glasses, Others Wrap-ar...',\n",
       " 'Gradient, UV Protection Wayfarer Sunglasses (Free Size)',\n",
       " 'UV Protection Round Sunglasses (54)',\n",
       " 'UV Protection Retro Square Sunglasses (Free Size)',\n",
       " 'Polarized, UV Protection Round Sunglasses (49)',\n",
       " 'UV Protection Aviator, Wayfarer Sunglasses (Free Size)',\n",
       " 'UV Protection Aviator Sunglasses (54)',\n",
       " 'UV Protection, Polarized, Mirrored Rectangular Sunglass...',\n",
       " 'UV Protection, Polarized, Mirrored Wayfarer Sunglasses ...',\n",
       " 'UV Protection Round Sunglasses (Free Size)',\n",
       " 'UV Protection Rectangular Sunglasses (58)',\n",
       " 'UV Protection Over-sized Sunglasses (65)',\n",
       " 'UV Protection Aviator Sunglasses (54)',\n",
       " 'UV Protection Aviator Sunglasses (Free Size)',\n",
       " 'UV Protection Retro Square Sunglasses (Free Size)',\n",
       " 'UV Protection, Gradient Wayfarer Sunglasses (55)',\n",
       " 'Others Round Sunglasses (52)',\n",
       " 'UV Protection, Riding Glasses Rectangular Sunglasses (F...',\n",
       " 'UV Protection Wayfarer Sunglasses (Free Size)',\n",
       " 'Others Wayfarer Sunglasses (Free Size)',\n",
       " 'UV Protection Wayfarer Sunglasses (Free Size)',\n",
       " 'UV Protection, Gradient Round Sunglasses (Free Size)',\n",
       " 'Mirrored, UV Protection, Riding Glasses, Others Round S...',\n",
       " 'UV Protection, Polarized Wrap-around Sunglasses (52)',\n",
       " 'UV Protection, Gradient, Mirrored, Riding Glasses Aviat...',\n",
       " 'UV Protection Round Sunglasses (55)',\n",
       " 'UV Protection, Mirrored, Gradient Round Sunglasses (51)',\n",
       " 'UV Protection, Gradient Oval Sunglasses (58)',\n",
       " 'Mirrored Aviator Sunglasses (55)',\n",
       " 'UV Protection Wayfarer Sunglasses (Free Size)',\n",
       " 'UV Protection, Polarized, Mirrored Retro Square Sunglas...',\n",
       " 'Gradient, UV Protection Cat-eye, Over-sized Sunglasses ...',\n",
       " 'UV Protection Aviator Sunglasses (57)',\n",
       " 'UV Protection, Gradient Wayfarer, Clubmaster Sunglasses...',\n",
       " 'UV Protection Round Sunglasses (54)',\n",
       " 'UV Protection, Polarized, Mirrored Rectangular Sunglass...',\n",
       " 'Mirrored, UV Protection Wayfarer Sunglasses (Free Size)',\n",
       " 'UV Protection, Gradient Rectangular Sunglasses (Free Si...',\n",
       " 'UV Protection Aviator Sunglasses (54)',\n",
       " 'Mirrored, UV Protection, Riding Glasses, Others Wrap-ar...',\n",
       " 'Gradient, UV Protection Wayfarer Sunglasses (Free Size)',\n",
       " 'UV Protection Round Sunglasses (54)',\n",
       " 'UV Protection Retro Square Sunglasses (Free Size)',\n",
       " 'Polarized, UV Protection Round Sunglasses (49)',\n",
       " 'UV Protection Aviator, Wayfarer Sunglasses (Free Size)',\n",
       " 'UV Protection Aviator Sunglasses (54)',\n",
       " 'UV Protection, Polarized, Mirrored Rectangular Sunglass...',\n",
       " 'UV Protection, Polarized, Mirrored Wayfarer Sunglasses ...',\n",
       " 'UV Protection Round Sunglasses (Free Size)',\n",
       " 'UV Protection Rectangular Sunglasses (58)',\n",
       " 'UV Protection, Night Vision, Riding Glasses Aviator Sun...',\n",
       " 'UV Protection Aviator Sunglasses (54)',\n",
       " 'UV Protection Aviator Sunglasses (Free Size)',\n",
       " 'UV Protection Retro Square Sunglasses (Free Size)',\n",
       " 'UV Protection Over-sized Sunglasses (65)',\n",
       " 'Others Round Sunglasses (52)',\n",
       " 'UV Protection, Riding Glasses Rectangular Sunglasses (F...',\n",
       " 'UV Protection Wayfarer Sunglasses (Free Size)',\n",
       " 'UV Protection, Gradient Wayfarer Sunglasses (55)',\n",
       " 'UV Protection Wayfarer Sunglasses (Free Size)',\n",
       " 'UV Protection, Gradient Round Sunglasses (Free Size)',\n",
       " 'Mirrored, UV Protection, Riding Glasses, Others Round S...',\n",
       " 'Others Wayfarer Sunglasses (Free Size)',\n",
       " 'UV Protection, Gradient, Mirrored, Riding Glasses Aviat...',\n",
       " 'UV Protection Round Sunglasses (55)',\n",
       " 'UV Protection, Mirrored, Gradient Round Sunglasses (51)',\n",
       " 'UV Protection, Polarized Wrap-around Sunglasses (52)',\n",
       " 'Mirrored Aviator Sunglasses (55)',\n",
       " 'UV Protection Wayfarer Sunglasses (Free Size)',\n",
       " 'UV Protection, Polarized, Mirrored Retro Square Sunglas...',\n",
       " 'UV Protection, Gradient Oval Sunglasses (58)']"
      ]
     },
     "execution_count": 129,
     "metadata": {},
     "output_type": "execute_result"
    }
   ],
   "source": [
    "product_description"
   ]
  },
  {
   "cell_type": "code",
   "execution_count": 130,
   "id": "0b14c70b",
   "metadata": {},
   "outputs": [
    {
     "data": {
      "text/plain": [
       "['₹525',\n",
       " '₹284',\n",
       " '₹295',\n",
       " '₹198',\n",
       " '₹284',\n",
       " '₹404',\n",
       " '₹237',\n",
       " '₹331',\n",
       " '₹509',\n",
       " '₹213',\n",
       " '₹499',\n",
       " '₹664',\n",
       " '₹202',\n",
       " '₹237',\n",
       " '₹215',\n",
       " '₹664',\n",
       " '₹265',\n",
       " '₹331',\n",
       " '₹474',\n",
       " '₹664',\n",
       " '₹237',\n",
       " '₹520',\n",
       " '₹399',\n",
       " '₹203',\n",
       " '₹179',\n",
       " '₹449',\n",
       " '₹246',\n",
       " '₹599',\n",
       " '₹859',\n",
       " '₹449',\n",
       " '₹299',\n",
       " '₹664',\n",
       " '₹209',\n",
       " '₹266',\n",
       " '₹215',\n",
       " '₹854',\n",
       " '₹379',\n",
       " '₹349',\n",
       " '₹314',\n",
       " '₹498',\n",
       " '₹525',\n",
       " '₹284',\n",
       " '₹295',\n",
       " '₹198',\n",
       " '₹284',\n",
       " '₹404',\n",
       " '₹237',\n",
       " '₹331',\n",
       " '₹509',\n",
       " '₹213',\n",
       " '₹499',\n",
       " '₹664',\n",
       " '₹202',\n",
       " '₹237',\n",
       " '₹215',\n",
       " '₹664',\n",
       " '₹265',\n",
       " '₹331',\n",
       " '₹474',\n",
       " '₹664',\n",
       " '₹237',\n",
       " '₹520',\n",
       " '₹399',\n",
       " '₹203',\n",
       " '₹179',\n",
       " '₹449',\n",
       " '₹246',\n",
       " '₹599',\n",
       " '₹859',\n",
       " '₹449',\n",
       " '₹299',\n",
       " '₹854',\n",
       " '₹209',\n",
       " '₹266',\n",
       " '₹215',\n",
       " '₹498',\n",
       " '₹379',\n",
       " '₹349',\n",
       " '₹314',\n",
       " '₹664',\n",
       " '₹284',\n",
       " '₹525',\n",
       " '₹295',\n",
       " '₹198',\n",
       " '₹284',\n",
       " '₹404',\n",
       " '₹237',\n",
       " '₹331',\n",
       " '₹509',\n",
       " '₹213',\n",
       " '₹499',\n",
       " '₹664',\n",
       " '₹202',\n",
       " '₹237',\n",
       " '₹215',\n",
       " '₹664',\n",
       " '₹265',\n",
       " '₹331',\n",
       " '₹474',\n",
       " '₹295',\n",
       " '₹237',\n",
       " '₹520',\n",
       " '₹399',\n",
       " '₹664',\n",
       " '₹179',\n",
       " '₹449',\n",
       " '₹246',\n",
       " '₹203',\n",
       " '₹859',\n",
       " '₹449',\n",
       " '₹299',\n",
       " '₹599',\n",
       " '₹209',\n",
       " '₹266',\n",
       " '₹215',\n",
       " '₹854',\n",
       " '₹379',\n",
       " '₹349',\n",
       " '₹314',\n",
       " '₹498']"
      ]
     },
     "execution_count": 130,
     "metadata": {},
     "output_type": "execute_result"
    }
   ],
   "source": [
    "price"
   ]
  },
  {
   "cell_type": "code",
   "execution_count": 131,
   "id": "53d0896e",
   "metadata": {},
   "outputs": [
    {
     "data": {
      "text/plain": [
       "['65% off',\n",
       " '85% off',\n",
       " '88% off',\n",
       " '88% off',\n",
       " '89% off',\n",
       " '79% off',\n",
       " '85% off',\n",
       " '83% off',\n",
       " '36% off',\n",
       " '80% off',\n",
       " '77% off',\n",
       " '66% off',\n",
       " '83% off',\n",
       " '85% off',\n",
       " '78% off',\n",
       " '66% off',\n",
       " '73% off',\n",
       " '80% off',\n",
       " '68% off',\n",
       " '55% off',\n",
       " '85% off',\n",
       " '34% off',\n",
       " '80% off',\n",
       " '79% off',\n",
       " '69% off',\n",
       " '79% off',\n",
       " '83% off',\n",
       " '40% off',\n",
       " '4% off',\n",
       " '77% off',\n",
       " '81% off',\n",
       " '55% off',\n",
       " '79% off',\n",
       " '86% off',\n",
       " '73% off',\n",
       " '57% off',\n",
       " '74% off',\n",
       " '65% off',\n",
       " '75% off',\n",
       " '67% off',\n",
       " '65% off',\n",
       " '85% off',\n",
       " '88% off',\n",
       " '88% off',\n",
       " '89% off',\n",
       " '79% off',\n",
       " '85% off',\n",
       " '83% off',\n",
       " '36% off',\n",
       " '80% off',\n",
       " '77% off',\n",
       " '66% off',\n",
       " '83% off',\n",
       " '85% off',\n",
       " '78% off',\n",
       " '66% off',\n",
       " '73% off',\n",
       " '80% off',\n",
       " '68% off',\n",
       " '55% off',\n",
       " '85% off',\n",
       " '34% off',\n",
       " '80% off',\n",
       " '79% off',\n",
       " '69% off',\n",
       " '79% off',\n",
       " '83% off',\n",
       " '40% off',\n",
       " '4% off',\n",
       " '77% off',\n",
       " '81% off',\n",
       " '57% off',\n",
       " '79% off',\n",
       " '86% off',\n",
       " '73% off',\n",
       " '67% off',\n",
       " '74% off',\n",
       " '65% off',\n",
       " '75% off',\n",
       " '55% off',\n",
       " '85% off',\n",
       " '65% off',\n",
       " '88% off',\n",
       " '88% off',\n",
       " '89% off',\n",
       " '79% off',\n",
       " '85% off',\n",
       " '83% off',\n",
       " '36% off',\n",
       " '80% off',\n",
       " '77% off',\n",
       " '66% off',\n",
       " '83% off',\n",
       " '85% off',\n",
       " '78% off',\n",
       " '66% off',\n",
       " '73% off',\n",
       " '80% off',\n",
       " '68% off',\n",
       " '85% off',\n",
       " '85% off',\n",
       " '34% off',\n",
       " '80% off',\n",
       " '55% off',\n",
       " '69% off',\n",
       " '79% off',\n",
       " '83% off',\n",
       " '79% off',\n",
       " '4% off',\n",
       " '77% off',\n",
       " '81% off',\n",
       " '40% off',\n",
       " '79% off',\n",
       " '86% off',\n",
       " '73% off',\n",
       " '57% off',\n",
       " '74% off',\n",
       " '65% off',\n",
       " '75% off',\n",
       " '67% off']"
      ]
     },
     "execution_count": 131,
     "metadata": {},
     "output_type": "execute_result"
    }
   ],
   "source": [
    "discount"
   ]
  },
  {
   "cell_type": "code",
   "execution_count": 132,
   "id": "514a5a76",
   "metadata": {},
   "outputs": [
    {
     "name": "stdout",
     "output_type": "stream",
     "text": [
      "120 117 120 120\n"
     ]
    }
   ],
   "source": [
    "print(len(brand_name),len(product_description),len(price),len(discount))"
   ]
  },
  {
   "cell_type": "code",
   "execution_count": 133,
   "id": "a11dbb0b",
   "metadata": {},
   "outputs": [
    {
     "data": {
      "text/html": [
       "<div>\n",
       "<style scoped>\n",
       "    .dataframe tbody tr th:only-of-type {\n",
       "        vertical-align: middle;\n",
       "    }\n",
       "\n",
       "    .dataframe tbody tr th {\n",
       "        vertical-align: top;\n",
       "    }\n",
       "\n",
       "    .dataframe thead th {\n",
       "        text-align: right;\n",
       "    }\n",
       "</style>\n",
       "<table border=\"1\" class=\"dataframe\">\n",
       "  <thead>\n",
       "    <tr style=\"text-align: right;\">\n",
       "      <th></th>\n",
       "      <th>Brand</th>\n",
       "      <th>Product Description</th>\n",
       "      <th>Price</th>\n",
       "      <th>Discount</th>\n",
       "    </tr>\n",
       "  </thead>\n",
       "  <tbody>\n",
       "    <tr>\n",
       "      <th>0</th>\n",
       "      <td>AISLIN</td>\n",
       "      <td>UV Protection, Gradient Wayfarer, Clubmaster S...</td>\n",
       "      <td>₹525</td>\n",
       "      <td>65% off</td>\n",
       "    </tr>\n",
       "    <tr>\n",
       "      <th>1</th>\n",
       "      <td>GANSTA</td>\n",
       "      <td>UV Protection Aviator Sunglasses (57)</td>\n",
       "      <td>₹284</td>\n",
       "      <td>85% off</td>\n",
       "    </tr>\n",
       "    <tr>\n",
       "      <th>2</th>\n",
       "      <td>Elligator</td>\n",
       "      <td>UV Protection Round Sunglasses (54)</td>\n",
       "      <td>₹295</td>\n",
       "      <td>88% off</td>\n",
       "    </tr>\n",
       "    <tr>\n",
       "      <th>3</th>\n",
       "      <td>SHAAH COLLECTIONS</td>\n",
       "      <td>UV Protection, Polarized, Mirrored Rectangular...</td>\n",
       "      <td>₹198</td>\n",
       "      <td>88% off</td>\n",
       "    </tr>\n",
       "    <tr>\n",
       "      <th>4</th>\n",
       "      <td>kingsunglasses</td>\n",
       "      <td>Mirrored, UV Protection Wayfarer Sunglasses (F...</td>\n",
       "      <td>₹284</td>\n",
       "      <td>89% off</td>\n",
       "    </tr>\n",
       "    <tr>\n",
       "      <th>...</th>\n",
       "      <td>...</td>\n",
       "      <td>...</td>\n",
       "      <td>...</td>\n",
       "      <td>...</td>\n",
       "    </tr>\n",
       "    <tr>\n",
       "      <th>95</th>\n",
       "      <td>ROYAL SON</td>\n",
       "      <td>UV Protection Rectangular Sunglasses (58)</td>\n",
       "      <td>₹664</td>\n",
       "      <td>66% off</td>\n",
       "    </tr>\n",
       "    <tr>\n",
       "      <th>96</th>\n",
       "      <td>SUNBEE</td>\n",
       "      <td>UV Protection, Night Vision, Riding Glasses Av...</td>\n",
       "      <td>₹265</td>\n",
       "      <td>73% off</td>\n",
       "    </tr>\n",
       "    <tr>\n",
       "      <th>97</th>\n",
       "      <td>SHAAH COLLECTIONS</td>\n",
       "      <td>UV Protection Aviator Sunglasses (54)</td>\n",
       "      <td>₹331</td>\n",
       "      <td>80% off</td>\n",
       "    </tr>\n",
       "    <tr>\n",
       "      <th>98</th>\n",
       "      <td>ROYAL SON</td>\n",
       "      <td>UV Protection Aviator Sunglasses (Free Size)</td>\n",
       "      <td>₹474</td>\n",
       "      <td>68% off</td>\n",
       "    </tr>\n",
       "    <tr>\n",
       "      <th>99</th>\n",
       "      <td>GANSTA</td>\n",
       "      <td>UV Protection Retro Square Sunglasses (Free Size)</td>\n",
       "      <td>₹295</td>\n",
       "      <td>85% off</td>\n",
       "    </tr>\n",
       "  </tbody>\n",
       "</table>\n",
       "<p>100 rows × 4 columns</p>\n",
       "</div>"
      ],
      "text/plain": [
       "                Brand                                Product Description  \\\n",
       "0              AISLIN  UV Protection, Gradient Wayfarer, Clubmaster S...   \n",
       "1              GANSTA              UV Protection Aviator Sunglasses (57)   \n",
       "2           Elligator                UV Protection Round Sunglasses (54)   \n",
       "3   SHAAH COLLECTIONS  UV Protection, Polarized, Mirrored Rectangular...   \n",
       "4      kingsunglasses  Mirrored, UV Protection Wayfarer Sunglasses (F...   \n",
       "..                ...                                                ...   \n",
       "95          ROYAL SON          UV Protection Rectangular Sunglasses (58)   \n",
       "96             SUNBEE  UV Protection, Night Vision, Riding Glasses Av...   \n",
       "97  SHAAH COLLECTIONS              UV Protection Aviator Sunglasses (54)   \n",
       "98          ROYAL SON       UV Protection Aviator Sunglasses (Free Size)   \n",
       "99             GANSTA  UV Protection Retro Square Sunglasses (Free Size)   \n",
       "\n",
       "   Price Discount  \n",
       "0   ₹525  65% off  \n",
       "1   ₹284  85% off  \n",
       "2   ₹295  88% off  \n",
       "3   ₹198  88% off  \n",
       "4   ₹284  89% off  \n",
       "..   ...      ...  \n",
       "95  ₹664  66% off  \n",
       "96  ₹265  73% off  \n",
       "97  ₹331  80% off  \n",
       "98  ₹474  68% off  \n",
       "99  ₹295  85% off  \n",
       "\n",
       "[100 rows x 4 columns]"
      ]
     },
     "execution_count": 133,
     "metadata": {},
     "output_type": "execute_result"
    }
   ],
   "source": [
    "#creating dataframe\n",
    "sunglasses=pd.DataFrame({})\n",
    "\n",
    "sunglasses['Brand']=brand_name[:100]\n",
    "sunglasses['Product Description']=product_description[:100]\n",
    "sunglasses['Price']=price[:100]\n",
    "sunglasses['Discount']=discount[:100]\n",
    "\n",
    "sunglasses"
   ]
  },
  {
   "cell_type": "code",
   "execution_count": 134,
   "id": "13580af0",
   "metadata": {},
   "outputs": [
    {
     "data": {
      "text/plain": [
       "100"
      ]
     },
     "execution_count": 134,
     "metadata": {},
     "output_type": "execute_result"
    }
   ],
   "source": [
    "#length of dataframe\n",
    "len(sunglasses)"
   ]
  },
  {
   "cell_type": "code",
   "execution_count": 135,
   "id": "e83c04ed",
   "metadata": {},
   "outputs": [],
   "source": [
    "#Q7)Python program to Scrape 100 reviews data from flipkart.com for iphone11 phone. You have to \n",
    "#go the link: https://www.flipkart.com/apple-iphone-11-black-64-gb-includes\u0002earpods-power\u0002adapter/p/itm0f37c2240b217?pid=MOBFKCTSVZAXUHGR&lid=LSTMOBFKC\n",
    "#TSVZAXUHGREPBFGI&marketplace."
   ]
  },
  {
   "cell_type": "code",
   "execution_count": 136,
   "id": "2a7cc262",
   "metadata": {},
   "outputs": [],
   "source": [
    "#connect to web driver\n",
    "driver=webdriver.Chrome(\"chromedriver.exe\")"
   ]
  },
  {
   "cell_type": "code",
   "execution_count": 137,
   "id": "3d33d8da",
   "metadata": {},
   "outputs": [],
   "source": [
    "url='https://www.flipkart.com/apple-iphone-11-black-64-gb-includes\u0002earpods-power\u0002adapter/p/itm0f37c2240b217?pid=MOBFKCTSVZAXUHGR&lid=LSTMOBFKCTSVZAXUHGREPBFGI&marketplace'\n",
    "driver.get(url)"
   ]
  },
  {
   "cell_type": "code",
   "execution_count": 138,
   "id": "a4620e94",
   "metadata": {},
   "outputs": [],
   "source": [
    "#importing time\n",
    "from selenium import webdriver\n",
    "import time\n",
    "from selenium.common.exceptions import NoSuchElementException"
   ]
  },
  {
   "cell_type": "code",
   "execution_count": 139,
   "id": "b668ed7e",
   "metadata": {},
   "outputs": [],
   "source": [
    "#defining variable\n",
    "rating=[]\n",
    "review_summary=[]\n",
    "full_review=[]"
   ]
  },
  {
   "cell_type": "code",
   "execution_count": 140,
   "id": "2a28277d",
   "metadata": {},
   "outputs": [],
   "source": [
    "#finding and extracting elements for ratings, review summary and full review\n",
    "for i in range(1,11):\n",
    "    driver.get('https://www.flipkart.com/apple-iphone-11-black-64-gb-includes-earpods-power-adapter/product-reviews/itm0f37c2240b217?pid=MOBFKCTSVZAXUHGR&lid=LSTMOBFKCTSVZAXUHGREPBFGI&marketplace=FLIPKART')\n",
    "    time.sleep(1)\n",
    "    try:\n",
    "        ratings=driver.find_elements_by_xpath(\"//div[@class='_3LWZlK _1BLPMq']\")\n",
    "        for rtng in ratings:\n",
    "            rating.append(rtng.text)\n",
    "    except:\n",
    "        rating.append('-')\n",
    "        \n",
    "    try:\n",
    "        rev_sumry=driver.find_elements_by_xpath(\"//p[@class='_2-N8zT']\")\n",
    "        for sum in rev_sumry:\n",
    "            review_summary.append(sum.text)\n",
    "    except:\n",
    "        review_summary.append('-')\n",
    "        \n",
    "    try:    \n",
    "        review=driver.find_elements_by_xpath(\"//div[@class='t-ZTKy']\")\n",
    "        for rev in review:\n",
    "            full_review.append(rev.text)\n",
    "    except:\n",
    "        full_review.append('-')\n",
    "        \n",
    "    next=driver.find_element_by_xpath(\"//a[@class='_1LKTO3']\")\n",
    "    next.click()"
   ]
  },
  {
   "cell_type": "code",
   "execution_count": 141,
   "id": "ca8e1c64",
   "metadata": {},
   "outputs": [
    {
     "data": {
      "text/plain": [
       "['5',\n",
       " '5',\n",
       " '5',\n",
       " '5',\n",
       " '5',\n",
       " '5',\n",
       " '5',\n",
       " '4',\n",
       " '5',\n",
       " '5',\n",
       " '5',\n",
       " '5',\n",
       " '5',\n",
       " '5',\n",
       " '5',\n",
       " '5',\n",
       " '5',\n",
       " '4',\n",
       " '5',\n",
       " '5',\n",
       " '5',\n",
       " '5',\n",
       " '5',\n",
       " '5',\n",
       " '5',\n",
       " '5',\n",
       " '5',\n",
       " '4',\n",
       " '5',\n",
       " '5',\n",
       " '5',\n",
       " '5',\n",
       " '5',\n",
       " '5',\n",
       " '5',\n",
       " '5',\n",
       " '5',\n",
       " '4',\n",
       " '5',\n",
       " '5',\n",
       " '5',\n",
       " '5',\n",
       " '5',\n",
       " '5',\n",
       " '5',\n",
       " '5',\n",
       " '5',\n",
       " '4',\n",
       " '5',\n",
       " '5',\n",
       " '5',\n",
       " '5',\n",
       " '5',\n",
       " '5',\n",
       " '5',\n",
       " '5',\n",
       " '5',\n",
       " '4',\n",
       " '5',\n",
       " '5',\n",
       " '5',\n",
       " '5',\n",
       " '5',\n",
       " '5',\n",
       " '5',\n",
       " '5',\n",
       " '5',\n",
       " '4',\n",
       " '5',\n",
       " '5',\n",
       " '5',\n",
       " '5',\n",
       " '5',\n",
       " '5',\n",
       " '5',\n",
       " '5',\n",
       " '5',\n",
       " '4',\n",
       " '5',\n",
       " '5',\n",
       " '5',\n",
       " '5',\n",
       " '5',\n",
       " '5',\n",
       " '5',\n",
       " '5',\n",
       " '5',\n",
       " '4',\n",
       " '5',\n",
       " '5',\n",
       " '5',\n",
       " '5',\n",
       " '5',\n",
       " '5',\n",
       " '5',\n",
       " '5',\n",
       " '5',\n",
       " '4',\n",
       " '5',\n",
       " '5']"
      ]
     },
     "execution_count": 141,
     "metadata": {},
     "output_type": "execute_result"
    }
   ],
   "source": [
    "rating"
   ]
  },
  {
   "cell_type": "code",
   "execution_count": 142,
   "id": "bda63b90",
   "metadata": {},
   "outputs": [
    {
     "data": {
      "text/plain": [
       "['Brilliant',\n",
       " 'Simply awesome',\n",
       " 'Best in the market!',\n",
       " 'Perfect product!',\n",
       " 'Fabulous!',\n",
       " 'Worth every penny',\n",
       " 'Great product',\n",
       " 'Good choice',\n",
       " 'Worth every penny',\n",
       " 'Highly recommended',\n",
       " 'Brilliant',\n",
       " 'Simply awesome',\n",
       " 'Best in the market!',\n",
       " 'Perfect product!',\n",
       " 'Fabulous!',\n",
       " 'Worth every penny',\n",
       " 'Great product',\n",
       " 'Good choice',\n",
       " 'Worth every penny',\n",
       " 'Highly recommended',\n",
       " 'Brilliant',\n",
       " 'Simply awesome',\n",
       " 'Best in the market!',\n",
       " 'Perfect product!',\n",
       " 'Fabulous!',\n",
       " 'Worth every penny',\n",
       " 'Great product',\n",
       " 'Good choice',\n",
       " 'Worth every penny',\n",
       " 'Highly recommended',\n",
       " 'Brilliant',\n",
       " 'Simply awesome',\n",
       " 'Best in the market!',\n",
       " 'Perfect product!',\n",
       " 'Fabulous!',\n",
       " 'Worth every penny',\n",
       " 'Great product',\n",
       " 'Good choice',\n",
       " 'Worth every penny',\n",
       " 'Highly recommended',\n",
       " 'Brilliant',\n",
       " 'Simply awesome',\n",
       " 'Best in the market!',\n",
       " 'Perfect product!',\n",
       " 'Fabulous!',\n",
       " 'Worth every penny',\n",
       " 'Great product',\n",
       " 'Good choice',\n",
       " 'Worth every penny',\n",
       " 'Highly recommended',\n",
       " 'Brilliant',\n",
       " 'Simply awesome',\n",
       " 'Best in the market!',\n",
       " 'Perfect product!',\n",
       " 'Fabulous!',\n",
       " 'Worth every penny',\n",
       " 'Great product',\n",
       " 'Good choice',\n",
       " 'Worth every penny',\n",
       " 'Highly recommended',\n",
       " 'Brilliant',\n",
       " 'Simply awesome',\n",
       " 'Best in the market!',\n",
       " 'Perfect product!',\n",
       " 'Fabulous!',\n",
       " 'Worth every penny',\n",
       " 'Great product',\n",
       " 'Good choice',\n",
       " 'Worth every penny',\n",
       " 'Highly recommended',\n",
       " 'Brilliant',\n",
       " 'Simply awesome',\n",
       " 'Best in the market!',\n",
       " 'Perfect product!',\n",
       " 'Fabulous!',\n",
       " 'Worth every penny',\n",
       " 'Great product',\n",
       " 'Good choice',\n",
       " 'Worth every penny',\n",
       " 'Highly recommended',\n",
       " 'Brilliant',\n",
       " 'Simply awesome',\n",
       " 'Best in the market!',\n",
       " 'Perfect product!',\n",
       " 'Fabulous!',\n",
       " 'Worth every penny',\n",
       " 'Great product',\n",
       " 'Good choice',\n",
       " 'Worth every penny',\n",
       " 'Highly recommended',\n",
       " 'Brilliant',\n",
       " 'Simply awesome',\n",
       " 'Best in the market!',\n",
       " 'Perfect product!',\n",
       " 'Fabulous!',\n",
       " 'Worth every penny',\n",
       " 'Great product',\n",
       " 'Good choice',\n",
       " 'Worth every penny',\n",
       " 'Highly recommended']"
      ]
     },
     "execution_count": 142,
     "metadata": {},
     "output_type": "execute_result"
    }
   ],
   "source": [
    "review_summary"
   ]
  },
  {
   "cell_type": "code",
   "execution_count": 143,
   "id": "ead66104",
   "metadata": {},
   "outputs": [
    {
     "data": {
      "text/plain": [
       "['The Best Phone for the Money\\n\\nThe iPhone 11 offers superb cameras, a more durable design and excellent battery life for an affordable price.\\n\\nCompelling ultra-wide camera\\nNew Night mode is excellent\\nLong battery life',\n",
       " 'Really satisfied with the Product I received... It’s totally genuine and the packaging was also really good so if ur planning to buy just go for it.',\n",
       " 'Great iPhone very snappy experience as apple kind. Upgraded from iPhone 7.\\nPros\\n-Camera top class\\n- Battery top performed\\n-Chipset no need to say as apple kind\\n-Security as you expect from apple\\n- Display super bright industry leading colour\\naccuracy and super responsive\\n-Build quality as expect from apple sturdy\\npremium durable beautiful stylish.\\n-Os most stable os in smartphone industry\\n\\nCons\\n-No 5G\\n-Display is not based on OLED technology\\n-Charger headphones and 1 apple stic...\\nREAD MORE',\n",
       " 'Amazing phone with great cameras and better battery which gives you the best performance. I just love the camera .',\n",
       " 'This is my first iOS phone. I am very happy with this product. Very much satisfied with this. I love this phone.',\n",
       " 'Previously I was using one plus 3t it was a great phone\\nAnd then I decided to upgrade I am stuck between Samsung s10 plus or iPhone 11\\nI have seen the specs and everything were good except the display it’s somewhere between 720-1080 and it’s not even an amoled it’s an LCD display\\nBut I decided to go with iPhone because I have never used an IOS device I have Been an android user from the past 9 years I ordered IPhone 11 (128gb) product red\\nMy experience after using 3 weeks\\n1. The delivery ...\\nREAD MORE',\n",
       " 'Amazing Powerful and Durable Gadget.\\n\\nI’m am very happy with the camera picture quality, Amazing face id unlocked in dark room, Strong battery with perfect screen size as you can carry easily in pocket. This is my third iPhone.\\n\\nI shifted from android Samsung Note series to iPhone because of the strong build quality and peace of mind for next 3-4 years.\\n\\nDon’t think to much just go for it and I suggest you to go for minimum 128gb variant or more 256gb.\\n\\nI’ve attached my puppy pics and no fi...\\nREAD MORE',\n",
       " 'So far it’s been an AMAZING experience coming back to iOS after nearly a decade but it’s not as versatile as android though phone is sturdy dropped it accidentally a couple of times and nothing happened fortunately camera is awesome',\n",
       " 'i11 is worthy to buy, too much happy with the product. Thank u flipkart I received the item on time..loved it..',\n",
       " 'iphone 11 is a very good phone to buy only if you can compromise for the display. The display on this is device is pretty good but you can get other options with better displays in this price segment.\\nIf you can survive with an HD+ LCD panel with thicker bezels and a notch up top then this is a very good phone for you.\\nCameras are awesome, battery backup excellent, great performance and a decent premium look. Good job Apple !',\n",
       " 'The Best Phone for the Money\\n\\nThe iPhone 11 offers superb cameras, a more durable design and excellent battery life for an affordable price.\\n\\nCompelling ultra-wide camera\\nNew Night mode is excellent\\nLong battery life',\n",
       " 'Really satisfied with the Product I received... It’s totally genuine and the packaging was also really good so if ur planning to buy just go for it.',\n",
       " 'Great iPhone very snappy experience as apple kind. Upgraded from iPhone 7.\\nPros\\n-Camera top class\\n- Battery top performed\\n-Chipset no need to say as apple kind\\n-Security as you expect from apple\\n- Display super bright industry leading colour\\naccuracy and super responsive\\n-Build quality as expect from apple sturdy\\npremium durable beautiful stylish.\\n-Os most stable os in smartphone industry\\n\\nCons\\n-No 5G\\n-Display is not based on OLED technology\\n-Charger headphones and 1 apple stic...\\nREAD MORE',\n",
       " 'Amazing phone with great cameras and better battery which gives you the best performance. I just love the camera .',\n",
       " 'This is my first iOS phone. I am very happy with this product. Very much satisfied with this. I love this phone.',\n",
       " 'Previously I was using one plus 3t it was a great phone\\nAnd then I decided to upgrade I am stuck between Samsung s10 plus or iPhone 11\\nI have seen the specs and everything were good except the display it’s somewhere between 720-1080 and it’s not even an amoled it’s an LCD display\\nBut I decided to go with iPhone because I have never used an IOS device I have Been an android user from the past 9 years I ordered IPhone 11 (128gb) product red\\nMy experience after using 3 weeks\\n1. The delivery ...\\nREAD MORE',\n",
       " 'Amazing Powerful and Durable Gadget.\\n\\nI’m am very happy with the camera picture quality, Amazing face id unlocked in dark room, Strong battery with perfect screen size as you can carry easily in pocket. This is my third iPhone.\\n\\nI shifted from android Samsung Note series to iPhone because of the strong build quality and peace of mind for next 3-4 years.\\n\\nDon’t think to much just go for it and I suggest you to go for minimum 128gb variant or more 256gb.\\n\\nI’ve attached my puppy pics and no fi...\\nREAD MORE',\n",
       " 'So far it’s been an AMAZING experience coming back to iOS after nearly a decade but it’s not as versatile as android though phone is sturdy dropped it accidentally a couple of times and nothing happened fortunately camera is awesome',\n",
       " 'i11 is worthy to buy, too much happy with the product. Thank u flipkart I received the item on time..loved it..',\n",
       " 'iphone 11 is a very good phone to buy only if you can compromise for the display. The display on this is device is pretty good but you can get other options with better displays in this price segment.\\nIf you can survive with an HD+ LCD panel with thicker bezels and a notch up top then this is a very good phone for you.\\nCameras are awesome, battery backup excellent, great performance and a decent premium look. Good job Apple !',\n",
       " 'The Best Phone for the Money\\n\\nThe iPhone 11 offers superb cameras, a more durable design and excellent battery life for an affordable price.\\n\\nCompelling ultra-wide camera\\nNew Night mode is excellent\\nLong battery life',\n",
       " 'Really satisfied with the Product I received... It’s totally genuine and the packaging was also really good so if ur planning to buy just go for it.',\n",
       " 'Great iPhone very snappy experience as apple kind. Upgraded from iPhone 7.\\nPros\\n-Camera top class\\n- Battery top performed\\n-Chipset no need to say as apple kind\\n-Security as you expect from apple\\n- Display super bright industry leading colour\\naccuracy and super responsive\\n-Build quality as expect from apple sturdy\\npremium durable beautiful stylish.\\n-Os most stable os in smartphone industry\\n\\nCons\\n-No 5G\\n-Display is not based on OLED technology\\n-Charger headphones and 1 apple stic...\\nREAD MORE',\n",
       " 'Amazing phone with great cameras and better battery which gives you the best performance. I just love the camera .',\n",
       " 'This is my first iOS phone. I am very happy with this product. Very much satisfied with this. I love this phone.',\n",
       " 'Previously I was using one plus 3t it was a great phone\\nAnd then I decided to upgrade I am stuck between Samsung s10 plus or iPhone 11\\nI have seen the specs and everything were good except the display it’s somewhere between 720-1080 and it’s not even an amoled it’s an LCD display\\nBut I decided to go with iPhone because I have never used an IOS device I have Been an android user from the past 9 years I ordered IPhone 11 (128gb) product red\\nMy experience after using 3 weeks\\n1. The delivery ...\\nREAD MORE',\n",
       " 'Amazing Powerful and Durable Gadget.\\n\\nI’m am very happy with the camera picture quality, Amazing face id unlocked in dark room, Strong battery with perfect screen size as you can carry easily in pocket. This is my third iPhone.\\n\\nI shifted from android Samsung Note series to iPhone because of the strong build quality and peace of mind for next 3-4 years.\\n\\nDon’t think to much just go for it and I suggest you to go for minimum 128gb variant or more 256gb.\\n\\nI’ve attached my puppy pics and no fi...\\nREAD MORE',\n",
       " 'So far it’s been an AMAZING experience coming back to iOS after nearly a decade but it’s not as versatile as android though phone is sturdy dropped it accidentally a couple of times and nothing happened fortunately camera is awesome',\n",
       " 'i11 is worthy to buy, too much happy with the product. Thank u flipkart I received the item on time..loved it..',\n",
       " 'iphone 11 is a very good phone to buy only if you can compromise for the display. The display on this is device is pretty good but you can get other options with better displays in this price segment.\\nIf you can survive with an HD+ LCD panel with thicker bezels and a notch up top then this is a very good phone for you.\\nCameras are awesome, battery backup excellent, great performance and a decent premium look. Good job Apple !',\n",
       " 'The Best Phone for the Money\\n\\nThe iPhone 11 offers superb cameras, a more durable design and excellent battery life for an affordable price.\\n\\nCompelling ultra-wide camera\\nNew Night mode is excellent\\nLong battery life',\n",
       " 'Really satisfied with the Product I received... It’s totally genuine and the packaging was also really good so if ur planning to buy just go for it.',\n",
       " 'Great iPhone very snappy experience as apple kind. Upgraded from iPhone 7.\\nPros\\n-Camera top class\\n- Battery top performed\\n-Chipset no need to say as apple kind\\n-Security as you expect from apple\\n- Display super bright industry leading colour\\naccuracy and super responsive\\n-Build quality as expect from apple sturdy\\npremium durable beautiful stylish.\\n-Os most stable os in smartphone industry\\n\\nCons\\n-No 5G\\n-Display is not based on OLED technology\\n-Charger headphones and 1 apple stic...\\nREAD MORE',\n",
       " 'Amazing phone with great cameras and better battery which gives you the best performance. I just love the camera .',\n",
       " 'This is my first iOS phone. I am very happy with this product. Very much satisfied with this. I love this phone.',\n",
       " 'Previously I was using one plus 3t it was a great phone\\nAnd then I decided to upgrade I am stuck between Samsung s10 plus or iPhone 11\\nI have seen the specs and everything were good except the display it’s somewhere between 720-1080 and it’s not even an amoled it’s an LCD display\\nBut I decided to go with iPhone because I have never used an IOS device I have Been an android user from the past 9 years I ordered IPhone 11 (128gb) product red\\nMy experience after using 3 weeks\\n1. The delivery ...\\nREAD MORE',\n",
       " 'Amazing Powerful and Durable Gadget.\\n\\nI’m am very happy with the camera picture quality, Amazing face id unlocked in dark room, Strong battery with perfect screen size as you can carry easily in pocket. This is my third iPhone.\\n\\nI shifted from android Samsung Note series to iPhone because of the strong build quality and peace of mind for next 3-4 years.\\n\\nDon’t think to much just go for it and I suggest you to go for minimum 128gb variant or more 256gb.\\n\\nI’ve attached my puppy pics and no fi...\\nREAD MORE',\n",
       " 'So far it’s been an AMAZING experience coming back to iOS after nearly a decade but it’s not as versatile as android though phone is sturdy dropped it accidentally a couple of times and nothing happened fortunately camera is awesome',\n",
       " 'i11 is worthy to buy, too much happy with the product. Thank u flipkart I received the item on time..loved it..',\n",
       " 'iphone 11 is a very good phone to buy only if you can compromise for the display. The display on this is device is pretty good but you can get other options with better displays in this price segment.\\nIf you can survive with an HD+ LCD panel with thicker bezels and a notch up top then this is a very good phone for you.\\nCameras are awesome, battery backup excellent, great performance and a decent premium look. Good job Apple !',\n",
       " 'The Best Phone for the Money\\n\\nThe iPhone 11 offers superb cameras, a more durable design and excellent battery life for an affordable price.\\n\\nCompelling ultra-wide camera\\nNew Night mode is excellent\\nLong battery life',\n",
       " 'Really satisfied with the Product I received... It’s totally genuine and the packaging was also really good so if ur planning to buy just go for it.',\n",
       " 'Great iPhone very snappy experience as apple kind. Upgraded from iPhone 7.\\nPros\\n-Camera top class\\n- Battery top performed\\n-Chipset no need to say as apple kind\\n-Security as you expect from apple\\n- Display super bright industry leading colour\\naccuracy and super responsive\\n-Build quality as expect from apple sturdy\\npremium durable beautiful stylish.\\n-Os most stable os in smartphone industry\\n\\nCons\\n-No 5G\\n-Display is not based on OLED technology\\n-Charger headphones and 1 apple stic...\\nREAD MORE',\n",
       " 'Amazing phone with great cameras and better battery which gives you the best performance. I just love the camera .',\n",
       " 'This is my first iOS phone. I am very happy with this product. Very much satisfied with this. I love this phone.',\n",
       " 'Previously I was using one plus 3t it was a great phone\\nAnd then I decided to upgrade I am stuck between Samsung s10 plus or iPhone 11\\nI have seen the specs and everything were good except the display it’s somewhere between 720-1080 and it’s not even an amoled it’s an LCD display\\nBut I decided to go with iPhone because I have never used an IOS device I have Been an android user from the past 9 years I ordered IPhone 11 (128gb) product red\\nMy experience after using 3 weeks\\n1. The delivery ...\\nREAD MORE',\n",
       " 'Amazing Powerful and Durable Gadget.\\n\\nI’m am very happy with the camera picture quality, Amazing face id unlocked in dark room, Strong battery with perfect screen size as you can carry easily in pocket. This is my third iPhone.\\n\\nI shifted from android Samsung Note series to iPhone because of the strong build quality and peace of mind for next 3-4 years.\\n\\nDon’t think to much just go for it and I suggest you to go for minimum 128gb variant or more 256gb.\\n\\nI’ve attached my puppy pics and no fi...\\nREAD MORE',\n",
       " 'So far it’s been an AMAZING experience coming back to iOS after nearly a decade but it’s not as versatile as android though phone is sturdy dropped it accidentally a couple of times and nothing happened fortunately camera is awesome',\n",
       " 'i11 is worthy to buy, too much happy with the product. Thank u flipkart I received the item on time..loved it..',\n",
       " 'iphone 11 is a very good phone to buy only if you can compromise for the display. The display on this is device is pretty good but you can get other options with better displays in this price segment.\\nIf you can survive with an HD+ LCD panel with thicker bezels and a notch up top then this is a very good phone for you.\\nCameras are awesome, battery backup excellent, great performance and a decent premium look. Good job Apple !',\n",
       " 'The Best Phone for the Money\\n\\nThe iPhone 11 offers superb cameras, a more durable design and excellent battery life for an affordable price.\\n\\nCompelling ultra-wide camera\\nNew Night mode is excellent\\nLong battery life',\n",
       " 'Really satisfied with the Product I received... It’s totally genuine and the packaging was also really good so if ur planning to buy just go for it.',\n",
       " 'Great iPhone very snappy experience as apple kind. Upgraded from iPhone 7.\\nPros\\n-Camera top class\\n- Battery top performed\\n-Chipset no need to say as apple kind\\n-Security as you expect from apple\\n- Display super bright industry leading colour\\naccuracy and super responsive\\n-Build quality as expect from apple sturdy\\npremium durable beautiful stylish.\\n-Os most stable os in smartphone industry\\n\\nCons\\n-No 5G\\n-Display is not based on OLED technology\\n-Charger headphones and 1 apple stic...\\nREAD MORE',\n",
       " 'Amazing phone with great cameras and better battery which gives you the best performance. I just love the camera .',\n",
       " 'This is my first iOS phone. I am very happy with this product. Very much satisfied with this. I love this phone.',\n",
       " 'Previously I was using one plus 3t it was a great phone\\nAnd then I decided to upgrade I am stuck between Samsung s10 plus or iPhone 11\\nI have seen the specs and everything were good except the display it’s somewhere between 720-1080 and it’s not even an amoled it’s an LCD display\\nBut I decided to go with iPhone because I have never used an IOS device I have Been an android user from the past 9 years I ordered IPhone 11 (128gb) product red\\nMy experience after using 3 weeks\\n1. The delivery ...\\nREAD MORE',\n",
       " 'Amazing Powerful and Durable Gadget.\\n\\nI’m am very happy with the camera picture quality, Amazing face id unlocked in dark room, Strong battery with perfect screen size as you can carry easily in pocket. This is my third iPhone.\\n\\nI shifted from android Samsung Note series to iPhone because of the strong build quality and peace of mind for next 3-4 years.\\n\\nDon’t think to much just go for it and I suggest you to go for minimum 128gb variant or more 256gb.\\n\\nI’ve attached my puppy pics and no fi...\\nREAD MORE',\n",
       " 'So far it’s been an AMAZING experience coming back to iOS after nearly a decade but it’s not as versatile as android though phone is sturdy dropped it accidentally a couple of times and nothing happened fortunately camera is awesome',\n",
       " 'i11 is worthy to buy, too much happy with the product. Thank u flipkart I received the item on time..loved it..',\n",
       " 'iphone 11 is a very good phone to buy only if you can compromise for the display. The display on this is device is pretty good but you can get other options with better displays in this price segment.\\nIf you can survive with an HD+ LCD panel with thicker bezels and a notch up top then this is a very good phone for you.\\nCameras are awesome, battery backup excellent, great performance and a decent premium look. Good job Apple !',\n",
       " 'The Best Phone for the Money\\n\\nThe iPhone 11 offers superb cameras, a more durable design and excellent battery life for an affordable price.\\n\\nCompelling ultra-wide camera\\nNew Night mode is excellent\\nLong battery life',\n",
       " 'Really satisfied with the Product I received... It’s totally genuine and the packaging was also really good so if ur planning to buy just go for it.',\n",
       " 'Great iPhone very snappy experience as apple kind. Upgraded from iPhone 7.\\nPros\\n-Camera top class\\n- Battery top performed\\n-Chipset no need to say as apple kind\\n-Security as you expect from apple\\n- Display super bright industry leading colour\\naccuracy and super responsive\\n-Build quality as expect from apple sturdy\\npremium durable beautiful stylish.\\n-Os most stable os in smartphone industry\\n\\nCons\\n-No 5G\\n-Display is not based on OLED technology\\n-Charger headphones and 1 apple stic...\\nREAD MORE',\n",
       " 'Amazing phone with great cameras and better battery which gives you the best performance. I just love the camera .',\n",
       " 'This is my first iOS phone. I am very happy with this product. Very much satisfied with this. I love this phone.',\n",
       " 'Previously I was using one plus 3t it was a great phone\\nAnd then I decided to upgrade I am stuck between Samsung s10 plus or iPhone 11\\nI have seen the specs and everything were good except the display it’s somewhere between 720-1080 and it’s not even an amoled it’s an LCD display\\nBut I decided to go with iPhone because I have never used an IOS device I have Been an android user from the past 9 years I ordered IPhone 11 (128gb) product red\\nMy experience after using 3 weeks\\n1. The delivery ...\\nREAD MORE',\n",
       " 'Amazing Powerful and Durable Gadget.\\n\\nI’m am very happy with the camera picture quality, Amazing face id unlocked in dark room, Strong battery with perfect screen size as you can carry easily in pocket. This is my third iPhone.\\n\\nI shifted from android Samsung Note series to iPhone because of the strong build quality and peace of mind for next 3-4 years.\\n\\nDon’t think to much just go for it and I suggest you to go for minimum 128gb variant or more 256gb.\\n\\nI’ve attached my puppy pics and no fi...\\nREAD MORE',\n",
       " 'So far it’s been an AMAZING experience coming back to iOS after nearly a decade but it’s not as versatile as android though phone is sturdy dropped it accidentally a couple of times and nothing happened fortunately camera is awesome',\n",
       " 'i11 is worthy to buy, too much happy with the product. Thank u flipkart I received the item on time..loved it..',\n",
       " 'iphone 11 is a very good phone to buy only if you can compromise for the display. The display on this is device is pretty good but you can get other options with better displays in this price segment.\\nIf you can survive with an HD+ LCD panel with thicker bezels and a notch up top then this is a very good phone for you.\\nCameras are awesome, battery backup excellent, great performance and a decent premium look. Good job Apple !',\n",
       " 'The Best Phone for the Money\\n\\nThe iPhone 11 offers superb cameras, a more durable design and excellent battery life for an affordable price.\\n\\nCompelling ultra-wide camera\\nNew Night mode is excellent\\nLong battery life',\n",
       " 'Really satisfied with the Product I received... It’s totally genuine and the packaging was also really good so if ur planning to buy just go for it.',\n",
       " 'Great iPhone very snappy experience as apple kind. Upgraded from iPhone 7.\\nPros\\n-Camera top class\\n- Battery top performed\\n-Chipset no need to say as apple kind\\n-Security as you expect from apple\\n- Display super bright industry leading colour\\naccuracy and super responsive\\n-Build quality as expect from apple sturdy\\npremium durable beautiful stylish.\\n-Os most stable os in smartphone industry\\n\\nCons\\n-No 5G\\n-Display is not based on OLED technology\\n-Charger headphones and 1 apple stic...\\nREAD MORE',\n",
       " 'Amazing phone with great cameras and better battery which gives you the best performance. I just love the camera .',\n",
       " 'This is my first iOS phone. I am very happy with this product. Very much satisfied with this. I love this phone.',\n",
       " 'Previously I was using one plus 3t it was a great phone\\nAnd then I decided to upgrade I am stuck between Samsung s10 plus or iPhone 11\\nI have seen the specs and everything were good except the display it’s somewhere between 720-1080 and it’s not even an amoled it’s an LCD display\\nBut I decided to go with iPhone because I have never used an IOS device I have Been an android user from the past 9 years I ordered IPhone 11 (128gb) product red\\nMy experience after using 3 weeks\\n1. The delivery ...\\nREAD MORE',\n",
       " 'Amazing Powerful and Durable Gadget.\\n\\nI’m am very happy with the camera picture quality, Amazing face id unlocked in dark room, Strong battery with perfect screen size as you can carry easily in pocket. This is my third iPhone.\\n\\nI shifted from android Samsung Note series to iPhone because of the strong build quality and peace of mind for next 3-4 years.\\n\\nDon’t think to much just go for it and I suggest you to go for minimum 128gb variant or more 256gb.\\n\\nI’ve attached my puppy pics and no fi...\\nREAD MORE',\n",
       " 'So far it’s been an AMAZING experience coming back to iOS after nearly a decade but it’s not as versatile as android though phone is sturdy dropped it accidentally a couple of times and nothing happened fortunately camera is awesome',\n",
       " 'i11 is worthy to buy, too much happy with the product. Thank u flipkart I received the item on time..loved it..',\n",
       " 'iphone 11 is a very good phone to buy only if you can compromise for the display. The display on this is device is pretty good but you can get other options with better displays in this price segment.\\nIf you can survive with an HD+ LCD panel with thicker bezels and a notch up top then this is a very good phone for you.\\nCameras are awesome, battery backup excellent, great performance and a decent premium look. Good job Apple !',\n",
       " 'The Best Phone for the Money\\n\\nThe iPhone 11 offers superb cameras, a more durable design and excellent battery life for an affordable price.\\n\\nCompelling ultra-wide camera\\nNew Night mode is excellent\\nLong battery life',\n",
       " 'Really satisfied with the Product I received... It’s totally genuine and the packaging was also really good so if ur planning to buy just go for it.',\n",
       " 'Great iPhone very snappy experience as apple kind. Upgraded from iPhone 7.\\nPros\\n-Camera top class\\n- Battery top performed\\n-Chipset no need to say as apple kind\\n-Security as you expect from apple\\n- Display super bright industry leading colour\\naccuracy and super responsive\\n-Build quality as expect from apple sturdy\\npremium durable beautiful stylish.\\n-Os most stable os in smartphone industry\\n\\nCons\\n-No 5G\\n-Display is not based on OLED technology\\n-Charger headphones and 1 apple stic...\\nREAD MORE',\n",
       " 'Amazing phone with great cameras and better battery which gives you the best performance. I just love the camera .',\n",
       " 'This is my first iOS phone. I am very happy with this product. Very much satisfied with this. I love this phone.',\n",
       " 'Previously I was using one plus 3t it was a great phone\\nAnd then I decided to upgrade I am stuck between Samsung s10 plus or iPhone 11\\nI have seen the specs and everything were good except the display it’s somewhere between 720-1080 and it’s not even an amoled it’s an LCD display\\nBut I decided to go with iPhone because I have never used an IOS device I have Been an android user from the past 9 years I ordered IPhone 11 (128gb) product red\\nMy experience after using 3 weeks\\n1. The delivery ...\\nREAD MORE',\n",
       " 'Amazing Powerful and Durable Gadget.\\n\\nI’m am very happy with the camera picture quality, Amazing face id unlocked in dark room, Strong battery with perfect screen size as you can carry easily in pocket. This is my third iPhone.\\n\\nI shifted from android Samsung Note series to iPhone because of the strong build quality and peace of mind for next 3-4 years.\\n\\nDon’t think to much just go for it and I suggest you to go for minimum 128gb variant or more 256gb.\\n\\nI’ve attached my puppy pics and no fi...\\nREAD MORE',\n",
       " 'So far it’s been an AMAZING experience coming back to iOS after nearly a decade but it’s not as versatile as android though phone is sturdy dropped it accidentally a couple of times and nothing happened fortunately camera is awesome',\n",
       " 'i11 is worthy to buy, too much happy with the product. Thank u flipkart I received the item on time..loved it..',\n",
       " 'iphone 11 is a very good phone to buy only if you can compromise for the display. The display on this is device is pretty good but you can get other options with better displays in this price segment.\\nIf you can survive with an HD+ LCD panel with thicker bezels and a notch up top then this is a very good phone for you.\\nCameras are awesome, battery backup excellent, great performance and a decent premium look. Good job Apple !',\n",
       " 'The Best Phone for the Money\\n\\nThe iPhone 11 offers superb cameras, a more durable design and excellent battery life for an affordable price.\\n\\nCompelling ultra-wide camera\\nNew Night mode is excellent\\nLong battery life',\n",
       " 'Really satisfied with the Product I received... It’s totally genuine and the packaging was also really good so if ur planning to buy just go for it.',\n",
       " 'Great iPhone very snappy experience as apple kind. Upgraded from iPhone 7.\\nPros\\n-Camera top class\\n- Battery top performed\\n-Chipset no need to say as apple kind\\n-Security as you expect from apple\\n- Display super bright industry leading colour\\naccuracy and super responsive\\n-Build quality as expect from apple sturdy\\npremium durable beautiful stylish.\\n-Os most stable os in smartphone industry\\n\\nCons\\n-No 5G\\n-Display is not based on OLED technology\\n-Charger headphones and 1 apple stic...\\nREAD MORE',\n",
       " 'Amazing phone with great cameras and better battery which gives you the best performance. I just love the camera .',\n",
       " 'This is my first iOS phone. I am very happy with this product. Very much satisfied with this. I love this phone.',\n",
       " 'Previously I was using one plus 3t it was a great phone\\nAnd then I decided to upgrade I am stuck between Samsung s10 plus or iPhone 11\\nI have seen the specs and everything were good except the display it’s somewhere between 720-1080 and it’s not even an amoled it’s an LCD display\\nBut I decided to go with iPhone because I have never used an IOS device I have Been an android user from the past 9 years I ordered IPhone 11 (128gb) product red\\nMy experience after using 3 weeks\\n1. The delivery ...\\nREAD MORE',\n",
       " 'Amazing Powerful and Durable Gadget.\\n\\nI’m am very happy with the camera picture quality, Amazing face id unlocked in dark room, Strong battery with perfect screen size as you can carry easily in pocket. This is my third iPhone.\\n\\nI shifted from android Samsung Note series to iPhone because of the strong build quality and peace of mind for next 3-4 years.\\n\\nDon’t think to much just go for it and I suggest you to go for minimum 128gb variant or more 256gb.\\n\\nI’ve attached my puppy pics and no fi...\\nREAD MORE',\n",
       " 'So far it’s been an AMAZING experience coming back to iOS after nearly a decade but it’s not as versatile as android though phone is sturdy dropped it accidentally a couple of times and nothing happened fortunately camera is awesome',\n",
       " 'i11 is worthy to buy, too much happy with the product. Thank u flipkart I received the item on time..loved it..',\n",
       " 'iphone 11 is a very good phone to buy only if you can compromise for the display. The display on this is device is pretty good but you can get other options with better displays in this price segment.\\nIf you can survive with an HD+ LCD panel with thicker bezels and a notch up top then this is a very good phone for you.\\nCameras are awesome, battery backup excellent, great performance and a decent premium look. Good job Apple !']"
      ]
     },
     "execution_count": 143,
     "metadata": {},
     "output_type": "execute_result"
    }
   ],
   "source": [
    "full_review"
   ]
  },
  {
   "cell_type": "code",
   "execution_count": 144,
   "id": "0e6c098c",
   "metadata": {},
   "outputs": [
    {
     "name": "stdout",
     "output_type": "stream",
     "text": [
      "100 100 100\n"
     ]
    }
   ],
   "source": [
    "print(len(rating),len(review_summary),len(full_review))"
   ]
  },
  {
   "cell_type": "code",
   "execution_count": 145,
   "id": "7ce4aa9c",
   "metadata": {},
   "outputs": [
    {
     "data": {
      "text/html": [
       "<div>\n",
       "<style scoped>\n",
       "    .dataframe tbody tr th:only-of-type {\n",
       "        vertical-align: middle;\n",
       "    }\n",
       "\n",
       "    .dataframe tbody tr th {\n",
       "        vertical-align: top;\n",
       "    }\n",
       "\n",
       "    .dataframe thead th {\n",
       "        text-align: right;\n",
       "    }\n",
       "</style>\n",
       "<table border=\"1\" class=\"dataframe\">\n",
       "  <thead>\n",
       "    <tr style=\"text-align: right;\">\n",
       "      <th></th>\n",
       "      <th>Rating</th>\n",
       "      <th>Review Summary</th>\n",
       "      <th>Full Review</th>\n",
       "    </tr>\n",
       "  </thead>\n",
       "  <tbody>\n",
       "    <tr>\n",
       "      <th>0</th>\n",
       "      <td>5</td>\n",
       "      <td>Brilliant</td>\n",
       "      <td>The Best Phone for the Money\\n\\nThe iPhone 11 ...</td>\n",
       "    </tr>\n",
       "    <tr>\n",
       "      <th>1</th>\n",
       "      <td>5</td>\n",
       "      <td>Simply awesome</td>\n",
       "      <td>Really satisfied with the Product I received.....</td>\n",
       "    </tr>\n",
       "    <tr>\n",
       "      <th>2</th>\n",
       "      <td>5</td>\n",
       "      <td>Best in the market!</td>\n",
       "      <td>Great iPhone very snappy experience as apple k...</td>\n",
       "    </tr>\n",
       "    <tr>\n",
       "      <th>3</th>\n",
       "      <td>5</td>\n",
       "      <td>Perfect product!</td>\n",
       "      <td>Amazing phone with great cameras and better ba...</td>\n",
       "    </tr>\n",
       "    <tr>\n",
       "      <th>4</th>\n",
       "      <td>5</td>\n",
       "      <td>Fabulous!</td>\n",
       "      <td>This is my first iOS phone. I am very happy wi...</td>\n",
       "    </tr>\n",
       "    <tr>\n",
       "      <th>...</th>\n",
       "      <td>...</td>\n",
       "      <td>...</td>\n",
       "      <td>...</td>\n",
       "    </tr>\n",
       "    <tr>\n",
       "      <th>95</th>\n",
       "      <td>5</td>\n",
       "      <td>Worth every penny</td>\n",
       "      <td>Previously I was using one plus 3t it was a gr...</td>\n",
       "    </tr>\n",
       "    <tr>\n",
       "      <th>96</th>\n",
       "      <td>5</td>\n",
       "      <td>Great product</td>\n",
       "      <td>Amazing Powerful and Durable Gadget.\\n\\nI’m am...</td>\n",
       "    </tr>\n",
       "    <tr>\n",
       "      <th>97</th>\n",
       "      <td>4</td>\n",
       "      <td>Good choice</td>\n",
       "      <td>So far it’s been an AMAZING experience coming ...</td>\n",
       "    </tr>\n",
       "    <tr>\n",
       "      <th>98</th>\n",
       "      <td>5</td>\n",
       "      <td>Worth every penny</td>\n",
       "      <td>i11 is worthy to buy, too much happy with the ...</td>\n",
       "    </tr>\n",
       "    <tr>\n",
       "      <th>99</th>\n",
       "      <td>5</td>\n",
       "      <td>Highly recommended</td>\n",
       "      <td>iphone 11 is a very good phone to buy only if ...</td>\n",
       "    </tr>\n",
       "  </tbody>\n",
       "</table>\n",
       "<p>100 rows × 3 columns</p>\n",
       "</div>"
      ],
      "text/plain": [
       "   Rating       Review Summary  \\\n",
       "0       5            Brilliant   \n",
       "1       5       Simply awesome   \n",
       "2       5  Best in the market!   \n",
       "3       5     Perfect product!   \n",
       "4       5            Fabulous!   \n",
       "..    ...                  ...   \n",
       "95      5    Worth every penny   \n",
       "96      5        Great product   \n",
       "97      4          Good choice   \n",
       "98      5    Worth every penny   \n",
       "99      5   Highly recommended   \n",
       "\n",
       "                                          Full Review  \n",
       "0   The Best Phone for the Money\\n\\nThe iPhone 11 ...  \n",
       "1   Really satisfied with the Product I received.....  \n",
       "2   Great iPhone very snappy experience as apple k...  \n",
       "3   Amazing phone with great cameras and better ba...  \n",
       "4   This is my first iOS phone. I am very happy wi...  \n",
       "..                                                ...  \n",
       "95  Previously I was using one plus 3t it was a gr...  \n",
       "96  Amazing Powerful and Durable Gadget.\\n\\nI’m am...  \n",
       "97  So far it’s been an AMAZING experience coming ...  \n",
       "98  i11 is worthy to buy, too much happy with the ...  \n",
       "99  iphone 11 is a very good phone to buy only if ...  \n",
       "\n",
       "[100 rows x 3 columns]"
      ]
     },
     "execution_count": 145,
     "metadata": {},
     "output_type": "execute_result"
    }
   ],
   "source": [
    "#creating dataframe\n",
    "iphone11=pd.DataFrame({})\n",
    "\n",
    "iphone11['Rating']=rating\n",
    "iphone11['Review Summary']=review_summary\n",
    "iphone11['Full Review']=full_review\n",
    "\n",
    "iphone11"
   ]
  },
  {
   "cell_type": "code",
   "execution_count": 146,
   "id": "c66ed400",
   "metadata": {},
   "outputs": [
    {
     "data": {
      "text/plain": [
       "100"
      ]
     },
     "execution_count": 146,
     "metadata": {},
     "output_type": "execute_result"
    }
   ],
   "source": [
    "#length of dataframe\n",
    "len(iphone11)"
   ]
  },
  {
   "cell_type": "code",
   "execution_count": 147,
   "id": "d500f56f",
   "metadata": {},
   "outputs": [],
   "source": [
    "#Q8)Python program to Scrape data for first 100 sneakers you find when you visit flipkart.com and \n",
    "#search for “sneakers” in the search field.\n",
    "#You have to scrape 4 attributes of each sneaker :\n",
    "#1. Brand\n",
    "#2. Product Description\n",
    "#3. Price\n",
    "#4. discount "
   ]
  },
  {
   "cell_type": "code",
   "execution_count": 148,
   "id": "e2353775",
   "metadata": {},
   "outputs": [],
   "source": [
    "driver=webdriver.Chrome(\"chromedriver.exe\")"
   ]
  },
  {
   "cell_type": "code",
   "execution_count": 149,
   "id": "d42b4375",
   "metadata": {},
   "outputs": [],
   "source": [
    "url8='https://www.flipkart.com/'\n",
    "driver.get(url8)"
   ]
  },
  {
   "cell_type": "code",
   "execution_count": 150,
   "id": "65fbaeb6",
   "metadata": {},
   "outputs": [],
   "source": [
    "search_product=driver.find_element_by_xpath(\"//input[@class='_3704LK']\")\n",
    "search_product.send_keys(\"Sneakers\")"
   ]
  },
  {
   "cell_type": "code",
   "execution_count": 151,
   "id": "a8706fd1",
   "metadata": {},
   "outputs": [],
   "source": [
    "search_button=driver.find_element_by_xpath(\"//button[@class='L0Z3Pu']\")\n",
    "search_button.click()"
   ]
  },
  {
   "cell_type": "code",
   "execution_count": 152,
   "id": "f7308d14",
   "metadata": {},
   "outputs": [],
   "source": [
    "#importing time\n",
    "from selenium import webdriver\n",
    "import time\n",
    "from selenium.common.exceptions import NoSuchElementException"
   ]
  },
  {
   "cell_type": "code",
   "execution_count": 153,
   "id": "ca78d648",
   "metadata": {},
   "outputs": [],
   "source": [
    "#defining variable\n",
    "brand_name=[]\n",
    "product_description=[]\n",
    "price=[]\n",
    "discount=[]"
   ]
  },
  {
   "cell_type": "code",
   "execution_count": 154,
   "id": "87e1a5e5",
   "metadata": {},
   "outputs": [],
   "source": [
    "#finding and extracting element for brand, product description, price and discount percentage\n",
    "for i in range(1,4):\n",
    "    driver.get('https://www.flipkart.com/search?q=Sneakers&otracker=search&otracker1=search&marketplace=FLIPKART&as-show=on&as=off')\n",
    "    time.sleep(1)\n",
    "    try:\n",
    "        brand=driver.find_elements_by_xpath(\"//div[@class='_2WkVRV']\")\n",
    "        for bd in brand:\n",
    "            brand_name.append(bd.text)\n",
    "    except:\n",
    "        brand_name.append('-')\n",
    "        \n",
    "    try:\n",
    "        prod_desc=driver.find_elements_by_xpath(\"//a[@class='IRpwTa']\")\n",
    "        for product in prod_desc:\n",
    "            product_description.append(product.text)\n",
    "    except:\n",
    "        product_description.append('-')\n",
    "        \n",
    "    try:\n",
    "        sneakers_price=driver.find_elements_by_xpath(\"//div[@class='_30jeq3']\")\n",
    "        for snkrs in sneakers_price:\n",
    "            price.append(snkrs.text)\n",
    "    except:\n",
    "        price.append('-')\n",
    "    \n",
    "    try:\n",
    "        discount_percentage=driver.find_elements_by_xpath(\"//div[@class='_3Ay6Sb']\")\n",
    "        for dsc in discount_percentage:\n",
    "            discount.append(dsc.text)\n",
    "    except:\n",
    "        discount.append('-')\n",
    "    \n",
    "    next_button=driver.find_element_by_xpath(\"//a[@class='_1LKTO3']\")\n",
    "    next_button.click()"
   ]
  },
  {
   "cell_type": "code",
   "execution_count": 155,
   "id": "a342f442",
   "metadata": {},
   "outputs": [
    {
     "data": {
      "text/plain": [
       "['Echor',\n",
       " 'DUCATI',\n",
       " 'Magnolia',\n",
       " 'BRUTON',\n",
       " 'Longwalk',\n",
       " 'Chevit',\n",
       " 'ASTEROID',\n",
       " 'India hub',\n",
       " 'luxury fashion',\n",
       " 'PEHANOSA',\n",
       " 'Creer',\n",
       " 'luxury fashion',\n",
       " 'BIRDE',\n",
       " 'ASTEROID',\n",
       " 'Numenzo',\n",
       " 'Echor',\n",
       " 'Numenzo',\n",
       " 'Shoes Bank',\n",
       " 'Absolute comfort',\n",
       " 'India hub',\n",
       " 'believe',\n",
       " 'RODDICK SHOES',\n",
       " 'World Wear Footwear',\n",
       " 'DUCATI',\n",
       " 'Kraasa',\n",
       " 'SCATCHITE',\n",
       " 'Airland',\n",
       " 'India hub',\n",
       " 'Numenzo',\n",
       " 'Arohi',\n",
       " 'Numenzo',\n",
       " 'BAUCHHAAR',\n",
       " 'HOC',\n",
       " 'restinfoot',\n",
       " 'VIPSJAZZY',\n",
       " 'luxury fashion',\n",
       " 'Robbie jones',\n",
       " 'RODDICK SHOES',\n",
       " 'SPARX',\n",
       " 'Nilatin',\n",
       " 'Echor',\n",
       " 'DUCATI',\n",
       " 'Magnolia',\n",
       " 'BRUTON',\n",
       " 'Longwalk',\n",
       " 'Chevit',\n",
       " 'ASTEROID',\n",
       " 'India hub',\n",
       " 'luxury fashion',\n",
       " 'PEHANOSA',\n",
       " 'Creer',\n",
       " 'luxury fashion',\n",
       " 'BIRDE',\n",
       " 'ASTEROID',\n",
       " 'Numenzo',\n",
       " 'India hub',\n",
       " 'Numenzo',\n",
       " 'Shoes Bank',\n",
       " 'Absolute comfort',\n",
       " 'Echor',\n",
       " 'believe',\n",
       " 'RODDICK SHOES',\n",
       " 'World Wear Footwear',\n",
       " 'DUCATI',\n",
       " 'Kraasa',\n",
       " 'SCATCHITE',\n",
       " 'Airland',\n",
       " 'BAUCHHAAR',\n",
       " 'Numenzo',\n",
       " 'Arohi',\n",
       " 'Numenzo',\n",
       " 'Nilatin',\n",
       " 'HOC',\n",
       " 'restinfoot',\n",
       " 'VIPSJAZZY',\n",
       " 'Echor',\n",
       " 'Robbie jones',\n",
       " 'RODDICK SHOES',\n",
       " 'SPARX',\n",
       " 'India hub',\n",
       " 'luxury fashion',\n",
       " 'Echor',\n",
       " 'Magnolia',\n",
       " 'BRUTON',\n",
       " 'Longwalk',\n",
       " 'Chevit',\n",
       " 'ASTEROID',\n",
       " 'DUCATI',\n",
       " 'luxury fashion',\n",
       " 'PEHANOSA',\n",
       " 'Creer',\n",
       " 'India hub',\n",
       " 'BIRDE',\n",
       " 'ASTEROID',\n",
       " 'Numenzo',\n",
       " 'luxury fashion',\n",
       " 'Numenzo',\n",
       " 'Shoes Bank',\n",
       " 'Absolute comfort',\n",
       " 'India hub',\n",
       " 'believe',\n",
       " 'RODDICK SHOES',\n",
       " 'World Wear Footwear',\n",
       " 'Echor',\n",
       " 'Kraasa',\n",
       " 'SCATCHITE',\n",
       " 'Airland',\n",
       " 'DUCATI',\n",
       " 'Numenzo',\n",
       " 'Arohi',\n",
       " 'Numenzo',\n",
       " 'India hub',\n",
       " 'HOC',\n",
       " 'restinfoot',\n",
       " 'VIPSJAZZY',\n",
       " 'BAUCHHAAR',\n",
       " 'Robbie jones',\n",
       " 'RODDICK SHOES',\n",
       " 'SPARX',\n",
       " 'Nilatin']"
      ]
     },
     "execution_count": 155,
     "metadata": {},
     "output_type": "execute_result"
    }
   ],
   "source": [
    "brand_name"
   ]
  },
  {
   "cell_type": "code",
   "execution_count": 156,
   "id": "e5eb9527",
   "metadata": {},
   "outputs": [
    {
     "data": {
      "text/plain": [
       "[\"Men's Sneakers Walking Shoes - Lightweight Classic Whit...\",\n",
       " 'Sneakers For Men',\n",
       " 'Sneakers For Men',\n",
       " 'Combo Pack Of 4 Casual Shoes Loafer Shoes Sneakers For ...',\n",
       " 'Men Boxer Sneakers For Men',\n",
       " 'Perfect & Affordable Combo Pack of 02 Pairs Sneakers Ou...',\n",
       " \"Original Luxury Branded Fashionable Men's Casual Walkin...\",\n",
       " 'Luxury Fashionable casual sneaker shoes Sneakers For Me...',\n",
       " 'Sneakers For Men',\n",
       " 'Luxury Fashionable casual sneaker shoes Sneakers For Me...',\n",
       " 'Birde Trendy Casual Shoes Sneakers For Men',\n",
       " \"Original Luxury Branded Fashionable Men's Casual Walkin...\",\n",
       " 'White Sneaker For Men Sneakers For Men',\n",
       " 'Mens Walking Running Shoes - Lightweight Breathable Mes...',\n",
       " \"White Sneaker For Men's/Boy's Sneakers For Men\",\n",
       " 'Sneakers For Men',\n",
       " 'Sneakers for men(black_6) Sneakers For Men',\n",
       " 'Fashion Outdoor Canvas Casual Light Weight Lace-up Even...',\n",
       " '5011-Latest Collection Stylish Casual Loafer Sneakers S...',\n",
       " 'Sneakers For Men',\n",
       " 'Series 7 Sneakers For Men',\n",
       " 'Sneakers Sneakers For Men',\n",
       " 'shoe Sneakers For Men',\n",
       " 'Sneakers For Men',\n",
       " 'Sneakers For Men',\n",
       " 'Sneakers For Men',\n",
       " 'Sneakers For Men',\n",
       " 'Sneakers For Men',\n",
       " 'Luxury Fashionable Breathable Casual Sneakers Shoes For...',\n",
       " \"Casual shoes,Sneakers for men's,shoes for men's Sneaker...\",\n",
       " 'luxury fashionable casual shoes Sneakers For Men',\n",
       " 'Sneakers For Men',\n",
       " 'Fashion Outdoor Canvas Casual Light Weight Lace-up Even...',\n",
       " 'Black Sneaker For Men Sneakers For Men',\n",
       " \"Men's Sneakers Walking Shoes - Lightweight Classic Whit...\",\n",
       " 'Sneakers For Men',\n",
       " 'Sneakers For Men',\n",
       " 'Combo Pack Of 4 Casual Shoes Loafer Shoes Sneakers For ...',\n",
       " 'Men Boxer Sneakers For Men',\n",
       " 'Perfect & Affordable Combo Pack of 02 Pairs Sneakers Ou...',\n",
       " \"Original Luxury Branded Fashionable Men's Casual Walkin...\",\n",
       " 'Luxury Fashionable casual sneaker shoes Sneakers For Me...',\n",
       " 'Sneakers For Men',\n",
       " 'Luxury Fashionable casual sneaker shoes Sneakers For Me...',\n",
       " 'Birde Trendy Casual Shoes Sneakers For Men',\n",
       " \"Original Luxury Branded Fashionable Men's Casual Walkin...\",\n",
       " 'White Sneaker For Men Sneakers For Men',\n",
       " 'Sneakers For Men',\n",
       " \"White Sneaker For Men's/Boy's Sneakers For Men\",\n",
       " 'Mens Walking Running Shoes - Lightweight Breathable Mes...',\n",
       " 'Sneakers for men(black_6) Sneakers For Men',\n",
       " 'Fashion Outdoor Canvas Casual Light Weight Lace-up Even...',\n",
       " '5011-Latest Collection Stylish Casual Loafer Sneakers S...',\n",
       " 'Sneakers For Men',\n",
       " 'Series 7 Sneakers For Men',\n",
       " 'Sneakers Sneakers For Men',\n",
       " 'shoe Sneakers For Men',\n",
       " 'Sneakers For Men',\n",
       " 'Sneakers For Men',\n",
       " 'Sneakers For Men',\n",
       " 'Sneakers For Men',\n",
       " 'Black Sneaker For Men Sneakers For Men',\n",
       " 'Luxury Fashionable Breathable Casual Sneakers Shoes For...',\n",
       " \"Casual shoes,Sneakers for men's,shoes for men's Sneaker...\",\n",
       " 'HAWK21 Sneakers For Men',\n",
       " 'Sneakers For Men',\n",
       " 'Fashion Outdoor Canvas Casual Light Weight Lace-up Even...',\n",
       " 'Sneakers For Men',\n",
       " 'Sneakers For Men',\n",
       " \"Men's Sneakers Walking Shoes - Lightweight Classic Whit...\",\n",
       " 'Sneakers For Men',\n",
       " 'Combo Pack Of 4 Casual Shoes Loafer Shoes Sneakers For ...',\n",
       " 'Men Boxer Sneakers For Men',\n",
       " 'Perfect & Affordable Combo Pack of 02 Pairs Sneakers Ou...',\n",
       " \"Original Luxury Branded Fashionable Men's Casual Walkin...\",\n",
       " 'Sneakers For Men',\n",
       " 'Luxury Fashionable casual sneaker shoes Sneakers For Me...',\n",
       " 'Sneakers For Men',\n",
       " 'Birde Trendy Casual Shoes Sneakers For Men',\n",
       " \"Original Luxury Branded Fashionable Men's Casual Walkin...\",\n",
       " 'White Sneaker For Men Sneakers For Men',\n",
       " 'Luxury Fashionable casual sneaker shoes Sneakers For Me...',\n",
       " \"White Sneaker For Men's/Boy's Sneakers For Men\",\n",
       " 'Sneakers For Men',\n",
       " 'Sneakers for men(black_6) Sneakers For Men',\n",
       " 'Fashion Outdoor Canvas Casual Light Weight Lace-up Even...',\n",
       " '5011-Latest Collection Stylish Casual Loafer Sneakers S...',\n",
       " 'Mens Walking Running Shoes - Lightweight Breathable Mes...',\n",
       " 'Series 7 Sneakers For Men',\n",
       " 'Sneakers Sneakers For Men',\n",
       " 'shoe Sneakers For Men',\n",
       " 'Sneakers For Men',\n",
       " 'Sneakers For Men',\n",
       " 'Sneakers For Men',\n",
       " 'Sneakers For Men',\n",
       " 'Sneakers For Men',\n",
       " 'Luxury Fashionable Breathable Casual Sneakers Shoes For...',\n",
       " \"Casual shoes,Sneakers for men's,shoes for men's Sneaker...\",\n",
       " 'Sneakers For Men',\n",
       " 'Sneakers For Men',\n",
       " 'Fashion Outdoor Canvas Casual Light Weight Lace-up Even...',\n",
       " 'Black Sneaker For Men Sneakers For Men']"
      ]
     },
     "execution_count": 156,
     "metadata": {},
     "output_type": "execute_result"
    }
   ],
   "source": [
    "product_description"
   ]
  },
  {
   "cell_type": "code",
   "execution_count": 157,
   "id": "a7cd9ea2",
   "metadata": {},
   "outputs": [
    {
     "data": {
      "text/plain": [
       "['₹429',\n",
       " '₹1,499',\n",
       " '₹356',\n",
       " '₹474',\n",
       " '₹236',\n",
       " '₹599',\n",
       " '₹499',\n",
       " '₹399',\n",
       " '₹379',\n",
       " '₹375',\n",
       " '₹398',\n",
       " '₹379',\n",
       " '₹359',\n",
       " '₹499',\n",
       " '₹429',\n",
       " '₹399',\n",
       " '₹449',\n",
       " '₹349',\n",
       " '₹198',\n",
       " '₹379',\n",
       " '₹449',\n",
       " '₹474',\n",
       " '₹240',\n",
       " '₹1,259',\n",
       " '₹444',\n",
       " '₹398',\n",
       " '₹264',\n",
       " '₹399',\n",
       " '₹449',\n",
       " '₹460',\n",
       " '₹398',\n",
       " '₹448',\n",
       " '₹378',\n",
       " '₹349',\n",
       " '₹379',\n",
       " '₹399',\n",
       " '₹499',\n",
       " '₹474',\n",
       " '₹649',\n",
       " '₹449',\n",
       " '₹429',\n",
       " '₹1,499',\n",
       " '₹356',\n",
       " '₹474',\n",
       " '₹236',\n",
       " '₹599',\n",
       " '₹499',\n",
       " '₹399',\n",
       " '₹379',\n",
       " '₹375',\n",
       " '₹398',\n",
       " '₹379',\n",
       " '₹359',\n",
       " '₹499',\n",
       " '₹429',\n",
       " '₹379',\n",
       " '₹449',\n",
       " '₹349',\n",
       " '₹198',\n",
       " '₹399',\n",
       " '₹449',\n",
       " '₹474',\n",
       " '₹240',\n",
       " '₹1,259',\n",
       " '₹444',\n",
       " '₹398',\n",
       " '₹264',\n",
       " '₹448',\n",
       " '₹449',\n",
       " '₹460',\n",
       " '₹398',\n",
       " '₹449',\n",
       " '₹378',\n",
       " '₹349',\n",
       " '₹379',\n",
       " '₹454',\n",
       " '₹499',\n",
       " '₹474',\n",
       " '₹649',\n",
       " '₹399',\n",
       " '₹379',\n",
       " '₹429',\n",
       " '₹356',\n",
       " '₹474',\n",
       " '₹236',\n",
       " '₹599',\n",
       " '₹499',\n",
       " '₹1,499',\n",
       " '₹379',\n",
       " '₹375',\n",
       " '₹398',\n",
       " '₹399',\n",
       " '₹359',\n",
       " '₹499',\n",
       " '₹429',\n",
       " '₹379',\n",
       " '₹449',\n",
       " '₹349',\n",
       " '₹198',\n",
       " '₹379',\n",
       " '₹449',\n",
       " '₹474',\n",
       " '₹240',\n",
       " '₹399',\n",
       " '₹444',\n",
       " '₹398',\n",
       " '₹264',\n",
       " '₹1,259',\n",
       " '₹449',\n",
       " '₹460',\n",
       " '₹398',\n",
       " '₹399',\n",
       " '₹378',\n",
       " '₹349',\n",
       " '₹379',\n",
       " '₹448',\n",
       " '₹499',\n",
       " '₹474',\n",
       " '₹649',\n",
       " '₹449']"
      ]
     },
     "execution_count": 157,
     "metadata": {},
     "output_type": "execute_result"
    }
   ],
   "source": [
    "price"
   ]
  },
  {
   "cell_type": "code",
   "execution_count": 158,
   "id": "cb60716f",
   "metadata": {},
   "outputs": [
    {
     "data": {
      "text/plain": [
       "['57% off',\n",
       " '59% off',\n",
       " '64% off',\n",
       " '86% off',\n",
       " '52% off',\n",
       " '66% off',\n",
       " '75% off',\n",
       " '80% off',\n",
       " '70% off',\n",
       " '62% off',\n",
       " '60% off',\n",
       " '87% off',\n",
       " '28% off',\n",
       " '50% off',\n",
       " '66% off',\n",
       " '60% off',\n",
       " '65% off',\n",
       " '65% off',\n",
       " '60% off',\n",
       " '70% off',\n",
       " '55% off',\n",
       " '52% off',\n",
       " '51% off',\n",
       " '65% off',\n",
       " '55% off',\n",
       " '60% off',\n",
       " '47% off',\n",
       " '80% off',\n",
       " '77% off',\n",
       " '53% off',\n",
       " '60% off',\n",
       " '55% off',\n",
       " '81% off',\n",
       " '65% off',\n",
       " '62% off',\n",
       " '80% off',\n",
       " '50% off',\n",
       " '52% off',\n",
       " '7% off',\n",
       " '65% off',\n",
       " '57% off',\n",
       " '59% off',\n",
       " '64% off',\n",
       " '86% off',\n",
       " '52% off',\n",
       " '66% off',\n",
       " '75% off',\n",
       " '80% off',\n",
       " '70% off',\n",
       " '62% off',\n",
       " '60% off',\n",
       " '87% off',\n",
       " '28% off',\n",
       " '50% off',\n",
       " '66% off',\n",
       " '70% off',\n",
       " '65% off',\n",
       " '65% off',\n",
       " '60% off',\n",
       " '60% off',\n",
       " '55% off',\n",
       " '52% off',\n",
       " '51% off',\n",
       " '65% off',\n",
       " '55% off',\n",
       " '60% off',\n",
       " '47% off',\n",
       " '55% off',\n",
       " '77% off',\n",
       " '53% off',\n",
       " '60% off',\n",
       " '65% off',\n",
       " '81% off',\n",
       " '65% off',\n",
       " '62% off',\n",
       " '54% off',\n",
       " '50% off',\n",
       " '52% off',\n",
       " '7% off',\n",
       " '80% off',\n",
       " '81% off',\n",
       " '57% off',\n",
       " '64% off',\n",
       " '86% off',\n",
       " '52% off',\n",
       " '66% off',\n",
       " '75% off',\n",
       " '59% off',\n",
       " '70% off',\n",
       " '62% off',\n",
       " '60% off',\n",
       " '80% off',\n",
       " '28% off',\n",
       " '50% off',\n",
       " '66% off',\n",
       " '87% off',\n",
       " '65% off',\n",
       " '65% off',\n",
       " '60% off',\n",
       " '70% off',\n",
       " '55% off',\n",
       " '52% off',\n",
       " '51% off',\n",
       " '60% off',\n",
       " '55% off',\n",
       " '60% off',\n",
       " '47% off',\n",
       " '65% off',\n",
       " '77% off',\n",
       " '53% off',\n",
       " '60% off',\n",
       " '80% off',\n",
       " '81% off',\n",
       " '65% off',\n",
       " '62% off',\n",
       " '55% off',\n",
       " '50% off',\n",
       " '52% off',\n",
       " '7% off',\n",
       " '65% off']"
      ]
     },
     "execution_count": 158,
     "metadata": {},
     "output_type": "execute_result"
    }
   ],
   "source": [
    "discount"
   ]
  },
  {
   "cell_type": "code",
   "execution_count": 159,
   "id": "51451ca4",
   "metadata": {},
   "outputs": [
    {
     "name": "stdout",
     "output_type": "stream",
     "text": [
      "120 102 120 120\n"
     ]
    }
   ],
   "source": [
    "print(len(brand_name),len(product_description),len(price),len(discount))"
   ]
  },
  {
   "cell_type": "code",
   "execution_count": 160,
   "id": "1cc74b67",
   "metadata": {},
   "outputs": [
    {
     "data": {
      "text/html": [
       "<div>\n",
       "<style scoped>\n",
       "    .dataframe tbody tr th:only-of-type {\n",
       "        vertical-align: middle;\n",
       "    }\n",
       "\n",
       "    .dataframe tbody tr th {\n",
       "        vertical-align: top;\n",
       "    }\n",
       "\n",
       "    .dataframe thead th {\n",
       "        text-align: right;\n",
       "    }\n",
       "</style>\n",
       "<table border=\"1\" class=\"dataframe\">\n",
       "  <thead>\n",
       "    <tr style=\"text-align: right;\">\n",
       "      <th></th>\n",
       "      <th>Brand</th>\n",
       "      <th>Product Description</th>\n",
       "      <th>Price</th>\n",
       "      <th>Discount</th>\n",
       "    </tr>\n",
       "  </thead>\n",
       "  <tbody>\n",
       "    <tr>\n",
       "      <th>0</th>\n",
       "      <td>Echor</td>\n",
       "      <td>Men's Sneakers Walking Shoes - Lightweight Cla...</td>\n",
       "      <td>₹429</td>\n",
       "      <td>57% off</td>\n",
       "    </tr>\n",
       "    <tr>\n",
       "      <th>1</th>\n",
       "      <td>DUCATI</td>\n",
       "      <td>Sneakers For Men</td>\n",
       "      <td>₹1,499</td>\n",
       "      <td>59% off</td>\n",
       "    </tr>\n",
       "    <tr>\n",
       "      <th>2</th>\n",
       "      <td>Magnolia</td>\n",
       "      <td>Sneakers For Men</td>\n",
       "      <td>₹356</td>\n",
       "      <td>64% off</td>\n",
       "    </tr>\n",
       "    <tr>\n",
       "      <th>3</th>\n",
       "      <td>BRUTON</td>\n",
       "      <td>Combo Pack Of 4 Casual Shoes Loafer Shoes Snea...</td>\n",
       "      <td>₹474</td>\n",
       "      <td>86% off</td>\n",
       "    </tr>\n",
       "    <tr>\n",
       "      <th>4</th>\n",
       "      <td>Longwalk</td>\n",
       "      <td>Men Boxer Sneakers For Men</td>\n",
       "      <td>₹236</td>\n",
       "      <td>52% off</td>\n",
       "    </tr>\n",
       "    <tr>\n",
       "      <th>...</th>\n",
       "      <td>...</td>\n",
       "      <td>...</td>\n",
       "      <td>...</td>\n",
       "      <td>...</td>\n",
       "    </tr>\n",
       "    <tr>\n",
       "      <th>95</th>\n",
       "      <td>luxury fashion</td>\n",
       "      <td>Sneakers For Men</td>\n",
       "      <td>₹379</td>\n",
       "      <td>87% off</td>\n",
       "    </tr>\n",
       "    <tr>\n",
       "      <th>96</th>\n",
       "      <td>Numenzo</td>\n",
       "      <td>Luxury Fashionable Breathable Casual Sneakers ...</td>\n",
       "      <td>₹449</td>\n",
       "      <td>65% off</td>\n",
       "    </tr>\n",
       "    <tr>\n",
       "      <th>97</th>\n",
       "      <td>Shoes Bank</td>\n",
       "      <td>Casual shoes,Sneakers for men's,shoes for men'...</td>\n",
       "      <td>₹349</td>\n",
       "      <td>65% off</td>\n",
       "    </tr>\n",
       "    <tr>\n",
       "      <th>98</th>\n",
       "      <td>Absolute comfort</td>\n",
       "      <td>Sneakers For Men</td>\n",
       "      <td>₹198</td>\n",
       "      <td>60% off</td>\n",
       "    </tr>\n",
       "    <tr>\n",
       "      <th>99</th>\n",
       "      <td>India hub</td>\n",
       "      <td>Sneakers For Men</td>\n",
       "      <td>₹379</td>\n",
       "      <td>70% off</td>\n",
       "    </tr>\n",
       "  </tbody>\n",
       "</table>\n",
       "<p>100 rows × 4 columns</p>\n",
       "</div>"
      ],
      "text/plain": [
       "               Brand                                Product Description  \\\n",
       "0              Echor  Men's Sneakers Walking Shoes - Lightweight Cla...   \n",
       "1             DUCATI                                   Sneakers For Men   \n",
       "2           Magnolia                                   Sneakers For Men   \n",
       "3             BRUTON  Combo Pack Of 4 Casual Shoes Loafer Shoes Snea...   \n",
       "4           Longwalk                         Men Boxer Sneakers For Men   \n",
       "..               ...                                                ...   \n",
       "95    luxury fashion                                   Sneakers For Men   \n",
       "96           Numenzo  Luxury Fashionable Breathable Casual Sneakers ...   \n",
       "97        Shoes Bank  Casual shoes,Sneakers for men's,shoes for men'...   \n",
       "98  Absolute comfort                                   Sneakers For Men   \n",
       "99         India hub                                   Sneakers For Men   \n",
       "\n",
       "     Price Discount  \n",
       "0     ₹429  57% off  \n",
       "1   ₹1,499  59% off  \n",
       "2     ₹356  64% off  \n",
       "3     ₹474  86% off  \n",
       "4     ₹236  52% off  \n",
       "..     ...      ...  \n",
       "95    ₹379  87% off  \n",
       "96    ₹449  65% off  \n",
       "97    ₹349  65% off  \n",
       "98    ₹198  60% off  \n",
       "99    ₹379  70% off  \n",
       "\n",
       "[100 rows x 4 columns]"
      ]
     },
     "execution_count": 160,
     "metadata": {},
     "output_type": "execute_result"
    }
   ],
   "source": [
    "sneakers=pd.DataFrame({})\n",
    "\n",
    "sneakers['Brand']=brand_name[:100]\n",
    "sneakers['Product Description']=product_description[:100]\n",
    "sneakers['Price']=price[:100]\n",
    "sneakers['Discount']=discount[:100]\n",
    "\n",
    "sneakers"
   ]
  },
  {
   "cell_type": "code",
   "execution_count": 161,
   "id": "c5073caa",
   "metadata": {},
   "outputs": [
    {
     "data": {
      "text/plain": [
       "100"
      ]
     },
     "execution_count": 161,
     "metadata": {},
     "output_type": "execute_result"
    }
   ],
   "source": [
    "len(sneakers)"
   ]
  },
  {
   "cell_type": "code",
   "execution_count": 162,
   "id": "833f52f6",
   "metadata": {},
   "outputs": [],
   "source": [
    "#Q9)Python program to Scrape data for first 100 shoes you find when you visit https://www.myntra.com/shoes and \n",
    "#set price filter to “Rs. 6649 to Rs. 13099” , Color filter to “Black”.\n",
    "#Scrape:1. Brand\n",
    "#2. Short Shoe Description\n",
    "#3. Price"
   ]
  },
  {
   "cell_type": "code",
   "execution_count": 163,
   "id": "65e87861",
   "metadata": {},
   "outputs": [],
   "source": [
    "driver=webdriver.Chrome(\"chromedriver.exe\")"
   ]
  },
  {
   "cell_type": "code",
   "execution_count": 164,
   "id": "b47ac15b",
   "metadata": {},
   "outputs": [],
   "source": [
    "url9='https://www.myntra.com/shoes'\n",
    "driver.get(url9)"
   ]
  },
  {
   "cell_type": "code",
   "execution_count": 165,
   "id": "95c84919",
   "metadata": {},
   "outputs": [],
   "source": [
    "price_filter=driver.find_element_by_xpath(\"//ul[@class='price-list']/li[2]\")\n",
    "price_filter.click()"
   ]
  },
  {
   "cell_type": "code",
   "execution_count": 166,
   "id": "4b501da6",
   "metadata": {},
   "outputs": [],
   "source": [
    "#applying color filter to black\n",
    "color_filter=driver.find_elements_by_xpath(\"//li[@class='colour-listItem']\")\n",
    "for i in color_filter:\n",
    "    if i.text=='black':\n",
    "        i.click()\n",
    "        break"
   ]
  },
  {
   "cell_type": "code",
   "execution_count": 167,
   "id": "cafe827c",
   "metadata": {},
   "outputs": [],
   "source": [
    "#importing time\n",
    "from selenium import webdriver\n",
    "import time\n",
    "from selenium.common.exceptions import NoSuchElementException"
   ]
  },
  {
   "cell_type": "code",
   "execution_count": 168,
   "id": "cf61260f",
   "metadata": {},
   "outputs": [],
   "source": [
    "#defining variables\n",
    "brand_name=[]\n",
    "short_description=[]\n",
    "price=[]"
   ]
  },
  {
   "cell_type": "code",
   "execution_count": 169,
   "id": "8be69cdd",
   "metadata": {},
   "outputs": [],
   "source": [
    "#finding and extracting elements for brand name, short description, price\n",
    "for i in range(1,3):\n",
    "    driver.get('https://www.myntra.com/shoes?f=Color%3ABlack_36454f&plaEnabled=false&rf=Price%3A6871.0_13578.0_6871.0%20TO%2013578.0%2C6897.0_13595.0_6897.0%20TO%2013595.0')\n",
    "    time.sleep(1)\n",
    "    try:\n",
    "        brand=driver.find_elements_by_xpath(\"//h3[@class='product-brand']\")\n",
    "        for name in brand:\n",
    "            brand_name.append(name.text)\n",
    "    except:\n",
    "        brand_name.append('-')\n",
    "        \n",
    "    try:\n",
    "        description=driver.find_elements_by_xpath(\"//h4[@class='product-product']\")\n",
    "        for short in description:\n",
    "            short_description.append(short.text)\n",
    "    except:\n",
    "        short_description.append('-')\n",
    "        \n",
    "    try:    \n",
    "        shoe_price=driver.find_elements_by_xpath(\"//div[@class='product-price']\")\n",
    "        for i in shoe_price:\n",
    "            price.append(i.text)\n",
    "    except:\n",
    "        price.append('-')\n",
    "        \n",
    "    next=driver.find_element_by_xpath(\"//li[@class='pagination-next']\")\n",
    "    next.click()"
   ]
  },
  {
   "cell_type": "code",
   "execution_count": 170,
   "id": "cb9bc07f",
   "metadata": {},
   "outputs": [
    {
     "data": {
      "text/plain": [
       "['Puma',\n",
       " 'Puma',\n",
       " 'Hush Puppies',\n",
       " 'Hush Puppies',\n",
       " 'Puma',\n",
       " 'Puma',\n",
       " 'Puma',\n",
       " 'Puma',\n",
       " 'UNDER ARMOUR',\n",
       " 'UNDER ARMOUR',\n",
       " 'Puma',\n",
       " 'Hush Puppies',\n",
       " 'Puma',\n",
       " 'Nike',\n",
       " 'Puma',\n",
       " 'Tommy Hilfiger',\n",
       " 'UNDER ARMOUR',\n",
       " 'UNDER ARMOUR',\n",
       " 'Tommy Hilfiger',\n",
       " 'Hush Puppies',\n",
       " 'Calvin Klein',\n",
       " 'FORCLAZ By Decathlon',\n",
       " 'UNDER ARMOUR',\n",
       " 'PUMA Motorsport',\n",
       " 'UNDER ARMOUR',\n",
       " 'J.FONTINI',\n",
       " 'ASICS',\n",
       " 'Hush Puppies',\n",
       " 'PUMA Motorsport',\n",
       " 'Quechua By Decathlon',\n",
       " 'Puma',\n",
       " 'Bugatti',\n",
       " 'J.FONTINI',\n",
       " 'ASICS',\n",
       " 'PUMA Hoops',\n",
       " 'Tommy Hilfiger',\n",
       " 'Puma',\n",
       " 'Puma',\n",
       " 'ROSSO BRUNELLO',\n",
       " 'UNDER ARMOUR',\n",
       " 'Geox',\n",
       " 'Puma',\n",
       " 'Geox',\n",
       " 'ROSSO BRUNELLO',\n",
       " 'PUMA Motorsport',\n",
       " 'Geox',\n",
       " 'Puma',\n",
       " 'PUMA Motorsport',\n",
       " 'ROSSO BRUNELLO',\n",
       " 'Saint G',\n",
       " 'Puma',\n",
       " 'Puma',\n",
       " 'Hush Puppies',\n",
       " 'Hush Puppies',\n",
       " 'Geox',\n",
       " 'Puma',\n",
       " 'ROSSO BRUNELLO',\n",
       " 'Geox',\n",
       " 'Puma',\n",
       " 'Puma',\n",
       " 'Puma',\n",
       " 'UNDER ARMOUR',\n",
       " 'UNDER ARMOUR',\n",
       " 'Puma',\n",
       " 'Geox',\n",
       " 'Hush Puppies',\n",
       " 'Puma',\n",
       " 'Nike',\n",
       " 'Puma',\n",
       " 'Tommy Hilfiger',\n",
       " 'UNDER ARMOUR',\n",
       " 'UNDER ARMOUR',\n",
       " 'Tommy Hilfiger',\n",
       " 'Hush Puppies',\n",
       " 'Calvin Klein',\n",
       " 'FORCLAZ By Decathlon',\n",
       " 'UNDER ARMOUR',\n",
       " 'PUMA Motorsport',\n",
       " 'J.FONTINI',\n",
       " 'UNDER ARMOUR',\n",
       " 'ASICS',\n",
       " 'Hush Puppies',\n",
       " 'ROSSO BRUNELLO',\n",
       " 'PUMA Motorsport',\n",
       " 'Quechua By Decathlon',\n",
       " 'Puma',\n",
       " 'Bugatti',\n",
       " 'ASICS',\n",
       " 'PUMA Hoops',\n",
       " 'Tommy Hilfiger',\n",
       " 'Puma',\n",
       " 'Puma',\n",
       " 'UNDER ARMOUR',\n",
       " 'Puma',\n",
       " 'PUMA Motorsport',\n",
       " 'Puma',\n",
       " 'PUMA Motorsport',\n",
       " 'Saint G',\n",
       " 'ASICS',\n",
       " 'ROSSO BRUNELLO']"
      ]
     },
     "execution_count": 170,
     "metadata": {},
     "output_type": "execute_result"
    }
   ],
   "source": [
    "brand_name"
   ]
  },
  {
   "cell_type": "code",
   "execution_count": 171,
   "id": "7787c1cf",
   "metadata": {},
   "outputs": [
    {
     "data": {
      "text/plain": [
       "['Men BlackTraining or Gym Shoes',\n",
       " 'Men Cell Fraction Fade Running',\n",
       " 'Men Solid Leather Formal Slip-Ons',\n",
       " 'Men Solid Leather Formal Slip-Ons',\n",
       " 'Mesh Hybrid Fuego Running',\n",
       " 'Men FUSE Training Shoes',\n",
       " 'Men Velocity Nitro Running',\n",
       " 'Women Deviate Nitro Running',\n",
       " 'Women HOVR Sonic 4 Running',\n",
       " 'Men HOVR Infinite Running',\n",
       " 'Men Football Shoes',\n",
       " 'Men Leather Slip-On Sneakers',\n",
       " 'Men Black Shoes',\n",
       " \"Men BlazerLow '77 Sneakers\",\n",
       " 'Women Eternity Nitro Running',\n",
       " 'Men Striped Leather Sneakers',\n",
       " 'Women HOVR Sonic 4 FnRn',\n",
       " 'Men HOVR Sonic STRT Tech Shoes',\n",
       " 'Men Leather Sneakers',\n",
       " 'Men Formal Derbys',\n",
       " 'Men Loafers',\n",
       " 'TREKKING 100 Boots',\n",
       " 'Women Charged Vantage ClrShft',\n",
       " 'Unisex FerrariRS-Fast Sneakers',\n",
       " 'Women Charged Assert 8 Running',\n",
       " 'Men Solid Loafers',\n",
       " 'Women GlideRide Running Shoes',\n",
       " 'Men Solid Leather Formal Derbys',\n",
       " 'Unisex Ferrari Drift8 Sneakers',\n",
       " 'Men Trekking Shoes',\n",
       " 'Men Liberate NITRO Running',\n",
       " 'Men Running Shoes',\n",
       " 'Men Black Leather Loafers',\n",
       " 'Women Running Shoes',\n",
       " 'Unisex Clyde Basketball Shoes',\n",
       " 'Men Lightweight Sneakers',\n",
       " 'Women Provoke XT FTR Shoes',\n",
       " 'Unisex RS-Z Running Shoes',\n",
       " 'Men Solid Leather Formal Monk Shoes',\n",
       " 'Women Charged Bandit 6 Running',\n",
       " 'Men Printed Slip-On Sneakers',\n",
       " 'Unisex Leather Trainers',\n",
       " 'Men Solid Sneakers',\n",
       " 'Men Leather Formal Loafers',\n",
       " 'Scuderia Ferrari A3ROCAT Shoes',\n",
       " 'Men Sneakers',\n",
       " 'Unisex Colourblocked Sneakers',\n",
       " 'Mercedes F1 Drift Cat Shoes',\n",
       " 'Men Leather Formal Loafers',\n",
       " 'Leather Block Sandals',\n",
       " 'Men BlackTraining or Gym Shoes',\n",
       " 'Men Cell Fraction Fade Running',\n",
       " 'Men Solid Leather Formal Slip-Ons',\n",
       " 'Men Solid Leather Formal Slip-Ons',\n",
       " 'Men Printed Slip-On Sneakers',\n",
       " 'Mesh Hybrid Fuego Running',\n",
       " 'Men Leather Formal Loafers',\n",
       " 'Men Solid Sneakers',\n",
       " 'Men FUSE Training Shoes',\n",
       " 'Men Velocity Nitro Running',\n",
       " 'Women Deviate Nitro Running',\n",
       " 'Women HOVR Sonic 4 Running',\n",
       " 'Men HOVR Infinite Running',\n",
       " 'Men Football Shoes',\n",
       " 'Men Sneakers',\n",
       " 'Men Leather Slip-On Sneakers',\n",
       " 'Men Black Shoes',\n",
       " \"Men BlazerLow '77 Sneakers\",\n",
       " 'Women Eternity Nitro Running',\n",
       " 'Men Striped Leather Sneakers',\n",
       " 'Women HOVR Sonic 4 FnRn',\n",
       " 'Men HOVR Sonic STRT Tech Shoes',\n",
       " 'Men Leather Sneakers',\n",
       " 'Men Formal Derbys',\n",
       " 'Men Loafers',\n",
       " 'TREKKING 100 Boots',\n",
       " 'Women Charged Vantage ClrShft',\n",
       " 'Unisex FerrariRS-Fast Sneakers',\n",
       " 'Men Solid Loafers',\n",
       " 'Women Charged Assert 8 Running',\n",
       " 'Women GlideRide Running Shoes',\n",
       " 'Men Solid Leather Formal Derbys',\n",
       " 'Men Leather Formal Loafers',\n",
       " 'Unisex Ferrari Drift8 Sneakers',\n",
       " 'Men Trekking Shoes',\n",
       " 'Men Liberate NITRO Running',\n",
       " 'Men Running Shoes',\n",
       " 'Women Running Shoes',\n",
       " 'Unisex Clyde Basketball Shoes',\n",
       " 'Men Lightweight Sneakers',\n",
       " 'Unisex RS-Z Running Shoes',\n",
       " 'Women Provoke XT FTR Shoes',\n",
       " 'Women Charged Bandit 6 Running',\n",
       " 'Unisex Leather Trainers',\n",
       " 'Scuderia Ferrari A3ROCAT Shoes',\n",
       " 'Unisex Colourblocked Sneakers',\n",
       " 'Mercedes F1 Drift Cat Shoes',\n",
       " 'Leather Block Sandals',\n",
       " 'Women GlideRide Running Shoes',\n",
       " 'Men Solid Leather Formal Monk Shoes']"
      ]
     },
     "execution_count": 171,
     "metadata": {},
     "output_type": "execute_result"
    }
   ],
   "source": [
    "short_description"
   ]
  },
  {
   "cell_type": "code",
   "execution_count": 172,
   "id": "f5dfd63c",
   "metadata": {},
   "outputs": [
    {
     "data": {
      "text/plain": [
       "['Rs. 6999',\n",
       " 'Rs. 6999',\n",
       " 'Rs. 8099Rs. 8999(10% OFF)',\n",
       " 'Rs. 8999Rs. 9999(10% OFF)',\n",
       " 'Rs. 6999',\n",
       " 'Rs. 7999',\n",
       " 'Rs. 10999',\n",
       " 'Rs. 8999Rs. 14999(40% OFF)',\n",
       " 'Rs. 7149Rs. 10999(35% OFF)',\n",
       " 'Rs. 11999',\n",
       " 'Rs. 12749Rs. 16999(25% OFF)',\n",
       " 'Rs. 6999Rs. 9999(30% OFF)',\n",
       " 'Rs. 6999',\n",
       " 'Rs. 7195',\n",
       " 'Rs. 7149Rs. 12999(45% OFF)',\n",
       " 'Rs. 7599',\n",
       " 'Rs. 10999',\n",
       " 'Rs. 9999',\n",
       " 'Rs. 6999',\n",
       " 'Rs. 8999Rs. 9999(10% OFF)',\n",
       " 'Rs. 7649Rs. 8999(15% OFF)',\n",
       " 'Rs. 6999',\n",
       " 'Rs. 7999',\n",
       " 'Rs. 9999',\n",
       " 'Rs. 6999',\n",
       " 'Rs. 8990',\n",
       " 'Rs. 11199Rs. 13999(20% OFF)',\n",
       " 'Rs. 8999Rs. 9999(10% OFF)',\n",
       " 'Rs. 7999',\n",
       " 'Rs. 9999',\n",
       " 'Rs. 9999',\n",
       " 'Rs. 9999',\n",
       " 'Rs. 8490',\n",
       " 'Rs. 8999',\n",
       " 'Rs. 8999',\n",
       " 'Rs. 6999',\n",
       " 'Rs. 7499',\n",
       " 'Rs. 9999',\n",
       " 'Rs. 12999',\n",
       " 'Rs. 8999',\n",
       " 'Rs. 10999',\n",
       " 'Rs. 9999',\n",
       " 'Rs. 9999',\n",
       " 'Rs. 11999',\n",
       " 'Rs. 7999',\n",
       " 'Rs. 9999',\n",
       " 'Rs. 6999',\n",
       " 'Rs. 7999',\n",
       " 'Rs. 12999',\n",
       " 'Rs. 10355Rs. 10900(5% OFF)',\n",
       " 'Rs. 6999',\n",
       " 'Rs. 6999',\n",
       " 'Rs. 8099Rs. 8999(10% OFF)',\n",
       " 'Rs. 8999Rs. 9999(10% OFF)',\n",
       " 'Rs. 10999',\n",
       " 'Rs. 6999',\n",
       " 'Rs. 11999',\n",
       " 'Rs. 9999',\n",
       " 'Rs. 7999',\n",
       " 'Rs. 10999',\n",
       " 'Rs. 8999Rs. 14999(40% OFF)',\n",
       " 'Rs. 7149Rs. 10999(35% OFF)',\n",
       " 'Rs. 11999',\n",
       " 'Rs. 12749Rs. 16999(25% OFF)',\n",
       " 'Rs. 9999',\n",
       " 'Rs. 6999Rs. 9999(30% OFF)',\n",
       " 'Rs. 6999',\n",
       " 'Rs. 7195',\n",
       " 'Rs. 7149Rs. 12999(45% OFF)',\n",
       " 'Rs. 7599',\n",
       " 'Rs. 10999',\n",
       " 'Rs. 9999',\n",
       " 'Rs. 6999',\n",
       " 'Rs. 8999Rs. 9999(10% OFF)',\n",
       " 'Rs. 7649Rs. 8999(15% OFF)',\n",
       " 'Rs. 6999',\n",
       " 'Rs. 7999',\n",
       " 'Rs. 9999',\n",
       " 'Rs. 8990',\n",
       " 'Rs. 6999',\n",
       " 'Rs. 11199Rs. 13999(20% OFF)',\n",
       " 'Rs. 8999Rs. 9999(10% OFF)',\n",
       " 'Rs. 12999',\n",
       " 'Rs. 7999',\n",
       " 'Rs. 9999',\n",
       " 'Rs. 9999',\n",
       " 'Rs. 9999',\n",
       " 'Rs. 8999',\n",
       " 'Rs. 8999',\n",
       " 'Rs. 6999',\n",
       " 'Rs. 9999',\n",
       " 'Rs. 7499',\n",
       " 'Rs. 8999',\n",
       " 'Rs. 9999',\n",
       " 'Rs. 7999',\n",
       " 'Rs. 6999',\n",
       " 'Rs. 7999',\n",
       " 'Rs. 10355Rs. 10900(5% OFF)',\n",
       " 'Rs. 11199Rs. 13999(20% OFF)',\n",
       " 'Rs. 12999']"
      ]
     },
     "execution_count": 172,
     "metadata": {},
     "output_type": "execute_result"
    }
   ],
   "source": [
    "price"
   ]
  },
  {
   "cell_type": "code",
   "execution_count": 173,
   "id": "8815107a",
   "metadata": {},
   "outputs": [
    {
     "name": "stdout",
     "output_type": "stream",
     "text": [
      "100 100 100\n"
     ]
    }
   ],
   "source": [
    "print(len(brand_name),len(short_description),len(price))"
   ]
  },
  {
   "cell_type": "code",
   "execution_count": 174,
   "id": "4ad1db83",
   "metadata": {},
   "outputs": [
    {
     "data": {
      "text/html": [
       "<div>\n",
       "<style scoped>\n",
       "    .dataframe tbody tr th:only-of-type {\n",
       "        vertical-align: middle;\n",
       "    }\n",
       "\n",
       "    .dataframe tbody tr th {\n",
       "        vertical-align: top;\n",
       "    }\n",
       "\n",
       "    .dataframe thead th {\n",
       "        text-align: right;\n",
       "    }\n",
       "</style>\n",
       "<table border=\"1\" class=\"dataframe\">\n",
       "  <thead>\n",
       "    <tr style=\"text-align: right;\">\n",
       "      <th></th>\n",
       "      <th>Brand</th>\n",
       "      <th>Short Description</th>\n",
       "      <th>Price</th>\n",
       "    </tr>\n",
       "  </thead>\n",
       "  <tbody>\n",
       "    <tr>\n",
       "      <th>0</th>\n",
       "      <td>Puma</td>\n",
       "      <td>Men BlackTraining or Gym Shoes</td>\n",
       "      <td>Rs. 6999</td>\n",
       "    </tr>\n",
       "    <tr>\n",
       "      <th>1</th>\n",
       "      <td>Puma</td>\n",
       "      <td>Men Cell Fraction Fade Running</td>\n",
       "      <td>Rs. 6999</td>\n",
       "    </tr>\n",
       "    <tr>\n",
       "      <th>2</th>\n",
       "      <td>Hush Puppies</td>\n",
       "      <td>Men Solid Leather Formal Slip-Ons</td>\n",
       "      <td>Rs. 8099Rs. 8999(10% OFF)</td>\n",
       "    </tr>\n",
       "    <tr>\n",
       "      <th>3</th>\n",
       "      <td>Hush Puppies</td>\n",
       "      <td>Men Solid Leather Formal Slip-Ons</td>\n",
       "      <td>Rs. 8999Rs. 9999(10% OFF)</td>\n",
       "    </tr>\n",
       "    <tr>\n",
       "      <th>4</th>\n",
       "      <td>Puma</td>\n",
       "      <td>Mesh Hybrid Fuego Running</td>\n",
       "      <td>Rs. 6999</td>\n",
       "    </tr>\n",
       "    <tr>\n",
       "      <th>...</th>\n",
       "      <td>...</td>\n",
       "      <td>...</td>\n",
       "      <td>...</td>\n",
       "    </tr>\n",
       "    <tr>\n",
       "      <th>95</th>\n",
       "      <td>Puma</td>\n",
       "      <td>Unisex Colourblocked Sneakers</td>\n",
       "      <td>Rs. 6999</td>\n",
       "    </tr>\n",
       "    <tr>\n",
       "      <th>96</th>\n",
       "      <td>PUMA Motorsport</td>\n",
       "      <td>Mercedes F1 Drift Cat Shoes</td>\n",
       "      <td>Rs. 7999</td>\n",
       "    </tr>\n",
       "    <tr>\n",
       "      <th>97</th>\n",
       "      <td>Saint G</td>\n",
       "      <td>Leather Block Sandals</td>\n",
       "      <td>Rs. 10355Rs. 10900(5% OFF)</td>\n",
       "    </tr>\n",
       "    <tr>\n",
       "      <th>98</th>\n",
       "      <td>ASICS</td>\n",
       "      <td>Women GlideRide Running Shoes</td>\n",
       "      <td>Rs. 11199Rs. 13999(20% OFF)</td>\n",
       "    </tr>\n",
       "    <tr>\n",
       "      <th>99</th>\n",
       "      <td>ROSSO BRUNELLO</td>\n",
       "      <td>Men Solid Leather Formal Monk Shoes</td>\n",
       "      <td>Rs. 12999</td>\n",
       "    </tr>\n",
       "  </tbody>\n",
       "</table>\n",
       "<p>100 rows × 3 columns</p>\n",
       "</div>"
      ],
      "text/plain": [
       "              Brand                    Short Description  \\\n",
       "0              Puma       Men BlackTraining or Gym Shoes   \n",
       "1              Puma       Men Cell Fraction Fade Running   \n",
       "2      Hush Puppies    Men Solid Leather Formal Slip-Ons   \n",
       "3      Hush Puppies    Men Solid Leather Formal Slip-Ons   \n",
       "4              Puma            Mesh Hybrid Fuego Running   \n",
       "..              ...                                  ...   \n",
       "95             Puma        Unisex Colourblocked Sneakers   \n",
       "96  PUMA Motorsport          Mercedes F1 Drift Cat Shoes   \n",
       "97          Saint G                Leather Block Sandals   \n",
       "98            ASICS        Women GlideRide Running Shoes   \n",
       "99   ROSSO BRUNELLO  Men Solid Leather Formal Monk Shoes   \n",
       "\n",
       "                          Price  \n",
       "0                      Rs. 6999  \n",
       "1                      Rs. 6999  \n",
       "2     Rs. 8099Rs. 8999(10% OFF)  \n",
       "3     Rs. 8999Rs. 9999(10% OFF)  \n",
       "4                      Rs. 6999  \n",
       "..                          ...  \n",
       "95                     Rs. 6999  \n",
       "96                     Rs. 7999  \n",
       "97   Rs. 10355Rs. 10900(5% OFF)  \n",
       "98  Rs. 11199Rs. 13999(20% OFF)  \n",
       "99                    Rs. 12999  \n",
       "\n",
       "[100 rows x 3 columns]"
      ]
     },
     "execution_count": 174,
     "metadata": {},
     "output_type": "execute_result"
    }
   ],
   "source": [
    "#creating dataframe\n",
    "shoes=pd.DataFrame()\n",
    "\n",
    "shoes['Brand']=brand_name\n",
    "shoes['Short Description']=short_description\n",
    "shoes['Price']=price\n",
    "\n",
    "shoes"
   ]
  },
  {
   "cell_type": "code",
   "execution_count": 175,
   "id": "3e835891",
   "metadata": {},
   "outputs": [
    {
     "data": {
      "text/plain": [
       "100"
      ]
     },
     "execution_count": 175,
     "metadata": {},
     "output_type": "execute_result"
    }
   ],
   "source": [
    "#length of dataframe\n",
    "len(shoes)"
   ]
  },
  {
   "cell_type": "code",
   "execution_count": 176,
   "id": "b45cc3e6",
   "metadata": {},
   "outputs": [],
   "source": [
    "#Q10)Python program to Scrape data for first 10 laptops you find when you visit https://www.amazon.in/ and \n",
    "#set cpu type filter to “Intel core i7” and \"Intel core i9\".\n",
    "#Scrape:1.Title\n",
    "#2. Ratings\n",
    "#3. Price"
   ]
  },
  {
   "cell_type": "code",
   "execution_count": 177,
   "id": "998c8eca",
   "metadata": {},
   "outputs": [],
   "source": [
    "driver=webdriver.Chrome(\"chromedriver.exe\")"
   ]
  },
  {
   "cell_type": "code",
   "execution_count": 178,
   "id": "1a38c88c",
   "metadata": {},
   "outputs": [],
   "source": [
    "url_10='https://www.amazon.in/'\n",
    "driver.get(url_10)"
   ]
  },
  {
   "cell_type": "code",
   "execution_count": 179,
   "id": "84770974",
   "metadata": {},
   "outputs": [
    {
     "data": {
      "text/plain": [
       "<selenium.webdriver.remote.webelement.WebElement (session=\"e7b0109c919848d21a21f4e5f28b58ba\", element=\"6e327f8a-93b0-46dd-9980-6658468db641\")>"
      ]
     },
     "execution_count": 179,
     "metadata": {},
     "output_type": "execute_result"
    }
   ],
   "source": [
    "search_laptop=driver.find_element_by_id('twotabsearchtextbox')\n",
    "search_laptop"
   ]
  },
  {
   "cell_type": "code",
   "execution_count": 180,
   "id": "af6db9e7",
   "metadata": {},
   "outputs": [],
   "source": [
    "search_laptop.send_keys(\"Laptop\")"
   ]
  },
  {
   "cell_type": "code",
   "execution_count": 181,
   "id": "0d366cc7",
   "metadata": {},
   "outputs": [],
   "source": [
    "search_button=driver.find_element_by_xpath(\"//div[@class='nav-search-submit nav-sprite']\")\n",
    "search_button.click()"
   ]
  },
  {
   "cell_type": "code",
   "execution_count": 182,
   "id": "ec3fe2d9",
   "metadata": {},
   "outputs": [],
   "source": [
    "#locating Inter core i7 filter\n",
    "filter_button=driver.find_elements_by_xpath(\"//a[@class='a-link-normal s-navigation-item']/span\")\n",
    "for i in filter_button:\n",
    "    if i.text=='Intel Core i7':\n",
    "        i.click()\n",
    "        break"
   ]
  },
  {
   "cell_type": "code",
   "execution_count": 183,
   "id": "9123de5f",
   "metadata": {},
   "outputs": [],
   "source": [
    "#locating Inter core i9 filter\n",
    "filter_button=driver.find_elements_by_xpath(\"//a[@class='a-link-normal s-navigation-item']/span\")\n",
    "for i in filter_button:\n",
    "    if i.text=='Intel Core i9':\n",
    "        i.click()\n",
    "        break"
   ]
  },
  {
   "cell_type": "code",
   "execution_count": 184,
   "id": "734d9c68",
   "metadata": {},
   "outputs": [
    {
     "data": {
      "text/plain": [
       "['https://www.amazon.in/gp/slredirect/picassoRedirect.html/ref=pa_sp_atf_computers_sr_pg1_1?ie=UTF8&adId=A10081262K6KZOZ37JXYV&url=%2FHP-Processor-13-3-inch-Touchscreen-13-ba1018TX%2Fdp%2FB091FJ13Q5%2Fref%3Dsr_1_1_sspa%3Fdchild%3D1%26keywords%3DLaptop%26qid%3D1631544497%26refinements%3Dp_n_feature_thirteen_browse-bin%253A12598163031%257C16757432031%26rnid%3D12598141031%26s%3Dcomputers%26sr%3D1-1-spons%26psc%3D1&qualifier=1631544497&id=3603734496680404&widgetName=sp_atf',\n",
       " 'https://www.amazon.in/gp/slredirect/picassoRedirect.html/ref=pa_sp_atf_computers_sr_pg1_1?ie=UTF8&adId=A00766773MSMG2AO2CGIQ&url=%2FAcer-Swift-Display-Touchscreen-Notebook%2Fdp%2FB08M41DHTV%2Fref%3Dsr_1_2_sspa%3Fdchild%3D1%26keywords%3DLaptop%26qid%3D1631544497%26refinements%3Dp_n_feature_thirteen_browse-bin%253A12598163031%257C16757432031%26rnid%3D12598141031%26s%3Dcomputers%26sr%3D1-2-spons%26psc%3D1&qualifier=1631544497&id=3603734496680404&widgetName=sp_atf',\n",
       " 'https://www.amazon.in/Notebook-Horizon-i7-10510U-Graphics-XMA1904-AF/dp/B089DFJHZ8/ref=sr_1_3?dchild=1&keywords=Laptop&qid=1631544497&refinements=p_n_feature_thirteen_browse-bin%3A12598163031%7C16757432031&rnid=12598141031&s=computers&sr=1-3',\n",
       " 'https://www.amazon.in/Lenovo-IdeaPad-Windows-Graphics-82H1002CIN/dp/B094XJPQ6N/ref=sr_1_4?dchild=1&keywords=Laptop&qid=1631544497&refinements=p_n_feature_thirteen_browse-bin%3A12598163031%7C16757432031&rnid=12598141031&s=computers&sr=1-4',\n",
       " 'https://www.amazon.in/ASUS-Dash-F15-15-6-inch-i7-11370H-FX516PC-HN062T/dp/B096KZ11KK/ref=sr_1_5?dchild=1&keywords=Laptop&qid=1631544497&refinements=p_n_feature_thirteen_browse-bin%3A12598163031%7C16757432031&rnid=12598141031&s=computers&sr=1-5',\n",
       " 'https://www.amazon.in/ASUS-Dash-F15-15-6-inch-i7-11370H-FX516PC-HN063T/dp/B096KVJ5PC/ref=sr_1_6?dchild=1&keywords=Laptop&qid=1631544497&refinements=p_n_feature_thirteen_browse-bin%3A12598163031%7C16757432031&rnid=12598141031&s=computers&sr=1-6',\n",
       " 'https://www.amazon.in/HP-Pavilion-13-3-inch-Ceramic-13-bb0078TU/dp/B09839P9XB/ref=sr_1_7?dchild=1&keywords=Laptop&qid=1631544497&refinements=p_n_feature_thirteen_browse-bin%3A12598163031%7C16757432031&rnid=12598141031&s=computers&sr=1-7',\n",
       " 'https://www.amazon.in/Fujitsu-33-78cm-Convertible-Graphics-4ZR1D71993/dp/B098P4M233/ref=sr_1_8?dchild=1&keywords=Laptop&qid=1631544497&refinements=p_n_feature_thirteen_browse-bin%3A12598163031%7C16757432031&rnid=12598141031&s=computers&sr=1-8',\n",
       " 'https://www.amazon.in/Lenovo-Touchscreen-Fingerprint-Graphite-82HS0092IN/dp/B08WRZQBQ6/ref=sr_1_9?dchild=1&keywords=Laptop&qid=1631544497&refinements=p_n_feature_thirteen_browse-bin%3A12598163031%7C16757432031&rnid=12598141031&s=computers&sr=1-9',\n",
       " 'https://www.amazon.in/ASUS-17-3-inch-i7-11800H-GeForce-RTX-3050-Ti-FX766HE-HX022T/dp/B0987S6PG1/ref=sr_1_10?dchild=1&keywords=Laptop&qid=1631544497&refinements=p_n_feature_thirteen_browse-bin%3A12598163031%7C16757432031&rnid=12598141031&s=computers&sr=1-10',\n",
       " 'https://www.amazon.in/MSI-i7-10750H-IPS-Level-Windows-10SCXR-654IN/dp/B093L8QGL7/ref=sr_1_11?dchild=1&keywords=Laptop&qid=1631544497&refinements=p_n_feature_thirteen_browse-bin%3A12598163031%7C16757432031&rnid=12598141031&s=computers&sr=1-11',\n",
       " 'https://www.amazon.in/Lenovo-IdeaPad-i7-11370H-39-63cm-82K1004EIN/dp/B09BJ7GD7B/ref=sr_1_12?dchild=1&keywords=Laptop&qid=1631544497&refinements=p_n_feature_thirteen_browse-bin%3A12598163031%7C16757432031&rnid=12598141031&s=computers&sr=1-12',\n",
       " 'https://www.amazon.in/Lenovo-IdeaPad-250Nits-Graphics-81Y4019EIN/dp/B097TZMG7R/ref=sr_1_13?dchild=1&keywords=Laptop&qid=1631544497&refinements=p_n_feature_thirteen_browse-bin%3A12598163031%7C16757432031&rnid=12598141031&s=computers&sr=1-13',\n",
       " 'https://www.amazon.in/Dell-i7-1165G7-Inspiron-5410-D560469WIN9S/dp/B095S9NJ4S/ref=sr_1_14?dchild=1&keywords=Laptop&qid=1631544497&refinements=p_n_feature_thirteen_browse-bin%3A12598163031%7C16757432031&rnid=12598141031&s=computers&sr=1-14',\n",
       " 'https://www.amazon.in/Lenovo-Touchscreen-Fingerprint-Aluminium-82BH004HIN/dp/B08P3M22QQ/ref=sr_1_15?dchild=1&keywords=Laptop&qid=1631544497&refinements=p_n_feature_thirteen_browse-bin%3A12598163031%7C16757432031&rnid=12598141031&s=computers&sr=1-15',\n",
       " 'https://www.amazon.in/HP-Processor-13-3-inch-Touchscreen-13-ba1018TX/dp/B091FJ13Q5/ref=sr_1_16?dchild=1&keywords=Laptop&qid=1631544497&refinements=p_n_feature_thirteen_browse-bin%3A12598163031%7C16757432031&rnid=12598141031&s=computers&sr=1-16',\n",
       " 'https://www.amazon.in/ASUS-TUF-F15-i7-11370H-FX516PE-HN088TS/dp/B094RDLV5P/ref=sr_1_17?dchild=1&keywords=Laptop&qid=1631544497&refinements=p_n_feature_thirteen_browse-bin%3A12598163031%7C16757432031&rnid=12598141031&s=computers&sr=1-17',\n",
       " 'https://www.amazon.in/HP-Pavilion-Graphics-35-56cms-14-dv0058TU/dp/B08WB857GB/ref=sr_1_18?dchild=1&keywords=Laptop&qid=1631544497&refinements=p_n_feature_thirteen_browse-bin%3A12598163031%7C16757432031&rnid=12598141031&s=computers&sr=1-18',\n",
       " 'https://www.amazon.in/Lenovo-i7-9750HF-39-63cm-Windows-81SY00U7IN/dp/B092MRQCJ6/ref=sr_1_19?dchild=1&keywords=Laptop&qid=1631544497&refinements=p_n_feature_thirteen_browse-bin%3A12598163031%7C16757432031&rnid=12598141031&s=computers&sr=1-19',\n",
       " 'https://www.amazon.in/ASUS-VivoBook-i7-1165G7-Graphics-S433EA-AM701TS/dp/B08PQTZB3Z/ref=sr_1_20?dchild=1&keywords=Laptop&qid=1631544497&refinements=p_n_feature_thirteen_browse-bin%3A12598163031%7C16757432031&rnid=12598141031&s=computers&sr=1-20',\n",
       " 'https://www.amazon.in/15-6-inch-HP-ZBook-15-Workstation/dp/B09DQ4DZ5N/ref=sr_1_21?dchild=1&keywords=Laptop&qid=1631544497&refinements=p_n_feature_thirteen_browse-bin%3A12598163031%7C16757432031&rnid=12598141031&s=computers&sr=1-21',\n",
       " 'https://www.amazon.in/ASUS-i7-1165G7-35-56cms-Graphics-UX325EA-KG701TS/dp/B095C55Q7P/ref=sr_1_22?dchild=1&keywords=Laptop&qid=1631544497&refinements=p_n_feature_thirteen_browse-bin%3A12598163031%7C16757432031&rnid=12598141031&s=computers&sr=1-22',\n",
       " 'https://www.amazon.in/Acer-39-62cms-Graphics-GeForce-AN515-57/dp/B09C8HZMW2/ref=sr_1_23?dchild=1&keywords=Laptop&qid=1631544497&refinements=p_n_feature_thirteen_browse-bin%3A12598163031%7C16757432031&rnid=12598141031&s=computers&sr=1-23',\n",
       " 'https://www.amazon.in/13-3-inch-TOUCHSCREEN-Integrated-Graphics-EliteBook/dp/B09CMZLGYG/ref=sr_1_24?dchild=1&keywords=Laptop&qid=1631544497&refinements=p_n_feature_thirteen_browse-bin%3A12598163031%7C16757432031&rnid=12598141031&s=computers&sr=1-24',\n",
       " 'https://www.amazon.in/HP-Pavilion-Touchscreen-Convertible-14-dw1040TU/dp/B08R843NHL/ref=sr_1_25?dchild=1&keywords=Laptop&qid=1631544497&refinements=p_n_feature_thirteen_browse-bin%3A12598163031%7C16757432031&rnid=12598141031&s=computers&sr=1-25',\n",
       " 'https://www.amazon.in/Lenovo-i7-10750H-39-63cm-Windows-82AU00PNIN/dp/B097TY6PTN/ref=sr_1_26?dchild=1&keywords=Laptop&qid=1631544497&refinements=p_n_feature_thirteen_browse-bin%3A12598163031%7C16757432031&rnid=12598141031&s=computers&sr=1-26',\n",
       " 'https://www.amazon.in/gp/slredirect/picassoRedirect.html/ref=pa_sp_btf_computers_sr_pg1_1?ie=UTF8&adId=A05737051OF0H1VKX0MNY&url=%2FASUS-TUF-F15-i7-11370H-FX516PE-HN088TS%2Fdp%2FB094RDLV5P%2Fref%3Dsr_1_27_sspa%3Fdchild%3D1%26keywords%3DLaptop%26qid%3D1631544497%26refinements%3Dp_n_feature_thirteen_browse-bin%253A12598163031%257C16757432031%26rnid%3D12598141031%26s%3Dcomputers%26sr%3D1-27-spons%26psc%3D1&qualifier=1631544497&id=3603734496680404&widgetName=sp_btf']"
      ]
     },
     "execution_count": 184,
     "metadata": {},
     "output_type": "execute_result"
    }
   ],
   "source": [
    "urls=[]\n",
    "for i in driver.find_elements_by_xpath(\"//a[@class='a-link-normal a-text-normal']\"):\n",
    "    urls.append(i.get_attribute(\"href\"))\n",
    "urls"
   ]
  },
  {
   "cell_type": "code",
   "execution_count": 185,
   "id": "020b9b1b",
   "metadata": {},
   "outputs": [
    {
     "data": {
      "text/plain": [
       "27"
      ]
     },
     "execution_count": 185,
     "metadata": {},
     "output_type": "execute_result"
    }
   ],
   "source": [
    "len(urls)"
   ]
  },
  {
   "cell_type": "code",
   "execution_count": 186,
   "id": "28bd8738",
   "metadata": {},
   "outputs": [],
   "source": [
    "#importing time\n",
    "from selenium import webdriver\n",
    "import time\n",
    "from selenium.common.exceptions import NoSuchElementException"
   ]
  },
  {
   "cell_type": "code",
   "execution_count": 187,
   "id": "bd95bbc8",
   "metadata": {},
   "outputs": [],
   "source": [
    "#defining variables\n",
    "title=[]\n",
    "price=[]\n",
    "ratings=[]\n"
   ]
  },
  {
   "cell_type": "code",
   "execution_count": 188,
   "id": "9d2f89c5",
   "metadata": {},
   "outputs": [],
   "source": [
    "for i in urls:\n",
    "    driver.get(i)\n",
    "    time.sleep(1)\n",
    "    #fetch laptop title\n",
    "    try:\n",
    "        title_tag=driver.find_element_by_xpath(\"//span[@class='a-size-large product-title-word-break']\")\n",
    "        title.append(title_tag.text)\n",
    "    except:\n",
    "        title.append('-')\n",
    "        \n",
    "    #fetch laptop price\n",
    "    try:\n",
    "        price_tag=driver.find_element_by_xpath(\"//span[@class='a-size-medium a-color-price priceBlockBuyingPriceString']\")\n",
    "        price.append(price_tag.text)\n",
    "    except:\n",
    "        price.append('-')\n",
    "        \n",
    "     #fetch laptop ratings\n",
    "    try:\n",
    "        rating=driver.find_element_by_xpath(\"//a[@class='a-popover-trigger a-declarative']/i/span\")\n",
    "        ratings.append(rating.text)\n",
    "    except:\n",
    "        ratings.append('-')"
   ]
  },
  {
   "cell_type": "code",
   "execution_count": 189,
   "id": "b8fa6578",
   "metadata": {},
   "outputs": [
    {
     "data": {
      "text/plain": [
       "['HP Envy 11th Gen Core i7 Processor 13.3-inch (33.78 cms) FHD Touchscreen Laptop (16GB/1TB SSD/Win 10/NVIDIA MX450 2GB/Natural Silver/1.3 kg), 13-ba1018TX',\n",
       " 'Acer Swift 5 14\" (35.56cms) Full HD IPS Display with Touchscreen Ultra Thin and Light Notebook (Intel i7 - 11th Gen/16GB RAM/1TB SSD/Win10/Intel Iris Xe Graphics/1.05 Kg/Mist Green), SF514-55TA',\n",
       " 'Mi Notebook Horizon Edition 14 Intel Core i7-10510U 10th Gen Thin and Light Laptop(8GB/512GB SSD/Windows 10/Nvidia MX350 2GB Graphics/Grey/1.35Kg)(Without Webcam) XMA1904-AF',\n",
       " 'Lenovo IdeaPad S540 11th Gen Intel Core i7 13.3\" QHD IPS Thin & Light Laptop (16GB/512GB SSD/Windows 10/MS Office 2019/Intel Iris Xe Graphics/Iron Grey/1.28Kg), 82H1002CIN',\n",
       " 'ASUS TUF Dash F15 (2021), 15.6-inch (39.62 cms) FHD 144Hz, Intel Core i7-11370H 11th Gen, RTX 3050 4GB Graphics Gaming Laptop (16GB RAM/512GB SSD/Windows 10/White/2 kg), FX516PC-HN062T',\n",
       " 'ASUS TUF Dash F15 (2021), 15.6-inch (39.62 cms) FHD 144Hz, Intel Core i7-11370H 11th Gen, RTX 3050 4GB Graphics Gaming Laptop (16GB RAM/512GB SSD/Windows 10/Gray/2 kg), FX516PC-HN063T',\n",
       " 'HP Pavilion 13(2021) 11th Gen Intel Core i7 Laptop, 16GB RAM, 1TB SSD, 13.3-inch(33.8 cm) FHD Screen, Win 10, MS Office, Ceramic White, 1.24 Kg (13-bb0078TU)',\n",
       " 'Fujitsu UH-X 11th Gen Intel Core i7 13.3” (33.78cm) FHD IPS 400Nits 2-in1 Touch Convertible Laptop (16GB/1TB SSD/Win10/Office/Iris Xe Graphics/Backlit Kb/Black/997gms), 4ZR1D71993',\n",
       " 'Lenovo IdeaPad Flex 5 11th Gen Intel Core i7 14\"(35.56cm) FHD IPS 2-in-1 Touchscreen Laptop(16GB/512GB SSD/Windows 10/MS Office/Lenovo Digital Pen/Fingerprint Reader/Graphite Grey/1.5Kg), 82HS0092IN',\n",
       " 'ASUS TUF Gaming F17 (2021), 17.3-inch (43.94 cms) FHD 144Hz, Intel Core i7-11800H 11th Gen, GeForce RTX 3050 Ti 4GB Graphics, Gaming Laptop (16GB/1TB SSD/Windows 10/Eclipse Gray/2.6 Kg) FX766HE-HX022T',\n",
       " 'MSI GF75 Thin, Intel i7-10750H, 17.3\" (43.9 cm) FHD IPS-Level 144Hz Panel Laptop (8GB/512GB NVMe SSD/Windows 10 Home/Nvidia GTX1650 4GB GDDR6/Black/2.2Kg), 10SCXR-654IN',\n",
       " 'Lenovo IdeaPad Gaming 3 11th Gen Intel Core i7-11370H 15.6\" (39.63cm) FHD IPS Gaming Laptop (8GB/512GB SSD/Windows 10/NVIDIA RTX 3050 4GB/120Hz Refresh Display/Shadow Black/2.25Kg), 82K1004EIN',\n",
       " 'Lenovo IdeaPad Gaming 3 Intel Core i7 10th Gen 15.6\" FHD IPS 250Nits Gaming Laptop (8GB/512GB SSD/Win10/NVIDIA GTX 1650 4GB GDDR6 Graphics/120Hz/Onyx Black/2.2Kg), 81Y4019EIN',\n",
       " 'Dell 14 (2021) i7-1165G7 2in1 Touch Screen Laptop, 16Gb RAM, 512Gb SSD, 14” (35.56 cms) FHD Display, Win 10 + MSO, Backlit KB + FPR + Active Pen, Silver Metal Color (Inspiron 5410, D560469WIN9S)',\n",
       " 'Lenovo Yoga 7 11th Gen Intel Core i7-1165G7 14\" (35.56cm) FHD IPS 2-in-1 Touchscreen Laptop (16GB/512GB SSD/Windows 10/MS Office/Lenovo Digital Pen/Fingerprint Reader/Slate Grey/1.43Kg), 82BH004HIN',\n",
       " 'HP Envy 11th Gen Core i7 Processor 13.3-inch (33.78 cms) FHD Touchscreen Laptop (16GB/1TB SSD/Win 10/NVIDIA MX450 2GB/Natural Silver/1.3 kg), 13-ba1018TX',\n",
       " 'ASUS TUF Dash F15 (2021), 15.6\" (39.62 cms) FHD 144Hz, Intel Core i7-11370H 11th Gen, RTX 3050 Ti 4GB Graphics, Gaming Laptop (16GB/1TB SSD/Office 2019/Windows 10/Eclipse Gray/2 kg), FX516PE-HN088TS',\n",
       " 'HP Pavilion (2021) Thin & Light 11th Gen Core i7 Laptop, 16 GB RAM, 1TB SSD, Iris Xe Graphics, 14\" (35.56cms) FHD Screen, Windows 10, MS Office, Backlit Keyboard (14-dv0058TU)',\n",
       " 'Lenovo Legion Y540 9th Gen Intel Core i7-9750HF 15.6\" (39.63cm) FHD IPS Gaming Laptop (8GB/1TB + 256GB SSD/Windows 10/NVIDIA GTX 1650 4GB/60Hz Refresh Display/Raven Black/2.3Kg), 81SY00U7IN',\n",
       " 'ASUS VivoBook S S14 Intel Core i7-1165G7 11th Gen, 14-inch FHD Thin and Light Laptop (8GB RAM/512GB SSD + 32GB Optane Memory/Windows 10/Office 2019/Iris X Graphics- Indie Black/1.4 Kg), S433EA-AM701TS',\n",
       " '(Renewed) Hp Intel 4th Gen Core i7 15.6-inch (39.56 Cms) 1920 x 1080 Laptop (32GB RAM /1TB SSD/Windows 10 Pro/MS Office/NVIDIA Graphics/ Gray/2.5kg) HP ZBook 15 Mobile Workstation',\n",
       " 'ASUS ZenBook 13 OLED (2021) Intel Core i7-1165G7 11th Gen 14\" (35.56cms) FHD Thin and Light Laptop (16GB/1TB SSD/Windows 10/Office 2019/Intel Iris Xᵉ Graphics/Lilac Mist/1.14 kg), UX325EA-KG701TS',\n",
       " 'Acer Nitro 5 Core i7 11th Gen 15.6\" (39.62cms) Full HD IPS Gaming Laptop (16 GB/256GB SSD/1 TB HDD/Win 10/4 GB Graphics/NVIDIA GeForce RTX 3050 Ti/144 Hz, Black, 2.4 kg) AN515-57',\n",
       " '(Renewed) Hp Intel 7th Gen Core i7 13.3-inch (33.78 Cms) 1920 x 1080 TOUCHSCREEN Laptop (16GB RAM/1TB SSD/Windows 10 Pro/MS Office/Intel HD Integrated Graphics/ Silver/1.2Kg) EliteBook x360 G2',\n",
       " 'HP Pavilion x360 (2021) 14\" (35.56cms) FHD Touchscreen Laptop, 11th Gen Core i7, 8 GB RAM, 512GB SSD, 2-in-1 Convertible, Windows 10, MS Office, Finger Print Reader (14-dw1040TU)',\n",
       " 'Lenovo Legion 5 10th Gen Intel Core i7-10750H 15.6\" (39.63cm) FHD IPS Gaming Laptop (16GB/512GB SSD/Windows 10/NVIDIA GTX 1650 4GB/120Hz Refresh Display/Phantom Black/2.3Kg), 82AU00PNIN',\n",
       " 'ASUS TUF Dash F15 (2021), 15.6\" (39.62 cms) FHD 144Hz, Intel Core i7-11370H 11th Gen, RTX 3050 Ti 4GB Graphics, Gaming Laptop (16GB/1TB SSD/Office 2019/Windows 10/Eclipse Gray/2 kg), FX516PE-HN088TS']"
      ]
     },
     "execution_count": 189,
     "metadata": {},
     "output_type": "execute_result"
    }
   ],
   "source": [
    "title"
   ]
  },
  {
   "cell_type": "code",
   "execution_count": 190,
   "id": "9d924f06",
   "metadata": {},
   "outputs": [
    {
     "data": {
      "text/plain": [
       "['₹1,23,350.00',\n",
       " '₹94,999.00',\n",
       " '₹57,990.00',\n",
       " '₹77,990.00',\n",
       " '-',\n",
       " '-',\n",
       " '₹92,990.00',\n",
       " '₹1,07,990.00',\n",
       " '₹98,500.00',\n",
       " '₹1,13,990.00',\n",
       " '₹74,990.00',\n",
       " '₹84,990.00',\n",
       " '₹73,990.00',\n",
       " '-',\n",
       " '₹1,19,499.00',\n",
       " '₹1,23,350.00',\n",
       " '₹95,990.00',\n",
       " '-',\n",
       " '₹72,990.00',\n",
       " '₹81,290.00',\n",
       " '₹53,999.00',\n",
       " '₹1,01,908.00',\n",
       " '₹1,05,227.00',\n",
       " '₹63,999.00',\n",
       " '-',\n",
       " '-',\n",
       " '₹95,990.00']"
      ]
     },
     "execution_count": 190,
     "metadata": {},
     "output_type": "execute_result"
    }
   ],
   "source": [
    "price"
   ]
  },
  {
   "cell_type": "code",
   "execution_count": 191,
   "id": "be461b2e",
   "metadata": {},
   "outputs": [
    {
     "data": {
      "text/plain": [
       "['',\n",
       " '',\n",
       " '',\n",
       " '',\n",
       " '-',\n",
       " '',\n",
       " '',\n",
       " '',\n",
       " '',\n",
       " '-',\n",
       " '',\n",
       " '',\n",
       " '',\n",
       " '',\n",
       " '',\n",
       " '',\n",
       " '',\n",
       " '',\n",
       " '',\n",
       " '',\n",
       " '',\n",
       " '',\n",
       " '',\n",
       " '-',\n",
       " '',\n",
       " '',\n",
       " '']"
      ]
     },
     "execution_count": 191,
     "metadata": {},
     "output_type": "execute_result"
    }
   ],
   "source": [
    "ratings"
   ]
  },
  {
   "cell_type": "code",
   "execution_count": 192,
   "id": "5323b7e9",
   "metadata": {},
   "outputs": [
    {
     "name": "stdout",
     "output_type": "stream",
     "text": [
      "27 27 27\n"
     ]
    }
   ],
   "source": [
    "print(len(title),len(price),len(ratings))"
   ]
  },
  {
   "cell_type": "code",
   "execution_count": 193,
   "id": "f4a55789",
   "metadata": {},
   "outputs": [
    {
     "data": {
      "text/html": [
       "<div>\n",
       "<style scoped>\n",
       "    .dataframe tbody tr th:only-of-type {\n",
       "        vertical-align: middle;\n",
       "    }\n",
       "\n",
       "    .dataframe tbody tr th {\n",
       "        vertical-align: top;\n",
       "    }\n",
       "\n",
       "    .dataframe thead th {\n",
       "        text-align: right;\n",
       "    }\n",
       "</style>\n",
       "<table border=\"1\" class=\"dataframe\">\n",
       "  <thead>\n",
       "    <tr style=\"text-align: right;\">\n",
       "      <th></th>\n",
       "      <th>Title</th>\n",
       "      <th>Price</th>\n",
       "      <th>Rating</th>\n",
       "    </tr>\n",
       "  </thead>\n",
       "  <tbody>\n",
       "    <tr>\n",
       "      <th>0</th>\n",
       "      <td>HP Envy 11th Gen Core i7 Processor 13.3-inch (...</td>\n",
       "      <td>₹1,23,350.00</td>\n",
       "      <td></td>\n",
       "    </tr>\n",
       "    <tr>\n",
       "      <th>1</th>\n",
       "      <td>Acer Swift 5 14\" (35.56cms) Full HD IPS Displa...</td>\n",
       "      <td>₹94,999.00</td>\n",
       "      <td></td>\n",
       "    </tr>\n",
       "    <tr>\n",
       "      <th>2</th>\n",
       "      <td>Mi Notebook Horizon Edition 14 Intel Core i7-1...</td>\n",
       "      <td>₹57,990.00</td>\n",
       "      <td></td>\n",
       "    </tr>\n",
       "    <tr>\n",
       "      <th>3</th>\n",
       "      <td>Lenovo IdeaPad S540 11th Gen Intel Core i7 13....</td>\n",
       "      <td>₹77,990.00</td>\n",
       "      <td></td>\n",
       "    </tr>\n",
       "    <tr>\n",
       "      <th>4</th>\n",
       "      <td>ASUS TUF Dash F15 (2021), 15.6-inch (39.62 cms...</td>\n",
       "      <td>-</td>\n",
       "      <td>-</td>\n",
       "    </tr>\n",
       "    <tr>\n",
       "      <th>5</th>\n",
       "      <td>ASUS TUF Dash F15 (2021), 15.6-inch (39.62 cms...</td>\n",
       "      <td>-</td>\n",
       "      <td></td>\n",
       "    </tr>\n",
       "    <tr>\n",
       "      <th>6</th>\n",
       "      <td>HP Pavilion 13(2021) 11th Gen Intel Core i7 La...</td>\n",
       "      <td>₹92,990.00</td>\n",
       "      <td></td>\n",
       "    </tr>\n",
       "    <tr>\n",
       "      <th>7</th>\n",
       "      <td>Fujitsu UH-X 11th Gen Intel Core i7 13.3” (33....</td>\n",
       "      <td>₹1,07,990.00</td>\n",
       "      <td></td>\n",
       "    </tr>\n",
       "    <tr>\n",
       "      <th>8</th>\n",
       "      <td>Lenovo IdeaPad Flex 5 11th Gen Intel Core i7 1...</td>\n",
       "      <td>₹98,500.00</td>\n",
       "      <td></td>\n",
       "    </tr>\n",
       "    <tr>\n",
       "      <th>9</th>\n",
       "      <td>ASUS TUF Gaming F17 (2021), 17.3-inch (43.94 c...</td>\n",
       "      <td>₹1,13,990.00</td>\n",
       "      <td>-</td>\n",
       "    </tr>\n",
       "  </tbody>\n",
       "</table>\n",
       "</div>"
      ],
      "text/plain": [
       "                                               Title         Price Rating\n",
       "0  HP Envy 11th Gen Core i7 Processor 13.3-inch (...  ₹1,23,350.00       \n",
       "1  Acer Swift 5 14\" (35.56cms) Full HD IPS Displa...    ₹94,999.00       \n",
       "2  Mi Notebook Horizon Edition 14 Intel Core i7-1...    ₹57,990.00       \n",
       "3  Lenovo IdeaPad S540 11th Gen Intel Core i7 13....    ₹77,990.00       \n",
       "4  ASUS TUF Dash F15 (2021), 15.6-inch (39.62 cms...             -      -\n",
       "5  ASUS TUF Dash F15 (2021), 15.6-inch (39.62 cms...             -       \n",
       "6  HP Pavilion 13(2021) 11th Gen Intel Core i7 La...    ₹92,990.00       \n",
       "7  Fujitsu UH-X 11th Gen Intel Core i7 13.3” (33....  ₹1,07,990.00       \n",
       "8  Lenovo IdeaPad Flex 5 11th Gen Intel Core i7 1...    ₹98,500.00       \n",
       "9  ASUS TUF Gaming F17 (2021), 17.3-inch (43.94 c...  ₹1,13,990.00      -"
      ]
     },
     "execution_count": 193,
     "metadata": {},
     "output_type": "execute_result"
    }
   ],
   "source": [
    "#creating dataframe\n",
    "Laptop=pd.DataFrame({})\n",
    "\n",
    "Laptop['Title']=title[:10]\n",
    "Laptop['Price']=price[:10]\n",
    "Laptop['Rating']=ratings[:10]\n",
    "\n",
    "Laptop"
   ]
  },
  {
   "cell_type": "code",
   "execution_count": 194,
   "id": "4ef5fb48",
   "metadata": {},
   "outputs": [
    {
     "data": {
      "text/plain": [
       "10"
      ]
     },
     "execution_count": 194,
     "metadata": {},
     "output_type": "execute_result"
    }
   ],
   "source": [
    "#dataframe length\n",
    "len(Laptop)"
   ]
  }
 ],
 "metadata": {
  "kernelspec": {
   "display_name": "Python 3",
   "language": "python",
   "name": "python3"
  },
  "language_info": {
   "codemirror_mode": {
    "name": "ipython",
    "version": 3
   },
   "file_extension": ".py",
   "mimetype": "text/x-python",
   "name": "python",
   "nbconvert_exporter": "python",
   "pygments_lexer": "ipython3",
   "version": "3.8.8"
  }
 },
 "nbformat": 4,
 "nbformat_minor": 5
}
